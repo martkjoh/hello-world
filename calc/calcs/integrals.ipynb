{
 "metadata": {
  "orig_nbformat": 2,
  "kernelspec": {
   "name": "python3",
   "display_name": "Python 3"
  }
 },
 "nbformat": 4,
 "nbformat_minor": 2,
 "cells": [
  {
   "cell_type": "code",
   "execution_count": null,
   "metadata": {},
   "outputs": [],
   "source": [
    "# Simplify, expand, partial fraction decomp\n",
    "from sympy import simplify, expand, apart, symbols\n",
    "from sympy import oo, sin, cos, exp, log, cosh, sinh, tan, tanh, sqrt, pi\n",
    "from sympy import integrate, Function\n",
    "\n",
    "import sympy as sp\n",
    "\n",
    "x, y = symbols(\"x, y\")\n",
    "integrate((x**2 + 1) / (x**3 + 3), x)"
   ]
  },
  {
   "cell_type": "code",
   "execution_count": null,
   "metadata": {},
   "outputs": [],
   "source": [
    "# The eigentime of a massive particle falling from the \n",
    "# event horizon to the singularity of a swartzschild black hole\n",
    "integrate(sqrt(x / (1 - x)), (x, 1, 0))"
   ]
  },
  {
   "cell_type": "code",
   "execution_count": null,
   "metadata": {},
   "outputs": [],
   "source": [
    "a = symbols(\"a\", positive=True)\n",
    "integrate(x**5*exp(-x / a), (x, 0, oo))"
   ]
  },
  {
   "cell_type": "code",
   "execution_count": null,
   "metadata": {},
   "outputs": [],
   "source": [
    "expr = 1/(1 - 1/x)**(sp.Rational(1/2))\n",
    "expr"
   ]
  },
  {
   "cell_type": "code",
   "execution_count": null,
   "metadata": {},
   "outputs": [],
   "source": [
    "integrate(expr, (x, 1, 0))"
   ]
  }
 ]
}