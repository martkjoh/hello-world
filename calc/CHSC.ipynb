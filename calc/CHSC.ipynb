{
 "metadata": {
  "language_info": {
   "codemirror_mode": {
    "name": "ipython",
    "version": 3
   },
   "file_extension": ".py",
   "mimetype": "text/x-python",
   "name": "python",
   "nbconvert_exporter": "python",
   "pygments_lexer": "ipython3",
   "version": "3.8.6-final"
  },
  "orig_nbformat": 2,
  "kernelspec": {
   "name": "python38664bitb4df3fc486b545038be32c2c0a9bfd81",
   "display_name": "Python 3.8.6 64-bit"
  }
 },
 "nbformat": 4,
 "nbformat_minor": 2,
 "cells": [
  {
   "cell_type": "code",
   "execution_count": 54,
   "metadata": {},
   "outputs": [
    {
     "output_type": "display_data",
     "data": {
      "text/plain": "<IPython.core.display.Latex object>",
      "text/latex": "$$T=\\left[\\begin{matrix}\\frac{p}{4} & 0 & 0 & 0\\\\0 & \\frac{1}{2} - \\frac{p}{4} & \\frac{p}{2} - \\frac{1}{2} & 0\\\\0 & \\frac{p}{2} - \\frac{1}{2} & \\frac{1}{2} - \\frac{p}{4} & 0\\\\0 & 0 & 0 & \\frac{p}{4}\\end{matrix}\\right]$$"
     },
     "metadata": {}
    },
    {
     "output_type": "stream",
     "name": "stdout",
     "text": [
      "<class 'sympy.core.add.Add'>\n"
     ]
    },
    {
     "output_type": "display_data",
     "data": {
      "text/plain": "<IPython.core.display.Latex object>",
      "text/latex": "$$S=p - 1$$"
     },
     "metadata": {}
    },
    {
     "output_type": "display_data",
     "data": {
      "text/plain": "<IPython.core.display.Latex object>",
      "text/latex": "$$S=\\frac{\\sqrt{2} \\left(p - 1\\right)}{2}$$"
     },
     "metadata": {}
    },
    {
     "output_type": "display_data",
     "data": {
      "text/plain": "<IPython.core.display.Latex object>",
      "text/latex": "$$S=\\frac{\\sqrt{2} \\left(p - 1\\right)}{2}$$"
     },
     "metadata": {}
    },
    {
     "output_type": "display_data",
     "data": {
      "text/plain": "<IPython.core.display.Latex object>",
      "text/latex": "$$S=0$$"
     },
     "metadata": {}
    }
   ],
   "source": [
    "import sympy as sp\n",
    "import numpy as np\n",
    "import opt_einsum as oe\n",
    "\n",
    "from numpy import cos, sin, pi\n",
    "from sympy import sqrt\n",
    "from calcs.tensors import print_tensor, print_scalar\n",
    "from calcs.spinor import s\n",
    "\n",
    "def Tr(A):\n",
    "    return oe.contract(\"ii -> \", A, backend=\"object\")[None][0]\n",
    "\n",
    "p = sp.symbols(\"p\")\n",
    "b_00 = np.array([1, 0, 0, 0])\n",
    "b_11 = np.array([0, 0, 0, 1])\n",
    "b_10 = np.array([0, 0, 1, 0])\n",
    "b_01 = np.array([0, 1, 0, 0])\n",
    "\n",
    "I = np.identity(4, dtype=type(sp.Rational(1)))\n",
    "Ia = np.identity(2, dtype=type(sp.Rational(1)))\n",
    "\n",
    "\n",
    "AB = 1 / sqrt(2) * (b_01 - b_10)\n",
    "rho = sp.Rational(1, 4) * p * I + (1 - p) * np.outer(AB, AB)\n",
    "\n",
    "print_tensor(rho)\n",
    "b = np.kron([1, 0], [1, 0])\n",
    "P = s[2]\n",
    "Q = 1/sqrt(2)* s[2] + 1/sqrt(2)* s[0]\n",
    "R = s[2]\n",
    "S = 1/sqrt(2)* s[2] - 1/sqrt(2)* s[0]\n",
    "PR = np.kron(P, R)\n",
    "QR = np.kron(Q, R)\n",
    "PS = np.kron(P, S)\n",
    "QS = np.kron(Q, S)\n",
    "\n",
    "print(type(Tr(rho @ PR)))\n",
    "print_scalar(Tr(rho @ PR))\n",
    "print_scalar(sp.simplify(Tr(rho @ QR)))\n",
    "print_scalar(sp.simplify(Tr(rho @ PS)))\n",
    "print_scalar(Tr(rho @ QS))"
   ]
  }
 ]
}