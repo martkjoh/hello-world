{
 "metadata": {
  "language_info": {
   "codemirror_mode": {
    "name": "ipython",
    "version": 3
   },
   "file_extension": ".py",
   "mimetype": "text/x-python",
   "name": "python",
   "nbconvert_exporter": "python",
   "pygments_lexer": "ipython3",
   "version": "3.8.6-final"
  },
  "orig_nbformat": 2,
  "kernelspec": {
   "name": "python38664bitb4df3fc486b545038be32c2c0a9bfd81",
   "display_name": "Python 3.8.6 64-bit"
  }
 },
 "nbformat": 4,
 "nbformat_minor": 2,
 "cells": [
  {
   "cell_type": "code",
   "execution_count": null,
   "metadata": {},
   "outputs": [],
   "source": [
    "import sympy as sp\n",
    "import numpy as np\n",
    "import opt_einsum as oe\n",
    "\n",
    "from numpy import cos, sin, pi\n",
    "from sympy import sqrt\n",
    "from calcs.tensors import print_tensor, print_scalar\n",
    "from calcs.spinor import s\n",
    "\n",
    "def Tr(A):\n",
    "    return oe.contract(\"ii -> \", A, backend=\"object\")[None][0]\n",
    "\n",
    "p = sp.symbols(\"p\")\n",
    "b0 = np.array([1, 0])\n",
    "b1 = np.array([0, 1])\n",
    "b = np.array([\n",
    "    [np.kron(b0, b0), np.kron(b0, b1)],\n",
    "    [np.kron(b1, b0), np.kron(b1, b1)]\n",
    "])\n",
    "\n",
    "I = np.identity(4, dtype=type(sp.Rational(1)))\n",
    "AB = 1 / sqrt(2) * (b[0, 1] - b[1, 0])\n",
    "rho = sp.Rational(1, 4) * p * I + (1 - p) * np.outer(AB, AB)\n",
    "print_tensor(np.outer(AB, AB))\n",
    "print_tensor(rho)\n",
    "\n",
    "P = s[2]\n",
    "Q = 1/sqrt(2)* s[2] + 1/sqrt(2)* s[0]\n",
    "R = s[2]\n",
    "S = 1/sqrt(2)* s[2] - 1/sqrt(2)* s[0]\n",
    "\n",
    "print_scalar(Tr(rho @ np.kron(P, R)))\n",
    "print_scalar(sp.simplify(Tr(rho @ np.kron(Q, R))))\n",
    "print_scalar(sp.simplify(Tr(rho @ np.kron(P, S))))\n",
    "print_scalar(Tr(rho @ np.kron(Q, S)))"
   ]
  }
 ]
}