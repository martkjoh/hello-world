{
 "metadata": {
  "orig_nbformat": 2,
  "kernelspec": {
   "name": "python3",
   "display_name": "Python 3"
  }
 },
 "nbformat": 4,
 "nbformat_minor": 2,
 "cells": [
  {
   "cell_type": "code",
   "execution_count": 1,
   "metadata": {},
   "outputs": [],
   "source": [
    "from calcs.tensors import *"
   ]
  },
  {
   "cell_type": "code",
   "execution_count": 2,
   "metadata": {},
   "outputs": [
    {
     "output_type": "display_data",
     "data": {
      "text/plain": "<IPython.core.display.Latex object>",
      "text/latex": "$\\left[\\begin{matrix}r^{2} & 0\\\\0 & r^{2} \\sin^{2}{\\left(θ \\right)}\\end{matrix}\\right]$"
     },
     "metadata": {}
    },
    {
     "output_type": "display_data",
     "data": {
      "text/plain": "<IPython.core.display.Latex object>",
      "text/latex": "$\\Gamma^θ_{\\alpha \\beta} = \\left[\\begin{matrix}0 & 0\\\\0 & - \\frac{\\sin{\\left(2 θ \\right)}}{2}\\end{matrix}\\right]$"
     },
     "metadata": {}
    },
    {
     "output_type": "display_data",
     "data": {
      "text/plain": "<IPython.core.display.Latex object>",
      "text/latex": "$\\Gamma^φ_{\\alpha \\beta} = \\left[\\begin{matrix}0 & \\frac{1}{\\tan{\\left(θ \\right)}}\\\\\\frac{1}{\\tan{\\left(θ \\right)}} & 0\\end{matrix}\\right]$"
     },
     "metadata": {}
    },
    {
     "output_type": "stream",
     "name": "stdout",
     "text": [
      "Ricci tensor:\n"
     ]
    },
    {
     "output_type": "display_data",
     "data": {
      "text/plain": "<IPython.core.display.Latex object>",
      "text/latex": "$\\left[\\begin{matrix}-1 & 0\\\\0 & - \\sin^{2}{\\left(θ \\right)}\\end{matrix}\\right]$"
     },
     "metadata": {}
    },
    {
     "output_type": "stream",
     "name": "stdout",
     "text": [
      "Ricci scalar:\n"
     ]
    },
    {
     "output_type": "display_data",
     "data": {
      "text/plain": "<IPython.core.display.Latex object>",
      "text/latex": "$- \\frac{2}{r^{2}}$"
     },
     "metadata": {}
    }
   ],
   "source": [
    "two_sphere()"
   ]
  },
  {
   "cell_type": "code",
   "execution_count": 3,
   "metadata": {},
   "outputs": [
    {
     "output_type": "display_data",
     "data": {
      "text/plain": "<IPython.core.display.Latex object>",
      "text/latex": "$$g=\\left[\\begin{matrix}-1 & 0 & 0 & 0\\\\0 & \\frac{a^{2}{\\left(t \\right)}}{- k r^{2} + 1} & 0 & 0\\\\0 & 0 & r^{2} a^{2}{\\left(t \\right)} & 0\\\\0 & 0 & 0 & r^{2} a^{2}{\\left(t \\right)} \\sin^{2}{\\left(θ \\right)}\\end{matrix}\\right]$$"
     },
     "metadata": {}
    },
    {
     "output_type": "display_data",
     "data": {
      "text/plain": "<IPython.core.display.Latex object>",
      "text/latex": "$$g^{-1}=\\left[\\begin{matrix}-1 & 0 & 0 & 0\\\\0 & \\frac{- k r^{2} + 1}{a^{2}{\\left(t \\right)}} & 0 & 0\\\\0 & 0 & \\frac{1}{r^{2} a^{2}{\\left(t \\right)}} & 0\\\\0 & 0 & 0 & \\frac{1}{r^{2} a^{2}{\\left(t \\right)} \\sin^{2}{\\left(θ \\right)}}\\end{matrix}\\right]$$"
     },
     "metadata": {}
    },
    {
     "output_type": "display_data",
     "data": {
      "text/plain": "<IPython.core.display.Latex object>",
      "text/latex": "$\\Gamma^t_{\\alpha \\beta} = \\left[\\begin{matrix}0 & 0 & 0 & 0\\\\0 & - \\frac{a{\\left(t \\right)} \\frac{d}{d t} a{\\left(t \\right)}}{k r^{2} - 1} & 0 & 0\\\\0 & 0 & r^{2} a{\\left(t \\right)} \\frac{d}{d t} a{\\left(t \\right)} & 0\\\\0 & 0 & 0 & r^{2} a{\\left(t \\right)} \\sin^{2}{\\left(θ \\right)} \\frac{d}{d t} a{\\left(t \\right)}\\end{matrix}\\right]$"
     },
     "metadata": {}
    },
    {
     "output_type": "display_data",
     "data": {
      "text/plain": "<IPython.core.display.Latex object>",
      "text/latex": "$\\Gamma^r_{\\alpha \\beta} = \\left[\\begin{matrix}0 & \\frac{\\frac{d}{d t} a{\\left(t \\right)}}{a{\\left(t \\right)}} & 0 & 0\\\\\\frac{\\frac{d}{d t} a{\\left(t \\right)}}{a{\\left(t \\right)}} & - \\frac{k r}{k r^{2} - 1} & 0 & 0\\\\0 & 0 & k r^{3} - r & 0\\\\0 & 0 & 0 & r \\left(k r^{2} - 1\\right) \\sin^{2}{\\left(θ \\right)}\\end{matrix}\\right]$"
     },
     "metadata": {}
    },
    {
     "output_type": "display_data",
     "data": {
      "text/plain": "<IPython.core.display.Latex object>",
      "text/latex": "$\\Gamma^θ_{\\alpha \\beta} = \\left[\\begin{matrix}0 & 0 & \\frac{\\frac{d}{d t} a{\\left(t \\right)}}{a{\\left(t \\right)}} & 0\\\\0 & 0 & \\frac{1}{r} & 0\\\\\\frac{\\frac{d}{d t} a{\\left(t \\right)}}{a{\\left(t \\right)}} & \\frac{1}{r} & 0 & 0\\\\0 & 0 & 0 & - \\frac{\\sin{\\left(2 θ \\right)}}{2}\\end{matrix}\\right]$"
     },
     "metadata": {}
    },
    {
     "output_type": "display_data",
     "data": {
      "text/plain": "<IPython.core.display.Latex object>",
      "text/latex": "$\\Gamma^φ_{\\alpha \\beta} = \\left[\\begin{matrix}0 & 0 & 0 & \\frac{\\frac{d}{d t} a{\\left(t \\right)}}{a{\\left(t \\right)}}\\\\0 & 0 & 0 & \\frac{1}{r}\\\\0 & 0 & 0 & \\frac{1}{\\tan{\\left(θ \\right)}}\\\\\\frac{\\frac{d}{d t} a{\\left(t \\right)}}{a{\\left(t \\right)}} & \\frac{1}{r} & \\frac{1}{\\tan{\\left(θ \\right)}} & 0\\end{matrix}\\right]$"
     },
     "metadata": {}
    },
    {
     "output_type": "display_data",
     "data": {
      "text/plain": "<IPython.core.display.Latex object>",
      "text/latex": "$$R=- \\frac{6 k + 6 a{\\left(t \\right)} \\frac{d^{2}}{d t^{2}} a{\\left(t \\right)} + 6 \\left(\\frac{d}{d t} a{\\left(t \\right)}\\right)^{2}}{a^{2}{\\left(t \\right)}}$$"
     },
     "metadata": {}
    }
   ],
   "source": [
    "# FRW - metric\n",
    "\n",
    "t, r, th, ph = symbols(\"t, r, θ, φ\")\n",
    "x1 = r * cos(ph) * sin(th)\n",
    "x2 = r * sin(ph) * sin(th)\n",
    "x3 = r * cos(th)\n",
    "\n",
    "eta = -1 * sp.diag(1, -1, -1, -1)\n",
    "var = (t, r, th, ph)\n",
    "J = Matrix([t, x1, x2, x3]).jacobian(var)\n",
    "g = np.array(simplify(J.T *eta* J))\n",
    "\n",
    "k = sp.symbols(\"k\")\n",
    "a = sp.Function(\"a\")(t)\n",
    "g[1, 1] *= a**2 / (1 - k*r**2)\n",
    "g[2, 2] *= a**2\n",
    "g[3, 3] *= a**2\n",
    "\n",
    "\n",
    "g_inv = get_g_inv(g)\n",
    "print_tensor(g, \"g\")\n",
    "print_tensor(g_inv, \"g^{-1}\")\n",
    "C = Christoffel(g, g_inv, var)\n",
    "Christoffel_print(C, var)\n",
    "\n",
    "Rie = Riemann_tensor(C, var)\n",
    "Ricci = Ricci_tensor(Rie)\n",
    "R = Ricci_scalar(Ricci, g_inv)\n",
    "print_scalar(sp.simplify(R), \"R\")\n"
   ]
  },
  {
   "cell_type": "code",
   "execution_count": 4,
   "metadata": {},
   "outputs": [
    {
     "output_type": "display_data",
     "data": {
      "text/plain": "<IPython.core.display.Latex object>",
      "text/latex": "$$T=\\left[\\begin{matrix}- \\rho{\\left(t \\right)} & 0 & 0 & 0\\\\0 & \\frac{P{\\left(t \\right)} a^{2}{\\left(t \\right)}}{- k r^{2} + 1} & 0 & 0\\\\0 & 0 & r^{2} P{\\left(t \\right)} a^{2}{\\left(t \\right)} & 0\\\\0 & 0 & 0 & r^{2} P{\\left(t \\right)} a^{2}{\\left(t \\right)} \\sin^{2}{\\left(θ \\right)}\\end{matrix}\\right]$$"
     },
     "metadata": {}
    }
   ],
   "source": [
    "rho = sp.Function(\"\\\\rho\")(t)\n",
    "P = sp.Function(\"P\")(t)\n",
    "T = lower_indx(np.diag([rho, P, P, P]), g, 1, 2)\n",
    "print_tensor(T)"
   ]
  },
  {
   "cell_type": "code",
   "execution_count": 5,
   "metadata": {},
   "outputs": [
    {
     "output_type": "display_data",
     "data": {
      "text/plain": "<IPython.core.display.Latex object>",
      "text/latex": "$$eq_1=\\Lambda - \\kappa \\rho{\\left(t \\right)} + \\frac{3 k}{a^{2}{\\left(t \\right)}} + \\frac{3 \\left(\\frac{d}{d t} a{\\left(t \\right)}\\right)^{2}}{a^{2}{\\left(t \\right)}}$$"
     },
     "metadata": {}
    },
    {
     "output_type": "display_data",
     "data": {
      "text/plain": "<IPython.core.display.Latex object>",
      "text/latex": "$$eq_2=4 \\Lambda - 3 \\kappa P{\\left(t \\right)} - \\kappa \\rho{\\left(t \\right)} + \\frac{6 k}{a^{2}{\\left(t \\right)}} + \\frac{6 \\frac{d^{2}}{d t^{2}} a{\\left(t \\right)}}{a{\\left(t \\right)}} + \\frac{6 \\left(\\frac{d}{d t} a{\\left(t \\right)}\\right)^{2}}{a^{2}{\\left(t \\right)}}$$"
     },
     "metadata": {}
    }
   ],
   "source": [
    "L, K = sp.symbols(\"\\Lambda, \\kappa\")\n",
    "fried_eq = (Ricci - R * g / 2 + L * g - K * T) @ g_inv\n",
    "print_scalar(sp.simplify(fried_eq[0, 0]), \"eq_1\")\n",
    "eq2 = sum([fried_eq[i, i] for i in range(4)])\n",
    "print_scalar(simplify(eq2), \"eq_2\")"
   ]
  },
  {
   "cell_type": "code",
   "execution_count": 10,
   "metadata": {},
   "outputs": [
    {
     "output_type": "display_data",
     "data": {
      "text/plain": "<IPython.core.display.Latex object>",
      "text/latex": "$\\Gamma^t_{\\alpha \\beta} = \\left[\\begin{matrix}0 & \\frac{g}{g x + 1}\\\\\\frac{g}{g x + 1} & 0\\end{matrix}\\right]$"
     },
     "metadata": {}
    },
    {
     "output_type": "display_data",
     "data": {
      "text/plain": "<IPython.core.display.Latex object>",
      "text/latex": "$\\Gamma^x_{\\alpha \\beta} = \\left[\\begin{matrix}g \\left(g x + 1\\right) & 0\\\\0 & 0\\end{matrix}\\right]$"
     },
     "metadata": {}
    },
    {
     "output_type": "display_data",
     "data": {
      "text/plain": "<IPython.core.display.Latex object>",
      "text/latex": "$$T=\\left[\\begin{matrix}0 & 0\\\\0 & 0\\end{matrix}\\right]$$"
     },
     "metadata": {}
    }
   ],
   "source": [
    "t, x, g= sp.symbols(\"t, x, g\")\n",
    "g = np.array([\n",
    "    [-(1 + g * x)**2, 0],\n",
    "    [0, 1]\n",
    "])\n",
    "\n",
    "var = (t, x)\n",
    "g_inv = get_g_inv(g)\n",
    "C = Christoffel(g, g_inv, var)\n",
    "Christoffel_print(C, var)\n",
    "Rie = Riemann_tensor(C, var)\n",
    "Ricci = Ricci_tensor(Rie)\n",
    "print_tensor(Ricci)"
   ]
  }
 ]
}