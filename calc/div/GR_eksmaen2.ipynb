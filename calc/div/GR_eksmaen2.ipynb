{
 "metadata": {
  "language_info": {
   "codemirror_mode": {
    "name": "ipython",
    "version": 3
   },
   "file_extension": ".py",
   "mimetype": "text/x-python",
   "name": "python",
   "nbconvert_exporter": "python",
   "pygments_lexer": "ipython3",
   "version": "3.8.6-final"
  },
  "orig_nbformat": 2,
  "kernelspec": {
   "name": "python38664bitb4df3fc486b545038be32c2c0a9bfd81",
   "display_name": "Python 3.8.6 64-bit"
  }
 },
 "nbformat": 4,
 "nbformat_minor": 2,
 "cells": [
  {
   "cell_type": "code",
   "execution_count": 4,
   "metadata": {},
   "outputs": [],
   "source": [
    "from calcs.tensors import *"
   ]
  },
  {
   "cell_type": "code",
   "execution_count": null,
   "metadata": {},
   "outputs": [],
   "source": []
  },
  {
   "cell_type": "code",
   "execution_count": 13,
   "metadata": {},
   "outputs": [
    {
     "output_type": "display_data",
     "data": {
      "text/plain": "<IPython.core.display.Latex object>",
      "text/latex": "$$T=\\left[\\begin{matrix}0 & 0 & 0\\\\0 & 1 & 0\\\\0 & 0 & 1\\end{matrix}\\right]$$"
     },
     "metadata": {}
    }
   ],
   "source": [
    "n = np.array([1, 0, 0])\n",
    "dd = np.array(sp.diag(1, 1, 1))\n",
    "print_tensor(dd - dd @ np.outer(n, n))\n",
    "\n",
    "proj = ()"
   ]
  },
  {
   "cell_type": "code",
   "execution_count": 26,
   "metadata": {},
   "outputs": [
    {
     "output_type": "display_data",
     "data": {
      "text/plain": "<IPython.core.display.Latex object>",
      "text/latex": "$\\left[\\begin{matrix}- \\frac{2 M}{r} + 1 & 0 & 0 & 0\\\\0 & - \\frac{1}{- \\frac{2 M}{r} + 1} & 0 & 0\\\\0 & 0 & - r^{2} & 0\\\\0 & 0 & 0 & - r^{2} \\sin^{2}{\\left(θ \\right)}\\end{matrix}\\right]$"
     },
     "metadata": {}
    },
    {
     "output_type": "display_data",
     "data": {
      "text/plain": "<IPython.core.display.Latex object>",
      "text/latex": "$$S=\\frac{M}{- 2 M + r}$$"
     },
     "metadata": {}
    }
   ],
   "source": [
    "g, var = arbitrary_isotropic_metric()\n",
    "t, r, th, ph = var\n",
    "g = Matrix(g).subs(-g[1, 1], 1 / g[0, 0])\n",
    "M = symbols(\"M\")\n",
    "g = Matrix(g).subs(g[0, 0], 1 - 2*M/r)\n",
    "\n",
    "display(Latex(\"$\" + sp.latex(Matrix(g)) + \"$\"))\n",
    "g_inv = get_g_inv(g)\n",
    "\n",
    "C = Christoffel(g, g_inv, var)\n",
    "# Christoffel_print(C, var)\n",
    "# g2 = np.identity(4)\n",
    "# for i in range(4):\n",
    "#     g2[i, i] = g[i, i] / sp.sqrt(g[i, i])\n",
    "\n",
    "# print_tensor(g2)\n",
    "# Rie = Riemann_tensor(C, var)\n",
    "Rl = lower_indx(Rie, g, 0, 4)\n",
    "print_scalar(simplify(Rl[1, 2, 1, 2]))\n",
    "# Ricci = Ricci_tensor(Rie)\n",
    "# print(\"Ricci tensor:\")\n",
    "# display(Latex(\"$\" + sp.latex(Matrix(Ricci)) + \"$\"))\n",
    "\n",
    "# R = Ricci_scalar(Ricci, g_inv)\n",
    "# print(\"Ricci scalar:\")\n",
    "# display(Latex(\"$\" + sp.latex(simplify(R)) + \"$\"))"
   ]
  }
 ]
}