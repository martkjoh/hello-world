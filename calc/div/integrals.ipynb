{
 "metadata": {
  "language_info": {
   "codemirror_mode": {
    "name": "ipython",
    "version": 3
   },
   "file_extension": ".py",
   "mimetype": "text/x-python",
   "name": "python",
   "nbconvert_exporter": "python",
   "pygments_lexer": "ipython3",
   "version": "3.8.3-final"
  },
  "orig_nbformat": 2,
  "kernelspec": {
   "name": "python3",
   "display_name": "Python 3"
  }
 },
 "nbformat": 4,
 "nbformat_minor": 2,
 "cells": [
  {
   "cell_type": "code",
   "execution_count": 3,
   "metadata": {},
   "outputs": [
    {
     "output_type": "execute_result",
     "data": {
      "text/plain": [
       "(3**(1/3)/9 + 1/3)*log(x + 3**(1/3)) + (1/3 - 3**(1/3)/18)*log(x**2 - 3**(1/3)*x + 3**(2/3)) + 3**(5/6)*atan(2*3**(1/6)*x/3 - sqrt(3)/3)/9"
      ],
      "text/latex": "$\\displaystyle \\left(\\frac{\\sqrt[3]{3}}{9} + \\frac{1}{3}\\right) \\log{\\left(x + \\sqrt[3]{3} \\right)} + \\left(\\frac{1}{3} - \\frac{\\sqrt[3]{3}}{18}\\right) \\log{\\left(x^{2} - \\sqrt[3]{3} x + 3^{\\frac{2}{3}} \\right)} + \\frac{3^{\\frac{5}{6}} \\operatorname{atan}{\\left(\\frac{2 \\sqrt[6]{3} x}{3} - \\frac{\\sqrt{3}}{3} \\right)}}{9}$"
     },
     "metadata": {},
     "execution_count": 3
    }
   ],
   "source": [
    "# Simplify, expand, partial fraction decomp\n",
    "from sympy import simplify, expand, apart, symbols\n",
    "from sympy import oo, sin, cos, exp, log, cosh, sinh, tan, tanh, sqrt, pi\n",
    "from sympy import integrate, Function\n",
    "\n",
    "x, y = symbols(\"x, y\")\n",
    "integrate((x**2 + 1) / (x**3 + 3), x)"
   ]
  },
  {
   "cell_type": "code",
   "execution_count": 5,
   "metadata": {},
   "outputs": [
    {
     "output_type": "execute_result",
     "data": {
      "text/plain": [
       "-pi/2"
      ],
      "text/latex": "$\\displaystyle - \\frac{\\pi}{2}$"
     },
     "metadata": {},
     "execution_count": 5
    }
   ],
   "source": [
    "# The eigentime of a massive particle falling from the \n",
    "# event horizon to the singularity of a swartzschild black hole\n",
    "integrate(sqrt(x / (1 - x)), (x, 1, 0))"
   ]
  },
  {
   "cell_type": "code",
   "execution_count": 19,
   "metadata": {},
   "outputs": [
    {
     "output_type": "execute_result",
     "data": {
      "text/plain": [
       "False"
      ]
     },
     "metadata": {},
     "execution_count": 19
    }
   ],
   "source": [
    "y = symbols(\"y\", positiv=True)\n",
    "\n",
    "# a = integrate((1 / sqrt(1 - x**2)**3), (x, 0, y))\n",
    "# sp.solve([a, y<1], a)\n",
    "a"
   ]
  }
 ]
}