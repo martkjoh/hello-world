{
 "metadata": {
  "language_info": {
   "codemirror_mode": {
    "name": "ipython",
    "version": 3
   },
   "file_extension": ".py",
   "mimetype": "text/x-python",
   "name": "python",
   "nbconvert_exporter": "python",
   "pygments_lexer": "ipython3",
   "version": "3.8.6-final"
  },
  "orig_nbformat": 2,
  "kernelspec": {
   "name": "python3",
   "display_name": "Python 3"
  }
 },
 "nbformat": 4,
 "nbformat_minor": 2,
 "cells": [
  {
   "cell_type": "code",
   "execution_count": null,
   "metadata": {},
   "outputs": [],
   "source": [
    "# Simplify, expand, partial fraction decomp\n",
    "from sympy import simplify, expand, apart, symbols\n",
    "from sympy import oo, sin, cos, exp, log, cosh, sinh, tan, tanh, sqrt, pi\n",
    "from sympy import integrate, Function, Rational"
   ]
  },
  {
   "cell_type": "code",
   "execution_count": null,
   "metadata": {},
   "outputs": [],
   "source": [
    "x, y = symbols(\"x, y\")\n",
    "integrate((x**2 + 1) / (x**3 + 3), x)"
   ]
  },
  {
   "cell_type": "code",
   "execution_count": null,
   "metadata": {},
   "outputs": [],
   "source": [
    "# The eigentime of a massive particle falling from the \n",
    "# event horizon to the singularity of a swartzschild black hole\n",
    "integrate(sqrt(x / (1 - x)), (x, 1, 0))"
   ]
  },
  {
   "cell_type": "code",
   "execution_count": null,
   "metadata": {},
   "outputs": [],
   "source": [
    "y = symbols(\"y\", positiv=True)\n",
    "\n",
    "integrate((1 + y)/sqrt(Rational(1/2)**2 - y**2), (y, -Rational(1/2), Rational(1/2)))"
   ]
  }
 ]
}