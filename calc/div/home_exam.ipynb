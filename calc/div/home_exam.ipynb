{
 "cells": [
  {
   "cell_type": "markdown",
   "metadata": {},
   "source": [
    "# Home exam GR\n",
    "Kandidatnr: 10018"
   ]
  },
  {
   "cell_type": "code",
   "execution_count": 1,
   "metadata": {},
   "outputs": [],
   "source": [
    "from sympy import MatrixSymbol, Matrix, Array, pprint\n",
    "from sympy import symbols, diff, cos, sin, simplify, Rational\n",
    "from sympy.core.symbol import Symbol\n",
    "from sympy import pi\n",
    "\n",
    "import numpy as np\n",
    "import sympy as sp\n",
    "from IPython.display import display, Latex"
   ]
  },
  {
   "cell_type": "markdown",
   "metadata": {},
   "source": [
    "### Utilities\n",
    "Misc. tensor operations"
   ]
  },
  {
   "cell_type": "code",
   "execution_count": 2,
   "metadata": {},
   "outputs": [],
   "source": [
    "def get_g_inv(g):\n",
    "    return np.array(Matrix(g)**(-1))"
   ]
  },
  {
   "cell_type": "code",
   "execution_count": 3,
   "metadata": {},
   "outputs": [],
   "source": [
    "def INDX(i, place, num_indx):\n",
    "    \"\"\"\n",
    "    Acceses an index at 'place' for 'num_indx' order tensor\n",
    "    T_(a0 ... âp ... an-1) = T[INDX(i, place=p, num_indx=n)] = T[:,...<-p-> , i, :,...<-(n-p-1)->]\n",
    "    \"\"\"\n",
    "    indx = []\n",
    "    assert place<num_indx\n",
    "    for j in range(num_indx):\n",
    "        if place==j: indx.append(i)\n",
    "        else: indx.append(slice(None))\n",
    "    return tuple(indx)\n",
    "\n",
    "def get_g_inv(g):\n",
    "    return np.array(Matrix(g)**(-1))"
   ]
  },
  {
   "cell_type": "code",
   "execution_count": 4,
   "metadata": {},
   "outputs": [],
   "source": [
    "def contract(T, g=None, g_inv=None, num_indx=2, upper=1, indx=(0, 1)):\n",
    "    \"\"\"\n",
    "    contracts indecies indx=(a_p, a_q) on tensor T with 'num_indx', \n",
    "    'upper' of whom are upper. If upper=0, all indecies are assumed lower.\n",
    "    With indx=(a_k, a_l), upper=n, num_indx=n+m, this gives\n",
    "    T^(a_0...a_n-1)_(a_n...a_n+m-1) -> T^(a_0...a_k=a...a_n-1)_(a_n...a_k...a_n+m-1),\n",
    "    with the necesarry metric. If wrong metric is given, this wil throw error.\n",
    "    \"\"\"\n",
    "    assert indx[0] < indx[1]  # we have to know if the index to the left dissapears\n",
    "    dim = np.shape(T)[0]\n",
    "    a = (indx[0] < upper) + (indx[1] < upper) # number of upper indecies to be contracted\n",
    "    if a==2: g0 = g # two upper\n",
    "    elif a==0: g0 = g_inv # two lower\n",
    "    else: g0 = np.identity(dim, dtype=Rational)\n",
    "\n",
    "    Tc = Rational(0) * np.ones((T.shape)[:-2], dtype=Rational)\n",
    "    for i in range(dim):\n",
    "        for j in range(dim):\n",
    "            Tc += g0[i, j] * (T[INDX(i, indx[0], num_indx)])[INDX(j, indx[1] - 1, num_indx - 1)]\n",
    "\n",
    "    return Tc"
   ]
  },
  {
   "cell_type": "code",
   "execution_count": 5,
   "metadata": {},
   "outputs": [],
   "source": [
    "def raise_indx(T, g_inv, indx, num_indx):\n",
    "    \"\"\"\n",
    "    Raise index 'indx' of a tensor T with 'num_indx' indices.\n",
    "    \"\"\"\n",
    "    dim = np.shape(T)[0]\n",
    "    Tu = np.zeros_like(T)\n",
    "    for i in range(dim):\n",
    "        I = INDX(i, indx, num_indx)\n",
    "        for j in range(dim):\n",
    "            J = INDX(j, indx, num_indx)\n",
    "            Tu[I] += g_inv[i, j] * T[J]\n",
    "    return Tu\n",
    "\n",
    "def lower_indx(T, g, indx, num_indx):\n",
    "    return raise_indx(T, g, indx, num_indx)"
   ]
  },
  {
   "cell_type": "code",
   "execution_count": 6,
   "metadata": {},
   "outputs": [],
   "source": [
    "def print_christoffel(C, var):\n",
    "    \"\"\" A function for dsiplaying christoffels symbols \"\"\"\n",
    "    output = []\n",
    "    for i in range(len(var)):\n",
    "        txt = \"$$\"\n",
    "        txt += \"\\Gamma^\" + sp.latex(var[i]) + \"_{\\\\alpha \\\\beta} =\"\n",
    "        txt += sp.latex(Matrix(C[i]))\n",
    "        txt += \"$$\"\n",
    "        output.append(display(Latex(txt)))\n",
    "    return output\n",
    "\n",
    "def print_tensor(T, name=\"T\"):\n",
    "    return display(Latex(\"$$\" + name + \"=\" + sp.latex(Matrix(T)) +\"$$\"))\n",
    "\n",
    "def print_scalar(S, name=\"S\"):\n",
    "    return display(Latex(\"$$\" + name + \"=\" + sp.latex(S) +\"$$\"))"
   ]
  },
  {
   "cell_type": "markdown",
   "metadata": {},
   "source": [
    "## Geometry"
   ]
  },
  {
   "cell_type": "code",
   "execution_count": 7,
   "metadata": {},
   "outputs": [],
   "source": [
    "def Christoffel(g, g_inv, var):\n",
    "    \"\"\" \n",
    "    Work out the christoffel symbols, given a metric an its variables \n",
    "    Γ^i_jk = C[i, j, k]\n",
    "    \"\"\"\n",
    "    dim = len(var)\n",
    "    C = np.zeros((dim, dim, dim), dtype=Symbol)\n",
    "    for i in range(dim):\n",
    "        for j in range(dim):\n",
    "            for k in range(dim):\n",
    "                for m in range(dim):\n",
    "                    C[i, j, k] += Rational(1, 2) * (g_inv)[i, m] * (\n",
    "                        diff(g[m, k], var[j])\n",
    "                        + diff(g[m, j], var[k])\n",
    "                        - diff(g[k, j], var[m])\n",
    "                        )\n",
    "    return C"
   ]
  },
  {
   "cell_type": "markdown",
   "metadata": {},
   "source": [
    "$\n",
    "R^\\alpha_{\\beta \\rho \\sigma} = \\partial_\\rho \\Gamma^\\alpha_{\\beta \\sigma} -\\partial_\\sigma \\Gamma^\\alpha_{\\beta \\rho} +\\Gamma^\\alpha_{\\kappa \\rho}\\Gamma^\\kappa_{\\beta \\sigma} - \\Gamma^\\alpha_{\\kappa \\sigma}\\Gamma^\\kappa_{\\beta \\rho}\n",
    "$\n",
    "\n",
    "    R[a, b, r, s] = diff(C[a, b, s], r) - diff(C[a, b, r], s) + C[a, k, r]*C[k, b, s] * C[a, k, s]*C[k, b, r]"
   ]
  },
  {
   "cell_type": "code",
   "execution_count": 8,
   "metadata": {},
   "outputs": [],
   "source": [
    "def Riemann_tensor(C, var):\n",
    "    \"\"\" \n",
    "    Riemann_tensor(Christoffel_symbols, (x_1, ...)) = R[i, j, k, l] = R^i_jkl\n",
    "    Compute the Riemann tensor from the Christoffel symbols \n",
    "    \"\"\"\n",
    "    dim = len(var)\n",
    "    R = np.zeros([dim] * 4, dtype=Symbol)\n",
    "    indx = [(i, j, k, l)\n",
    "        for i in range(dim)\n",
    "        for j in range(dim)\n",
    "        for k in range(dim)\n",
    "        for l in range(dim)\n",
    "    ]\n",
    "    for (a, b, r, s) in indx:\n",
    "        R[a, b, r, s] += diff(C[a, b, s], var[r]) - diff(C[a, b, r], var[s])\n",
    "        for k in range(dim):\n",
    "            R[a, b, r, s] += C[a, k, r] * C[k, b, s] - C[a, k, s] * C[k, b, r]\n",
    "    return R"
   ]
  },
  {
   "cell_type": "markdown",
   "metadata": {},
   "source": [
    "# Exercise b)"
   ]
  },
  {
   "cell_type": "code",
   "execution_count": 9,
   "metadata": {},
   "outputs": [
    {
     "output_type": "execute_result",
     "data": {
      "text/plain": [
       "<IPython.core.display.Latex object>"
      ],
      "text/latex": "$$\\left[\\begin{matrix}A{\\left(r \\right)} & 0 & 0 & 0\\\\0 & - B{\\left(r \\right)} & 0 & 0\\\\0 & 0 & - r^{2} & 0\\\\0 & 0 & 0 & - r^{2} \\sin^{2}{\\left(\\theta \\right)}\\end{matrix}\\right]\\left[\\begin{matrix}\\frac{1}{A{\\left(r \\right)}} & 0 & 0 & 0\\\\0 & - \\frac{1}{B{\\left(r \\right)}} & 0 & 0\\\\0 & 0 & - \\frac{1}{r^{2}} & 0\\\\0 & 0 & 0 & - \\frac{1}{r^{2} \\sin^{2}{\\left(\\theta \\right)}}\\end{matrix}\\right]$$"
     },
     "metadata": {},
     "execution_count": 9
    }
   ],
   "source": [
    "t, r, th, ph = symbols(\"t, r, \\\\theta, \\phi\")\n",
    "x1 = r * cos(ph) * sin(th)\n",
    "x2 = r * sin(ph) * sin(th)\n",
    "x3 = r * cos(th)\n",
    "\n",
    "one = Rational(1)\n",
    "eta = sp.diag(one, -one, -one, -one)\n",
    "var = (t, r, th, ph)\n",
    "J = Matrix([t, x1, x2, x3]).jacobian(var)\n",
    "g = np.array(simplify(J.T *eta* J))\n",
    "\n",
    "A = sp.Function(\"A\", real=True)(r)\n",
    "B = sp.Function(\"B\", real=True)(r)\n",
    "g[0, 0] *= A\n",
    "g[1, 1] *= B\n",
    "g_inv = get_g_inv(g)\n",
    "\n",
    "Latex(\"$$\" + sp.latex(Matrix(g))  + sp.latex(Matrix(g_inv)) +\"$$\")"
   ]
  },
  {
   "cell_type": "code",
   "execution_count": 10,
   "metadata": {},
   "outputs": [
    {
     "output_type": "display_data",
     "data": {
      "text/plain": "<IPython.core.display.Latex object>",
      "text/latex": "$$\\Gamma^t_{\\alpha \\beta} =\\left[\\begin{matrix}0 & \\frac{\\frac{d}{d r} A{\\left(r \\right)}}{2 A{\\left(r \\right)}} & 0 & 0\\\\\\frac{\\frac{d}{d r} A{\\left(r \\right)}}{2 A{\\left(r \\right)}} & 0 & 0 & 0\\\\0 & 0 & 0 & 0\\\\0 & 0 & 0 & 0\\end{matrix}\\right]$$"
     },
     "metadata": {}
    },
    {
     "output_type": "display_data",
     "data": {
      "text/plain": "<IPython.core.display.Latex object>",
      "text/latex": "$$\\Gamma^r_{\\alpha \\beta} =\\left[\\begin{matrix}\\frac{\\frac{d}{d r} A{\\left(r \\right)}}{2 B{\\left(r \\right)}} & 0 & 0 & 0\\\\0 & \\frac{\\frac{d}{d r} B{\\left(r \\right)}}{2 B{\\left(r \\right)}} & 0 & 0\\\\0 & 0 & - \\frac{r}{B{\\left(r \\right)}} & 0\\\\0 & 0 & 0 & - \\frac{r \\sin^{2}{\\left(\\theta \\right)}}{B{\\left(r \\right)}}\\end{matrix}\\right]$$"
     },
     "metadata": {}
    },
    {
     "output_type": "display_data",
     "data": {
      "text/plain": "<IPython.core.display.Latex object>",
      "text/latex": "$$\\Gamma^\\theta_{\\alpha \\beta} =\\left[\\begin{matrix}0 & 0 & 0 & 0\\\\0 & 0 & \\frac{1}{r} & 0\\\\0 & \\frac{1}{r} & 0 & 0\\\\0 & 0 & 0 & - \\sin{\\left(\\theta \\right)} \\cos{\\left(\\theta \\right)}\\end{matrix}\\right]$$"
     },
     "metadata": {}
    },
    {
     "output_type": "display_data",
     "data": {
      "text/plain": "<IPython.core.display.Latex object>",
      "text/latex": "$$\\Gamma^\\phi_{\\alpha \\beta} =\\left[\\begin{matrix}0 & 0 & 0 & 0\\\\0 & 0 & 0 & \\frac{1}{r}\\\\0 & 0 & 0 & \\frac{\\cos{\\left(\\theta \\right)}}{\\sin{\\left(\\theta \\right)}}\\\\0 & \\frac{1}{r} & \\frac{\\cos{\\left(\\theta \\right)}}{\\sin{\\left(\\theta \\right)}} & 0\\end{matrix}\\right]$$"
     },
     "metadata": {}
    }
   ],
   "source": [
    "C = Christoffel(g, g_inv, var)\n",
    "c = print_christoffel(C, var)"
   ]
  },
  {
   "cell_type": "code",
   "execution_count": 11,
   "metadata": {},
   "outputs": [
    {
     "output_type": "display_data",
     "data": {
      "text/plain": "<IPython.core.display.Latex object>",
      "text/latex": "$$T=\\left[\\begin{matrix}0 & - \\frac{\\frac{d^{2}}{d r^{2}} A{\\left(r \\right)}}{2 A{\\left(r \\right)}} + \\frac{\\frac{d}{d r} A{\\left(r \\right)} \\frac{d}{d r} B{\\left(r \\right)}}{4 A{\\left(r \\right)} B{\\left(r \\right)}} + \\frac{\\left(\\frac{d}{d r} A{\\left(r \\right)}\\right)^{2}}{4 A^{2}{\\left(r \\right)}} & 0 & 0\\\\\\frac{\\frac{d^{2}}{d r^{2}} A{\\left(r \\right)}}{2 A{\\left(r \\right)}} - \\frac{\\frac{d}{d r} A{\\left(r \\right)} \\frac{d}{d r} B{\\left(r \\right)}}{4 A{\\left(r \\right)} B{\\left(r \\right)}} - \\frac{\\left(\\frac{d}{d r} A{\\left(r \\right)}\\right)^{2}}{4 A^{2}{\\left(r \\right)}} & 0 & 0 & 0\\\\0 & 0 & 0 & 0\\\\0 & 0 & 0 & 0\\end{matrix}\\right]$$"
     },
     "metadata": {}
    }
   ],
   "source": [
    "Rie = Riemann_tensor(C, var)\n",
    "print_tensor(Rie[0, 1])"
   ]
  },
  {
   "cell_type": "code",
   "execution_count": 12,
   "metadata": {},
   "outputs": [],
   "source": [
    "Ricci = -contract(Rie, num_indx=4, upper=1, indx=(0, 2))"
   ]
  },
  {
   "cell_type": "code",
   "execution_count": 13,
   "metadata": {},
   "outputs": [
    {
     "output_type": "display_data",
     "data": {
      "text/plain": "<IPython.core.display.Latex object>",
      "text/latex": "$$ R_{ 00}=- \\frac{\\frac{d^{2}}{d r^{2}} A{\\left(r \\right)}}{2 B{\\left(r \\right)}} + \\frac{\\frac{d}{d r} A{\\left(r \\right)} \\frac{d}{d r} B{\\left(r \\right)}}{4 B^{2}{\\left(r \\right)}} + \\frac{\\left(\\frac{d}{d r} A{\\left(r \\right)}\\right)^{2}}{4 A{\\left(r \\right)} B{\\left(r \\right)}} - \\frac{\\frac{d}{d r} A{\\left(r \\right)}}{r B{\\left(r \\right)}}$$"
     },
     "metadata": {}
    },
    {
     "output_type": "display_data",
     "data": {
      "text/plain": "<IPython.core.display.Latex object>",
      "text/latex": "$$ R_{ 11}=\\frac{\\frac{d^{2}}{d r^{2}} A{\\left(r \\right)}}{2 A{\\left(r \\right)}} - \\frac{\\frac{d}{d r} A{\\left(r \\right)} \\frac{d}{d r} B{\\left(r \\right)}}{4 A{\\left(r \\right)} B{\\left(r \\right)}} - \\frac{\\left(\\frac{d}{d r} A{\\left(r \\right)}\\right)^{2}}{4 A^{2}{\\left(r \\right)}} - \\frac{\\frac{d}{d r} B{\\left(r \\right)}}{r B{\\left(r \\right)}}$$"
     },
     "metadata": {}
    },
    {
     "output_type": "display_data",
     "data": {
      "text/plain": "<IPython.core.display.Latex object>",
      "text/latex": "$$ R_{ 22}=- \\frac{r \\frac{d}{d r} B{\\left(r \\right)}}{2 B^{2}{\\left(r \\right)}} + \\frac{r \\frac{d}{d r} A{\\left(r \\right)}}{2 A{\\left(r \\right)} B{\\left(r \\right)}} - 1 + \\frac{1}{B{\\left(r \\right)}}$$"
     },
     "metadata": {}
    },
    {
     "output_type": "display_data",
     "data": {
      "text/plain": "<IPython.core.display.Latex object>",
      "text/latex": "$$ R_{ 33}=- \\frac{r \\sin^{2}{\\left(\\theta \\right)} \\frac{d}{d r} B{\\left(r \\right)}}{2 B^{2}{\\left(r \\right)}} + \\frac{r \\sin^{2}{\\left(\\theta \\right)} \\frac{d}{d r} A{\\left(r \\right)}}{2 A{\\left(r \\right)} B{\\left(r \\right)}} - \\sin^{2}{\\left(\\theta \\right)} + \\frac{\\sin^{2}{\\left(\\theta \\right)}}{B{\\left(r \\right)}}$$"
     },
     "metadata": {}
    }
   ],
   "source": [
    "for i in range(len(Ricci)):\n",
    "    display(Latex(\"$$ R_{ \"+ str(i)+str(i) +\"}=\" + sp.latex(Ricci[i,i]) + \"$$\"))"
   ]
  },
  {
   "cell_type": "markdown",
   "metadata": {},
   "source": [
    "# Exercise c)"
   ]
  },
  {
   "cell_type": "code",
   "execution_count": 14,
   "metadata": {},
   "outputs": [
    {
     "output_type": "display_data",
     "data": {
      "text/plain": "<IPython.core.display.Latex object>",
      "text/latex": "$$F_{\\mu \\nu}=\\left[\\begin{matrix}0 & E_{1} & E_{2} & E_{3}\\\\- E_{1} & 0 & B_{3} & - B_{2}\\\\- E_{2} & - B_{3} & 0 & B_{1}\\\\- E_{3} & B_{2} & - B_{1} & 0\\end{matrix}\\right]$$"
     },
     "metadata": {}
    }
   ],
   "source": [
    "E1, E2, E3, B1, B2, B3 = symbols(\"E_1, E_2, E_3, B_1, B_2, B_3\")\n",
    "\n",
    "F = np.array([\n",
    "    [0,     E1,    E2,    E3],\n",
    "    [-E1,    0,      B3,    -B2],\n",
    "    [-E2,    -B3,     0,      B1],\n",
    "    [-E3,    B2,    -B1,     0 ]\n",
    "])\n",
    "\n",
    "print_tensor(F, \"F_{\\mu \\\\nu}\")"
   ]
  },
  {
   "cell_type": "code",
   "execution_count": 15,
   "metadata": {},
   "outputs": [
    {
     "output_type": "display_data",
     "data": {
      "text/plain": "<IPython.core.display.Latex object>",
      "text/latex": "$$F^\\mu_{\\,\\,\\,\\,\\nu}=\\left[\\begin{matrix}0 & \\frac{E_{1}}{A{\\left(r \\right)}} & \\frac{E_{2}}{A{\\left(r \\right)}} & \\frac{E_{3}}{A{\\left(r \\right)}}\\\\\\frac{E_{1}}{B{\\left(r \\right)}} & 0 & - \\frac{B_{3}}{B{\\left(r \\right)}} & \\frac{B_{2}}{B{\\left(r \\right)}}\\\\\\frac{E_{2}}{r^{2}} & \\frac{B_{3}}{r^{2}} & 0 & - \\frac{B_{1}}{r^{2}}\\\\\\frac{E_{3}}{r^{2} \\sin^{2}{\\left(\\theta \\right)}} & - \\frac{B_{2}}{r^{2} \\sin^{2}{\\left(\\theta \\right)}} & \\frac{B_{1}}{r^{2} \\sin^{2}{\\left(\\theta \\right)}} & 0\\end{matrix}\\right]$$"
     },
     "metadata": {}
    },
    {
     "output_type": "display_data",
     "data": {
      "text/plain": "<IPython.core.display.Latex object>",
      "text/latex": "$$F^{\\,\\,\\nu}_\\mu=\\left[\\begin{matrix}0 & - \\frac{E_{1}}{B{\\left(r \\right)}} & - \\frac{E_{2}}{r^{2}} & - \\frac{E_{3}}{r^{2} \\sin^{2}{\\left(\\theta \\right)}}\\\\- \\frac{E_{1}}{A{\\left(r \\right)}} & 0 & - \\frac{B_{3}}{r^{2}} & \\frac{B_{2}}{r^{2} \\sin^{2}{\\left(\\theta \\right)}}\\\\- \\frac{E_{2}}{A{\\left(r \\right)}} & \\frac{B_{3}}{B{\\left(r \\right)}} & 0 & - \\frac{B_{1}}{r^{2} \\sin^{2}{\\left(\\theta \\right)}}\\\\- \\frac{E_{3}}{A{\\left(r \\right)}} & - \\frac{B_{2}}{B{\\left(r \\right)}} & \\frac{B_{1}}{r^{2}} & 0\\end{matrix}\\right]$$"
     },
     "metadata": {}
    },
    {
     "output_type": "display_data",
     "data": {
      "text/plain": "<IPython.core.display.Latex object>",
      "text/latex": "$$F^{\\mu \\nu}=\\left[\\begin{matrix}0 & - \\frac{E_{1}}{A{\\left(r \\right)} B{\\left(r \\right)}} & - \\frac{E_{2}}{r^{2} A{\\left(r \\right)}} & - \\frac{E_{3}}{r^{2} A{\\left(r \\right)} \\sin^{2}{\\left(\\theta \\right)}}\\\\\\frac{E_{1}}{A{\\left(r \\right)} B{\\left(r \\right)}} & 0 & \\frac{B_{3}}{r^{2} B{\\left(r \\right)}} & - \\frac{B_{2}}{r^{2} B{\\left(r \\right)} \\sin^{2}{\\left(\\theta \\right)}}\\\\\\frac{E_{2}}{r^{2} A{\\left(r \\right)}} & - \\frac{B_{3}}{r^{2} B{\\left(r \\right)}} & 0 & \\frac{B_{1}}{r^{4} \\sin^{2}{\\left(\\theta \\right)}}\\\\\\frac{E_{3}}{r^{2} A{\\left(r \\right)} \\sin^{2}{\\left(\\theta \\right)}} & \\frac{B_{2}}{r^{2} B{\\left(r \\right)} \\sin^{2}{\\left(\\theta \\right)}} & - \\frac{B_{1}}{r^{4} \\sin^{2}{\\left(\\theta \\right)}} & 0\\end{matrix}\\right]$$"
     },
     "metadata": {}
    }
   ],
   "source": [
    "Fud = raise_indx(F, g_inv, 0, 2)\n",
    "Fdu = raise_indx(F, g_inv, 1, 2)\n",
    "Fuu = raise_indx(Fud, g_inv, 1, 2)\n",
    "\n",
    "print_tensor(Fud, \"F^\\mu_{\\,\\,\\,\\,\\\\nu}\")\n",
    "print_tensor(Fdu, \"F^{\\,\\,\\\\nu}_\\\\mu\")\n",
    "print_tensor(Fuu, \"F^{\\mu \\\\nu}\")"
   ]
  },
  {
   "source": [
    "# Exercise d)"
   ],
   "cell_type": "markdown",
   "metadata": {}
  },
  {
   "cell_type": "code",
   "execution_count": 16,
   "metadata": {},
   "outputs": [
    {
     "output_type": "display_data",
     "data": {
      "text/plain": "<IPython.core.display.Latex object>",
      "text/latex": "$$F^\\mu_{\\,\\,\\,\\,\\nu}=\\left[\\begin{matrix}0 & \\frac{E_{r}}{A{\\left(r \\right)}} & 0 & 0\\\\\\frac{E_{r}}{B{\\left(r \\right)}} & 0 & 0 & 0\\\\0 & 0 & 0 & 0\\\\0 & 0 & 0 & 0\\end{matrix}\\right]$$"
     },
     "metadata": {}
    },
    {
     "output_type": "display_data",
     "data": {
      "text/plain": "<IPython.core.display.Latex object>",
      "text/latex": "$$F^{\\,\\,\\nu}_\\mu=\\left[\\begin{matrix}0 & - \\frac{E_{r}}{B{\\left(r \\right)}} & 0 & 0\\\\- \\frac{E_{r}}{A{\\left(r \\right)}} & 0 & 0 & 0\\\\0 & 0 & 0 & 0\\\\0 & 0 & 0 & 0\\end{matrix}\\right]$$"
     },
     "metadata": {}
    },
    {
     "output_type": "display_data",
     "data": {
      "text/plain": "<IPython.core.display.Latex object>",
      "text/latex": "$$F^{\\mu \\nu}=\\left[\\begin{matrix}0 & - \\frac{E_{r}}{A{\\left(r \\right)} B{\\left(r \\right)}} & 0 & 0\\\\\\frac{E_{r}}{A{\\left(r \\right)} B{\\left(r \\right)}} & 0 & 0 & 0\\\\0 & 0 & 0 & 0\\\\0 & 0 & 0 & 0\\end{matrix}\\right]$$"
     },
     "metadata": {}
    },
    {
     "output_type": "display_data",
     "data": {
      "text/plain": "<IPython.core.display.Latex object>",
      "text/latex": "$$T^{\\mu \\nu}=\\left[\\begin{matrix}\\frac{E_{r}^{2}}{2 A^{2}{\\left(r \\right)} B{\\left(r \\right)}} & 0 & 0 & 0\\\\0 & - \\frac{E_{r}^{2}}{2 A{\\left(r \\right)} B^{2}{\\left(r \\right)}} & 0 & 0\\\\0 & 0 & \\frac{E_{r}^{2}}{2 r^{2} A{\\left(r \\right)} B{\\left(r \\right)}} & 0\\\\0 & 0 & 0 & \\frac{E_{r}^{2}}{2 r^{2} A{\\left(r \\right)} B{\\left(r \\right)} \\sin^{2}{\\left(\\theta \\right)}}\\end{matrix}\\right]$$"
     },
     "metadata": {}
    },
    {
     "output_type": "display_data",
     "data": {
      "text/plain": "<IPython.core.display.Latex object>",
      "text/latex": "$$T_{\\mu \\nu}=\\left[\\begin{matrix}\\frac{E_{r}^{2}}{2 B{\\left(r \\right)}} & 0 & 0 & 0\\\\0 & - \\frac{E_{r}^{2}}{2 A{\\left(r \\right)}} & 0 & 0\\\\0 & 0 & \\frac{E_{r}^{2} r^{2}}{2 A{\\left(r \\right)} B{\\left(r \\right)}} & 0\\\\0 & 0 & 0 & \\frac{E_{r}^{2} r^{2} \\sin^{2}{\\left(\\theta \\right)}}{2 A{\\left(r \\right)} B{\\left(r \\right)}}\\end{matrix}\\right]$$"
     },
     "metadata": {}
    },
    {
     "output_type": "display_data",
     "data": {
      "text/plain": "<IPython.core.display.Latex object>",
      "text/latex": "$$T_\\mu^\\mu=0$$"
     },
     "metadata": {}
    }
   ],
   "source": [
    "Er = symbols(\"E_r\")\n",
    "\n",
    "F0 = np.array([\n",
    "    [0, Er, 0, 0], \n",
    "    [-Er, 0, 0, 0],\n",
    "    [0, 0, 0, 0],\n",
    "    [0, 0, 0, 0]\n",
    "])\n",
    "\n",
    "F0ud = raise_indx(F0, g_inv, 0, 2)\n",
    "F0du = raise_indx(F0, g_inv, 1, 2)\n",
    "F0uu = raise_indx(F0ud, g_inv, 1, 2)\n",
    "\n",
    "print_tensor(F0ud, \"F^\\mu_{\\,\\,\\,\\,\\\\nu}\")\n",
    "print_tensor(F0du, \"F^{\\,\\,\\\\nu}_\\\\mu\")\n",
    "print_tensor(F0uu, \"F^{\\mu \\\\nu}\")\n",
    "\n",
    "Tu = -F0uu @ F0ud.T + Rational(1, 4) * g_inv * contract(F0.T@ F0uu)\n",
    "T = lower_indx(lower_indx(Tu, g, 0, 2), g, 1, 2)\n",
    "\n",
    "print_tensor(Tu, \"T^{\\mu \\\\nu}\")\n",
    "print_tensor(T, \"T_{\\mu \\\\nu}\")\n",
    "print_scalar(contract(T, g_inv=g_inv, upper=0), \"T_\\mu^\\mu\")"
   ]
  },
  {
   "cell_type": "code",
   "execution_count": 17,
   "metadata": {},
   "outputs": [
    {
     "output_type": "display_data",
     "data": {
      "text/plain": "<IPython.core.display.Latex object>",
      "text/latex": "$$\\frac{k A{\\left(r \\right)}}{2 r^{4}} - \\frac{\\frac{d^{2}}{d r^{2}} A{\\left(r \\right)}}{2 B{\\left(r \\right)}} + \\frac{\\frac{d}{d r} A{\\left(r \\right)} \\frac{d}{d r} B{\\left(r \\right)}}{4 B^{2}{\\left(r \\right)}} + \\frac{\\left(\\frac{d}{d r} A{\\left(r \\right)}\\right)^{2}}{4 A{\\left(r \\right)} B{\\left(r \\right)}} - \\frac{\\frac{d}{d r} A{\\left(r \\right)}}{r B{\\left(r \\right)}}= 0 $$"
     },
     "metadata": {}
    },
    {
     "output_type": "display_data",
     "data": {
      "text/plain": "<IPython.core.display.Latex object>",
      "text/latex": "$$- \\frac{k B{\\left(r \\right)}}{2 r^{4}} + \\frac{\\frac{d^{2}}{d r^{2}} A{\\left(r \\right)}}{2 A{\\left(r \\right)}} - \\frac{\\frac{d}{d r} A{\\left(r \\right)} \\frac{d}{d r} B{\\left(r \\right)}}{4 A{\\left(r \\right)} B{\\left(r \\right)}} - \\frac{\\left(\\frac{d}{d r} A{\\left(r \\right)}\\right)^{2}}{4 A^{2}{\\left(r \\right)}} - \\frac{\\frac{d}{d r} B{\\left(r \\right)}}{r B{\\left(r \\right)}}= 0 $$"
     },
     "metadata": {}
    },
    {
     "output_type": "display_data",
     "data": {
      "text/plain": "<IPython.core.display.Latex object>",
      "text/latex": "$$\\frac{k}{2 r^{2}} - \\frac{r \\frac{d}{d r} B{\\left(r \\right)}}{2 B^{2}{\\left(r \\right)}} + \\frac{r \\frac{d}{d r} A{\\left(r \\right)}}{2 A{\\left(r \\right)} B{\\left(r \\right)}} - 1 + \\frac{1}{B{\\left(r \\right)}}= 0 $$"
     },
     "metadata": {}
    },
    {
     "output_type": "display_data",
     "data": {
      "text/plain": "<IPython.core.display.Latex object>",
      "text/latex": "$$\\frac{k \\sin^{2}{\\left(\\theta \\right)}}{2 r^{2}} - \\frac{r \\sin^{2}{\\left(\\theta \\right)} \\frac{d}{d r} B{\\left(r \\right)}}{2 B^{2}{\\left(r \\right)}} + \\frac{r \\sin^{2}{\\left(\\theta \\right)} \\frac{d}{d r} A{\\left(r \\right)}}{2 A{\\left(r \\right)} B{\\left(r \\right)}} - \\sin^{2}{\\left(\\theta \\right)} + \\frac{\\sin^{2}{\\left(\\theta \\right)}}{B{\\left(r \\right)}}= 0 $$"
     },
     "metadata": {}
    }
   ],
   "source": [
    "Q = symbols(\"Q\")\n",
    "k = symbols(\"k\")\n",
    "# k =  kappa *( Q / ( Rational(4) pi))**2\n",
    "E = sp.sqrt(A*B) / r**2\n",
    "T0 = Matrix(T).subs(Er, E)\n",
    "eq = []\n",
    "for i in range(len(Ricci)):\n",
    "    eq.append(Ricci[i, i] + k*T0[i, i])\n",
    "    display(Latex(\"$$\" + sp.latex(eq[i]) + \"= 0 $$\"))"
   ]
  },
  {
   "cell_type": "code",
   "execution_count": 18,
   "metadata": {},
   "outputs": [
    {
     "output_type": "execute_result",
     "data": {
      "text/plain": [
       "A(r)*Derivative(B(r), r) + B(r)*Derivative(A(r), r)"
      ],
      "text/latex": "$\\displaystyle A{\\left(r \\right)} \\frac{d}{d r} B{\\left(r \\right)} + B{\\left(r \\right)} \\frac{d}{d r} A{\\left(r \\right)}$"
     },
     "metadata": {},
     "execution_count": 18
    }
   ],
   "source": [
    "simplify(-B*r*(B * eq[0] + A * eq[1]))"
   ]
  },
  {
   "source": [
    "# Exercise f)"
   ],
   "cell_type": "markdown",
   "metadata": {}
  },
  {
   "cell_type": "code",
   "execution_count": 19,
   "metadata": {},
   "outputs": [
    {
     "output_type": "display_data",
     "data": {
      "text/plain": "<IPython.core.display.Latex object>",
      "text/latex": "$$\\frac{k A{\\left(r \\right)}}{2 r^{4}} - \\frac{A{\\left(r \\right)} \\frac{d^{2}}{d r^{2}} A{\\left(r \\right)}}{2} - \\frac{A{\\left(r \\right)} \\frac{d}{d r} A{\\left(r \\right)}}{r}= 0 $$"
     },
     "metadata": {}
    },
    {
     "output_type": "display_data",
     "data": {
      "text/plain": "<IPython.core.display.Latex object>",
      "text/latex": "$$- \\frac{k}{2 r^{4} A{\\left(r \\right)}} + \\frac{\\frac{d^{2}}{d r^{2}} A{\\left(r \\right)}}{2 A{\\left(r \\right)}} + \\frac{\\frac{d}{d r} A{\\left(r \\right)}}{r A{\\left(r \\right)}}= 0 $$"
     },
     "metadata": {}
    },
    {
     "output_type": "display_data",
     "data": {
      "text/plain": "<IPython.core.display.Latex object>",
      "text/latex": "$$\\frac{k}{2 r^{2}} + r \\frac{d}{d r} A{\\left(r \\right)} + A{\\left(r \\right)} - 1= 0 $$"
     },
     "metadata": {}
    },
    {
     "output_type": "display_data",
     "data": {
      "text/plain": "<IPython.core.display.Latex object>",
      "text/latex": "$$\\frac{\\left(k + r^{2} \\left(2 r \\frac{d}{d r} A{\\left(r \\right)} + 2 A{\\left(r \\right)} - 2\\right)\\right) \\sin^{2}{\\left(\\theta \\right)}}{2 r^{2}}= 0 $$"
     },
     "metadata": {}
    }
   ],
   "source": [
    "eq0 = [a.subs(B, 1/A) for a in eq]\n",
    "\n",
    "for i in range(len(Ricci)):\n",
    "    display(Latex(\"$$\" + sp.latex(simplify(eq0[i])) + \"= 0 $$\"))"
   ]
  },
  {
   "cell_type": "code",
   "execution_count": 20,
   "metadata": {},
   "outputs": [
    {
     "output_type": "execute_result",
     "data": {
      "text/plain": [
       "Eq(A(r), C1/r + k/(2*r**2) + 1)"
      ],
      "text/latex": "$\\displaystyle A{\\left(r \\right)} = \\frac{C_{1}}{r} + \\frac{k}{2 r^{2}} + 1$"
     },
     "metadata": {},
     "execution_count": 20
    }
   ],
   "source": [
    "sp.dsolve(eq0[2])"
   ]
  },
  {
   "cell_type": "markdown",
   "metadata": {},
   "source": [
    "# Excercise g)"
   ]
  },
  {
   "cell_type": "code",
   "execution_count": 21,
   "metadata": {},
   "outputs": [
    {
     "output_type": "display_data",
     "data": {
      "text/plain": "<IPython.core.display.Latex object>",
      "text/latex": "$$g=\\left[\\begin{matrix}- \\frac{2 M}{r} + \\frac{k}{2 r^{2}} + 1 & 0 & 0 & 0\\\\0 & - \\frac{1}{- \\frac{2 M}{r} + \\frac{k}{2 r^{2}} + 1} & 0 & 0\\\\0 & 0 & - r^{2} & 0\\\\0 & 0 & 0 & - r^{2} \\sin^{2}{\\left(\\theta \\right)}\\end{matrix}\\right]$$"
     },
     "metadata": {}
    },
    {
     "output_type": "display_data",
     "data": {
      "text/plain": "<IPython.core.display.Latex object>",
      "text/latex": "$$g^{-1}=\\left[\\begin{matrix}\\frac{1}{- \\frac{2 M}{r} + \\frac{k}{2 r^{2}} + 1} & 0 & 0 & 0\\\\0 & \\frac{2 M}{r} - \\frac{k}{2 r^{2}} - 1 & 0 & 0\\\\0 & 0 & - \\frac{1}{r^{2}} & 0\\\\0 & 0 & 0 & - \\frac{1}{r^{2} \\sin^{2}{\\left(\\theta \\right)}}\\end{matrix}\\right]$$"
     },
     "metadata": {}
    },
    {
     "output_type": "display_data",
     "data": {
      "text/plain": "<IPython.core.display.Latex object>",
      "text/latex": "$$\\Gamma^t_{\\alpha \\beta} =\\left[\\begin{matrix}0 & \\frac{\\frac{2 M}{r^{2}} - \\frac{k}{r^{3}}}{2 \\left(- \\frac{2 M}{r} + \\frac{k}{2 r^{2}} + 1\\right)} & 0 & 0\\\\\\frac{\\frac{2 M}{r^{2}} - \\frac{k}{r^{3}}}{2 \\left(- \\frac{2 M}{r} + \\frac{k}{2 r^{2}} + 1\\right)} & 0 & 0 & 0\\\\0 & 0 & 0 & 0\\\\0 & 0 & 0 & 0\\end{matrix}\\right]$$"
     },
     "metadata": {}
    },
    {
     "output_type": "display_data",
     "data": {
      "text/plain": "<IPython.core.display.Latex object>",
      "text/latex": "$$\\Gamma^r_{\\alpha \\beta} =\\left[\\begin{matrix}\\left(- \\frac{2 M}{r^{2}} + \\frac{k}{r^{3}}\\right) \\left(\\frac{M}{r} - \\frac{k}{4 r^{2}} - \\frac{1}{2}\\right) & 0 & 0 & 0\\\\0 & - \\frac{\\left(- \\frac{2 M}{r^{2}} + \\frac{k}{r^{3}}\\right) \\left(\\frac{M}{r} - \\frac{k}{4 r^{2}} - \\frac{1}{2}\\right)}{\\left(- \\frac{2 M}{r} + \\frac{k}{2 r^{2}} + 1\\right)^{2}} & 0 & 0\\\\0 & 0 & 2 r \\left(\\frac{M}{r} - \\frac{k}{4 r^{2}} - \\frac{1}{2}\\right) & 0\\\\0 & 0 & 0 & 2 r \\left(\\frac{M}{r} - \\frac{k}{4 r^{2}} - \\frac{1}{2}\\right) \\sin^{2}{\\left(\\theta \\right)}\\end{matrix}\\right]$$"
     },
     "metadata": {}
    },
    {
     "output_type": "display_data",
     "data": {
      "text/plain": "<IPython.core.display.Latex object>",
      "text/latex": "$$\\Gamma^\\theta_{\\alpha \\beta} =\\left[\\begin{matrix}0 & 0 & 0 & 0\\\\0 & 0 & \\frac{1}{r} & 0\\\\0 & \\frac{1}{r} & 0 & 0\\\\0 & 0 & 0 & - \\sin{\\left(\\theta \\right)} \\cos{\\left(\\theta \\right)}\\end{matrix}\\right]$$"
     },
     "metadata": {}
    },
    {
     "output_type": "display_data",
     "data": {
      "text/plain": "<IPython.core.display.Latex object>",
      "text/latex": "$$\\Gamma^\\phi_{\\alpha \\beta} =\\left[\\begin{matrix}0 & 0 & 0 & 0\\\\0 & 0 & 0 & \\frac{1}{r}\\\\0 & 0 & 0 & \\frac{\\cos{\\left(\\theta \\right)}}{\\sin{\\left(\\theta \\right)}}\\\\0 & \\frac{1}{r} & \\frac{\\cos{\\left(\\theta \\right)}}{\\sin{\\left(\\theta \\right)}} & 0\\end{matrix}\\right]$$"
     },
     "metadata": {}
    },
    {
     "output_type": "display_data",
     "data": {
      "text/plain": "<IPython.core.display.Latex object>",
      "text/latex": "$$R_t=\\left[\\begin{matrix}- \\frac{k \\left(- 4 M r + k + 2 r^{2}\\right)}{4 r^{6}} & 0 & 0 & 0\\\\0 & \\frac{k}{r^{2} \\left(- 4 M r + k + 2 r^{2}\\right)} & 0 & 0\\\\0 & 0 & - \\frac{k}{2 r^{2}} & 0\\\\0 & 0 & 0 & - \\frac{k \\sin^{2}{\\left(\\theta \\right)}}{2 r^{2}}\\end{matrix}\\right]$$"
     },
     "metadata": {}
    },
    {
     "output_type": "display_data",
     "data": {
      "text/plain": "<IPython.core.display.Latex object>",
      "text/latex": "$$R_s=0$$"
     },
     "metadata": {}
    }
   ],
   "source": [
    "M = symbols(\"M\")\n",
    "\n",
    "g0 = Matrix(g).subs(B, 1/A)\n",
    "g0 = Matrix(g0).subs(A, 1 - 2*M/r + k/(2*r**2))\n",
    "g0_inv = g0**(-1)\n",
    "\n",
    "print_tensor(g0, \"g\")\n",
    "print_tensor(g0**(-1), \"g^{-1}\")\n",
    "C0 = Christoffel(g0, g0_inv, var)\n",
    "print_christoffel(C0, var)\n",
    "Rie0 = Riemann_tensor(C0, var)\n",
    "Ricci0 = -contract(Rie0, upper=1, num_indx=4, indx=(0, 2))\n",
    "print_tensor(simplify(Ricci0), \"R_t\")\n",
    "R0 = contract(Ricci0, upper=0, g_inv=g0_inv)\n",
    "R0 = simplify(R0)\n",
    "print_scalar(R0, \"R_s\")"
   ]
  },
  {
   "cell_type": "code",
   "execution_count": 22,
   "metadata": {},
   "outputs": [
    {
     "output_type": "execute_result",
     "data": {
      "text/plain": [
       "2*(24*M**2*r**2 - 24*M*k*r + 7*k**2)/r**8"
      ],
      "text/latex": "$\\displaystyle \\frac{2 \\left(24 M^{2} r^{2} - 24 M k r + 7 k^{2}\\right)}{r^{8}}$"
     },
     "metadata": {},
     "execution_count": 22
    }
   ],
   "source": [
    "Ru = raise_indx(raise_indx(raise_indx(Rie0, g0_inv, 1, 4), g0_inv, 2, 3), g0_inv, 3, 4)\n",
    "Rl = lower_indx(Rie0, g0, 0, 4)\n",
    "\n",
    "\n",
    "simplify(sum(sum(sum(sum(Ru * Rl)))))"
   ]
  }
 ],
 "metadata": {
  "kernelspec": {
   "display_name": "Python 3",
   "language": "python",
   "name": "python3"
  },
  "language_info": {
   "codemirror_mode": {
    "name": "ipython",
    "version": 3
   },
   "file_extension": ".py",
   "mimetype": "text/x-python",
   "name": "python",
   "nbconvert_exporter": "python",
   "pygments_lexer": "ipython3",
   "version": "3.8.3-final"
  }
 },
 "nbformat": 4,
 "nbformat_minor": 4
}