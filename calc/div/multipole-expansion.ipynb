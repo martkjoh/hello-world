{
 "metadata": {
  "language_info": {
   "codemirror_mode": {
    "name": "ipython",
    "version": 3
   },
   "file_extension": ".py",
   "mimetype": "text/x-python",
   "name": "python",
   "nbconvert_exporter": "python",
   "pygments_lexer": "ipython3",
   "version": "3.8.6-final"
  },
  "orig_nbformat": 2,
  "kernelspec": {
   "name": "python3",
   "display_name": "Python 3"
  }
 },
 "nbformat": 4,
 "nbformat_minor": 2,
 "cells": [
  {
   "cell_type": "code",
   "execution_count": 1,
   "metadata": {},
   "outputs": [
    {
     "output_type": "stream",
     "name": "stdout",
     "text": [
      "/home/martin/repos/slange/calc\n"
     ]
    }
   ],
   "source": [
    "# Needed to be able to import properly\n",
    "import sys, os\n",
    "print(os.getcwd())\n",
    "# if os.getcwd().split(\"\\\\\")[-1]=='div': os.chdir(os.path.abspath(\".\\\\..\"))\n",
    "# if os.getcwd().split(\"\\\\\")[-1] != 'calc': raise(\"This file must be run from the calc dir\")\n",
    "\n",
    "from calcs.tensors import *"
   ]
  },
  {
   "cell_type": "code",
   "execution_count": 4,
   "metadata": {},
   "outputs": [
    {
     "output_type": "stream",
     "name": "stdout",
     "text": [
      "['c:\\\\Users\\\\marti\\\\Google Drive\\\\envy\\\\repos\\\\calc', 'c:\\\\Users\\\\marti\\\\.vscode\\\\extensions\\\\ms-python.python-2020.10.332292344\\\\pythonFiles', 'c:\\\\Users\\\\marti\\\\.vscode\\\\extensions\\\\ms-python.python-2020.10.332292344\\\\pythonFiles', 'c:\\\\Users\\\\marti\\\\.vscode\\\\extensions\\\\ms-python.python-2020.10.332292344\\\\pythonFiles\\\\lib\\\\python', 'C:\\\\Users\\\\marti\\\\AppData\\\\Local\\\\Programs\\\\Python\\\\Python38-32\\\\python38.zip', 'C:\\\\Users\\\\marti\\\\AppData\\\\Local\\\\Programs\\\\Python\\\\Python38-32\\\\DLLs', 'C:\\\\Users\\\\marti\\\\AppData\\\\Local\\\\Programs\\\\Python\\\\Python38-32\\\\lib', 'C:\\\\Users\\\\marti\\\\AppData\\\\Local\\\\Programs\\\\Python\\\\Python38-32', '', 'C:\\\\Users\\\\marti\\\\AppData\\\\Roaming\\\\Python\\\\Python38\\\\site-packages', 'C:\\\\Users\\\\marti\\\\AppData\\\\Local\\\\Programs\\\\Python\\\\Python38-32\\\\lib\\\\site-packages', 'C:\\\\Users\\\\marti\\\\AppData\\\\Local\\\\Programs\\\\Python\\\\Python38-32\\\\lib\\\\site-packages\\\\win32', 'C:\\\\Users\\\\marti\\\\AppData\\\\Local\\\\Programs\\\\Python\\\\Python38-32\\\\lib\\\\site-packages\\\\win32\\\\lib', 'C:\\\\Users\\\\marti\\\\AppData\\\\Local\\\\Programs\\\\Python\\\\Python38-32\\\\lib\\\\site-packages\\\\Pythonwin', 'C:\\\\Users\\\\marti\\\\AppData\\\\Local\\\\Programs\\\\Python\\\\Python38-32\\\\lib\\\\site-packages\\\\IPython\\\\extensions', 'C:\\\\Users\\\\marti\\\\.ipython']\n\nc:\\Users\\marti\\Google Drive\\envy\\repos\\calc\n"
     ]
    }
   ],
   "source": [
    "print(sys.path)\n",
    "print()\n",
    "print(os.getcwd())"
   ]
  },
  {
   "cell_type": "code",
   "execution_count": 5,
   "metadata": {},
   "outputs": [],
   "source": [
    "x1, x2, x3 = sp.symbols(\"x_1, x_2, x_3\")\n",
    "a1, a2, a3 = sp.symbols(\"a_1, a_2, a_3\")\n",
    "x = np.array([x1, x2, x3])\n",
    "a = np.array([a1, a2, a3])"
   ]
  },
  {
   "cell_type": "code",
   "execution_count": 6,
   "metadata": {},
   "outputs": [
    {
     "output_type": "execute_result",
     "data": {
      "text/plain": [
       "1/sqrt(x_1**2 + x_2**2 + x_3**2)"
      ],
      "text/latex": "$\\displaystyle \\frac{1}{\\sqrt{x_{1}^{2} + x_{2}^{2} + x_{3}^{2}}}$"
     },
     "metadata": {},
     "execution_count": 6
    }
   ],
   "source": [
    "r_inv = 1 / sp.sqrt(np.sum((x)**2))\n",
    "r_inv"
   ]
  },
  {
   "source": [
    "$$ \n",
    "    f(\\vec x + \\vec a) = \\sum_n \\frac{1}{n!}\\left( a \\cdot \\nabla\\right)^n f(\\vec x)\n",
    "$$"
   ],
   "cell_type": "markdown",
   "metadata": {}
  },
  {
   "cell_type": "code",
   "execution_count": 7,
   "metadata": {},
   "outputs": [
    {
     "output_type": "execute_result",
     "data": {
      "text/plain": [
       "-(a_1*(a_1*(x_1**2 + x_2**2 + x_3**2) - 3*x_1*(a_1*x_1 + a_2*x_2 + a_3*x_3)) + a_2*(a_2*(x_1**2 + x_2**2 + x_3**2) - 3*x_2*(a_1*x_1 + a_2*x_2 + a_3*x_3)) + a_3*(a_3*(x_1**2 + x_2**2 + x_3**2) - 3*x_3*(a_1*x_1 + a_2*x_2 + a_3*x_3)))/(x_1**2 + x_2**2 + x_3**2)**(5/2)"
      ],
      "text/latex": "$\\displaystyle - \\frac{a_{1} \\left(a_{1} \\left(x_{1}^{2} + x_{2}^{2} + x_{3}^{2}\\right) - 3 x_{1} \\left(a_{1} x_{1} + a_{2} x_{2} + a_{3} x_{3}\\right)\\right) + a_{2} \\left(a_{2} \\left(x_{1}^{2} + x_{2}^{2} + x_{3}^{2}\\right) - 3 x_{2} \\left(a_{1} x_{1} + a_{2} x_{2} + a_{3} x_{3}\\right)\\right) + a_{3} \\left(a_{3} \\left(x_{1}^{2} + x_{2}^{2} + x_{3}^{2}\\right) - 3 x_{3} \\left(a_{1} x_{1} + a_{2} x_{2} + a_{3} x_{3}\\right)\\right)}{\\left(x_{1}^{2} + x_{2}^{2} + x_{3}^{2}\\right)^{\\frac{5}{2}}}$"
     },
     "metadata": {},
     "execution_count": 7
    }
   ],
   "source": [
    "def a_dot_nabla(f, a):\n",
    "    return simplify(np.sum([a[i] * sp.diff(f, x[i]) for i in range(len(x))]))\n",
    "\n",
    "a_dot_nabla(a_dot_nabla(r_inv, a), a)"
   ]
  },
  {
   "cell_type": "code",
   "execution_count": 8,
   "metadata": {},
   "outputs": [],
   "source": [
    "def taylor_n(f, n, a, taylor_last):\n",
    "    return 1 / sp.factorial(n) * a_dot_nabla(a)"
   ]
  },
  {
   "cell_type": "code",
   "execution_count": 9,
   "metadata": {},
   "outputs": [],
   "source": [
    "from sympy.vector import CoordSys3D, dot\n",
    "\n",
    "x = CoordSys3D('x')"
   ]
  },
  {
   "cell_type": "code",
   "execution_count": 10,
   "metadata": {},
   "outputs": [],
   "source": [
    "v = x1 * x.i + x2 * x.j + x3 * x.k\n",
    "a = x1 * x.i + x2 * x.j + x3 * x.k\n",
    "var = (x1, x2, x3)\n",
    "basis = (x.i, x.j, x.k)"
   ]
  },
  {
   "cell_type": "code",
   "execution_count": 11,
   "metadata": {},
   "outputs": [
    {
     "output_type": "execute_result",
     "data": {
      "text/plain": [
       "(-x_1/(x_1**2 + x_2**2 + x_3**2)**(3/2))*x.i + (-x_2/(x_1**2 + x_2**2 + x_3**2)**(3/2))*x.j + (-x_3/(x_1**2 + x_2**2 + x_3**2)**(3/2))*x.k"
      ],
      "text/latex": "$\\displaystyle (- \\frac{x_{1}}{\\left(x_{1}^{2} + x_{2}^{2} + x_{3}^{2}\\right)^{\\frac{3}{2}}})\\mathbf{\\hat{i}_{x}} + (- \\frac{x_{2}}{\\left(x_{1}^{2} + x_{2}^{2} + x_{3}^{2}\\right)^{\\frac{3}{2}}})\\mathbf{\\hat{j}_{x}} + (- \\frac{x_{3}}{\\left(x_{1}^{2} + x_{2}^{2} + x_{3}^{2}\\right)^{\\frac{3}{2}}})\\mathbf{\\hat{k}_{x}}$"
     },
     "metadata": {},
     "execution_count": 11
    }
   ],
   "source": [
    "v.dot(v)\n",
    "r_inv = 1 / v.magnitude()\n",
    "r_inv\n",
    "simplify(np.sum([diff(r_inv, var[i]) * x  for i, x in enumerate(basis)]))"
   ]
  },
  {
   "cell_type": "code",
   "execution_count": 12,
   "metadata": {},
   "outputs": [
    {
     "output_type": "error",
     "ename": "TypeError",
     "evalue": "'VectorAdd' object is not subscriptable",
     "traceback": [
      "\u001b[1;31m---------------------------------------------------------------------------\u001b[0m",
      "\u001b[1;31mTypeError\u001b[0m                                 Traceback (most recent call last)",
      "\u001b[1;32m<ipython-input-12-16bf935a5679>\u001b[0m in \u001b[0;36m<module>\u001b[1;34m\u001b[0m\n\u001b[0;32m      2\u001b[0m     \u001b[1;32mreturn\u001b[0m \u001b[0msimplify\u001b[0m\u001b[1;33m(\u001b[0m\u001b[0mnp\u001b[0m\u001b[1;33m.\u001b[0m\u001b[0msum\u001b[0m\u001b[1;33m(\u001b[0m\u001b[1;33m[\u001b[0m\u001b[0ma\u001b[0m\u001b[1;33m[\u001b[0m\u001b[0mi\u001b[0m\u001b[1;33m]\u001b[0m \u001b[1;33m*\u001b[0m \u001b[0msp\u001b[0m\u001b[1;33m.\u001b[0m\u001b[0mdiff\u001b[0m\u001b[1;33m(\u001b[0m\u001b[0mf\u001b[0m\u001b[1;33m,\u001b[0m \u001b[0mvar\u001b[0m\u001b[1;33m[\u001b[0m\u001b[0mi\u001b[0m\u001b[1;33m]\u001b[0m\u001b[1;33m)\u001b[0m \u001b[1;32mfor\u001b[0m \u001b[0mi\u001b[0m \u001b[1;32min\u001b[0m \u001b[0mrange\u001b[0m\u001b[1;33m(\u001b[0m\u001b[0mlen\u001b[0m\u001b[1;33m(\u001b[0m\u001b[0mvar\u001b[0m\u001b[1;33m)\u001b[0m\u001b[1;33m)\u001b[0m\u001b[1;33m]\u001b[0m\u001b[1;33m)\u001b[0m\u001b[1;33m)\u001b[0m\u001b[1;33m\u001b[0m\u001b[1;33m\u001b[0m\u001b[0m\n\u001b[0;32m      3\u001b[0m \u001b[1;33m\u001b[0m\u001b[0m\n\u001b[1;32m----> 4\u001b[1;33m \u001b[0ma_dot_nabla\u001b[0m\u001b[1;33m(\u001b[0m\u001b[0mr_inv\u001b[0m\u001b[1;33m,\u001b[0m \u001b[0ma\u001b[0m\u001b[1;33m,\u001b[0m \u001b[0mvar\u001b[0m\u001b[1;33m)\u001b[0m\u001b[1;33m\u001b[0m\u001b[1;33m\u001b[0m\u001b[0m\n\u001b[0m",
      "\u001b[1;32m<ipython-input-12-16bf935a5679>\u001b[0m in \u001b[0;36ma_dot_nabla\u001b[1;34m(f, a, var)\u001b[0m\n\u001b[0;32m      1\u001b[0m \u001b[1;32mdef\u001b[0m \u001b[0ma_dot_nabla\u001b[0m\u001b[1;33m(\u001b[0m\u001b[0mf\u001b[0m\u001b[1;33m,\u001b[0m \u001b[0ma\u001b[0m\u001b[1;33m,\u001b[0m \u001b[0mvar\u001b[0m\u001b[1;33m)\u001b[0m\u001b[1;33m:\u001b[0m\u001b[1;33m\u001b[0m\u001b[1;33m\u001b[0m\u001b[0m\n\u001b[1;32m----> 2\u001b[1;33m     \u001b[1;32mreturn\u001b[0m \u001b[0msimplify\u001b[0m\u001b[1;33m(\u001b[0m\u001b[0mnp\u001b[0m\u001b[1;33m.\u001b[0m\u001b[0msum\u001b[0m\u001b[1;33m(\u001b[0m\u001b[1;33m[\u001b[0m\u001b[0ma\u001b[0m\u001b[1;33m[\u001b[0m\u001b[0mi\u001b[0m\u001b[1;33m]\u001b[0m \u001b[1;33m*\u001b[0m \u001b[0msp\u001b[0m\u001b[1;33m.\u001b[0m\u001b[0mdiff\u001b[0m\u001b[1;33m(\u001b[0m\u001b[0mf\u001b[0m\u001b[1;33m,\u001b[0m \u001b[0mvar\u001b[0m\u001b[1;33m[\u001b[0m\u001b[0mi\u001b[0m\u001b[1;33m]\u001b[0m\u001b[1;33m)\u001b[0m \u001b[1;32mfor\u001b[0m \u001b[0mi\u001b[0m \u001b[1;32min\u001b[0m \u001b[0mrange\u001b[0m\u001b[1;33m(\u001b[0m\u001b[0mlen\u001b[0m\u001b[1;33m(\u001b[0m\u001b[0mvar\u001b[0m\u001b[1;33m)\u001b[0m\u001b[1;33m)\u001b[0m\u001b[1;33m]\u001b[0m\u001b[1;33m)\u001b[0m\u001b[1;33m)\u001b[0m\u001b[1;33m\u001b[0m\u001b[1;33m\u001b[0m\u001b[0m\n\u001b[0m\u001b[0;32m      3\u001b[0m \u001b[1;33m\u001b[0m\u001b[0m\n\u001b[0;32m      4\u001b[0m \u001b[0ma_dot_nabla\u001b[0m\u001b[1;33m(\u001b[0m\u001b[0mr_inv\u001b[0m\u001b[1;33m,\u001b[0m \u001b[0ma\u001b[0m\u001b[1;33m,\u001b[0m \u001b[0mvar\u001b[0m\u001b[1;33m)\u001b[0m\u001b[1;33m\u001b[0m\u001b[1;33m\u001b[0m\u001b[0m\n",
      "\u001b[1;32m<ipython-input-12-16bf935a5679>\u001b[0m in \u001b[0;36m<listcomp>\u001b[1;34m(.0)\u001b[0m\n\u001b[0;32m      1\u001b[0m \u001b[1;32mdef\u001b[0m \u001b[0ma_dot_nabla\u001b[0m\u001b[1;33m(\u001b[0m\u001b[0mf\u001b[0m\u001b[1;33m,\u001b[0m \u001b[0ma\u001b[0m\u001b[1;33m,\u001b[0m \u001b[0mvar\u001b[0m\u001b[1;33m)\u001b[0m\u001b[1;33m:\u001b[0m\u001b[1;33m\u001b[0m\u001b[1;33m\u001b[0m\u001b[0m\n\u001b[1;32m----> 2\u001b[1;33m     \u001b[1;32mreturn\u001b[0m \u001b[0msimplify\u001b[0m\u001b[1;33m(\u001b[0m\u001b[0mnp\u001b[0m\u001b[1;33m.\u001b[0m\u001b[0msum\u001b[0m\u001b[1;33m(\u001b[0m\u001b[1;33m[\u001b[0m\u001b[0ma\u001b[0m\u001b[1;33m[\u001b[0m\u001b[0mi\u001b[0m\u001b[1;33m]\u001b[0m \u001b[1;33m*\u001b[0m \u001b[0msp\u001b[0m\u001b[1;33m.\u001b[0m\u001b[0mdiff\u001b[0m\u001b[1;33m(\u001b[0m\u001b[0mf\u001b[0m\u001b[1;33m,\u001b[0m \u001b[0mvar\u001b[0m\u001b[1;33m[\u001b[0m\u001b[0mi\u001b[0m\u001b[1;33m]\u001b[0m\u001b[1;33m)\u001b[0m \u001b[1;32mfor\u001b[0m \u001b[0mi\u001b[0m \u001b[1;32min\u001b[0m \u001b[0mrange\u001b[0m\u001b[1;33m(\u001b[0m\u001b[0mlen\u001b[0m\u001b[1;33m(\u001b[0m\u001b[0mvar\u001b[0m\u001b[1;33m)\u001b[0m\u001b[1;33m)\u001b[0m\u001b[1;33m]\u001b[0m\u001b[1;33m)\u001b[0m\u001b[1;33m)\u001b[0m\u001b[1;33m\u001b[0m\u001b[1;33m\u001b[0m\u001b[0m\n\u001b[0m\u001b[0;32m      3\u001b[0m \u001b[1;33m\u001b[0m\u001b[0m\n\u001b[0;32m      4\u001b[0m \u001b[0ma_dot_nabla\u001b[0m\u001b[1;33m(\u001b[0m\u001b[0mr_inv\u001b[0m\u001b[1;33m,\u001b[0m \u001b[0ma\u001b[0m\u001b[1;33m,\u001b[0m \u001b[0mvar\u001b[0m\u001b[1;33m)\u001b[0m\u001b[1;33m\u001b[0m\u001b[1;33m\u001b[0m\u001b[0m\n",
      "\u001b[1;31mTypeError\u001b[0m: 'VectorAdd' object is not subscriptable"
     ]
    }
   ],
   "source": [
    "def a_dot_nabla(f, a, var):\n",
    "    return simplify(np.sum([a[i] * sp.diff(f, var[i]) for i in range(len(var))]))\n",
    "\n",
    "a_dot_nabla(r_inv, a, var)"
   ]
  }
 ]
}