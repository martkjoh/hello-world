{
 "metadata": {
  "language_info": {
   "codemirror_mode": {
    "name": "ipython",
    "version": 3
   },
   "file_extension": ".py",
   "mimetype": "text/x-python",
   "name": "python",
   "nbconvert_exporter": "python",
   "pygments_lexer": "ipython3",
   "version": "3.8.6-final"
  },
  "orig_nbformat": 2,
  "kernelspec": {
   "name": "python3",
   "display_name": "Python 3"
  }
 },
 "nbformat": 4,
 "nbformat_minor": 2,
 "cells": [
  {
   "cell_type": "code",
   "execution_count": null,
   "metadata": {},
   "outputs": [],
   "source": [
    "# Needed to be able to import properly\n",
    "import sys, os\n",
    "print(os.getcwd())\n",
    "# if os.getcwd().split(\"\\\\\")[-1]=='div': os.chdir(os.path.abspath(\".\\\\..\"))\n",
    "# if os.getcwd().split(\"\\\\\")[-1] != 'calc': raise(\"This file must be run from the calc dir\")\n",
    "\n",
    "from calcs.tensors import *"
   ]
  },
  {
   "cell_type": "code",
   "execution_count": null,
   "metadata": {},
   "outputs": [],
   "source": [
    "print(sys.path)\n",
    "print()\n",
    "print(os.getcwd())"
   ]
  },
  {
   "cell_type": "code",
   "execution_count": null,
   "metadata": {},
   "outputs": [],
   "source": [
    "x1, x2, x3 = sp.symbols(\"x_1, x_2, x_3\")\n",
    "a1, a2, a3 = sp.symbols(\"a_1, a_2, a_3\")\n",
    "x = np.array([x1, x2, x3])\n",
    "a = np.array([a1, a2, a3])"
   ]
  },
  {
   "cell_type": "code",
   "execution_count": null,
   "metadata": {},
   "outputs": [],
   "source": [
    "r_inv = 1 / sp.sqrt(np.sum((x)**2))\n",
    "r_inv"
   ]
  },
  {
   "source": [
    "$$ \n",
    "    f(\\vec x + \\vec a) = \\sum_n \\frac{1}{n!}\\left( a \\cdot \\nabla\\right)^n f(\\vec x)\n",
    "$$"
   ],
   "cell_type": "markdown",
   "metadata": {}
  },
  {
   "cell_type": "code",
   "execution_count": null,
   "metadata": {},
   "outputs": [],
   "source": [
    "def a_dot_nabla(f, a):\n",
    "    return simplify(np.sum([a[i] * sp.diff(f, x[i]) for i in range(len(x))]))\n",
    "\n",
    "a_dot_nabla(a_dot_nabla(r_inv, a), a)"
   ]
  },
  {
   "cell_type": "code",
   "execution_count": null,
   "metadata": {},
   "outputs": [],
   "source": [
    "def taylor_n(f, n, a, taylor_last):\n",
    "    return 1 / sp.factorial(n) * a_dot_nabla(a)"
   ]
  },
  {
   "cell_type": "code",
   "execution_count": null,
   "metadata": {},
   "outputs": [],
   "source": [
    "from sympy.vector import CoordSys3D, dot\n",
    "\n",
    "x = CoordSys3D('x')"
   ]
  },
  {
   "cell_type": "code",
   "execution_count": null,
   "metadata": {},
   "outputs": [],
   "source": [
    "v = x1 * x.i + x2 * x.j + x3 * x.k\n",
    "a = x1 * x.i + x2 * x.j + x3 * x.k\n",
    "var = (x1, x2, x3)\n",
    "basis = (x.i, x.j, x.k)"
   ]
  },
  {
   "cell_type": "code",
   "execution_count": null,
   "metadata": {},
   "outputs": [],
   "source": [
    "v.dot(v)\n",
    "r_inv = 1 / v.magnitude()\n",
    "r_inv\n",
    "simplify(np.sum([diff(r_inv, var[i]) * x  for i, x in enumerate(basis)]))"
   ]
  },
  {
   "cell_type": "code",
   "execution_count": null,
   "metadata": {},
   "outputs": [],
   "source": [
    "def a_dot_nabla(f, a, var):\n",
    "    return simplify(np.sum([a[i] * sp.diff(f, var[i]) for i in range(len(var))]))\n",
    "\n",
    "a_dot_nabla(r_inv, a, var)"
   ]
  }
 ]
}