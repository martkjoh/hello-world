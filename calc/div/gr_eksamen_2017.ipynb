{
 "metadata": {
  "language_info": {
   "codemirror_mode": {
    "name": "ipython",
    "version": 3
   },
   "file_extension": ".py",
   "mimetype": "text/x-python",
   "name": "python",
   "nbconvert_exporter": "python",
   "pygments_lexer": "ipython3",
   "version": "3.8.3-final"
  },
  "orig_nbformat": 2,
  "kernelspec": {
   "name": "python3",
   "display_name": "Python 3"
  }
 },
 "nbformat": 4,
 "nbformat_minor": 2,
 "cells": [
  {
   "cell_type": "code",
   "execution_count": null,
   "metadata": {},
   "outputs": [],
   "source": [
    "# Only necessary if jupyter server is running in \"div\" folder\n",
    "import sys, os\n",
    "sys.path.insert(0, os.path.abspath(\".\\\\..\"))"
   ]
  },
  {
   "cell_type": "code",
   "execution_count": null,
   "metadata": {},
   "outputs": [],
   "source": [
    "from calcs.tensors import *"
   ]
  },
  {
   "cell_type": "code",
   "execution_count": null,
   "metadata": {},
   "outputs": [],
   "source": [
    "t, r, ph = symbols(\"t, r, \\\\varphi\")\n",
    "f = sp.Function(\"f\")(r)\n",
    "\n",
    "g = sp.Matrix([\n",
    "    [-f, 0, 0],\n",
    "    [0, 1/f, 0],\n",
    "    [0, 0, r**2]\n",
    "])\n",
    "\n",
    "metric_analysis(g, (t, r, ph))"
   ]
  },
  {
   "source": [
    "# ex 2"
   ],
   "cell_type": "markdown",
   "metadata": {}
  },
  {
   "cell_type": "code",
   "execution_count": null,
   "metadata": {},
   "outputs": [],
   "source": [
    "from sympy import atan\n",
    "\n",
    "x, y, z = sp.symbols(\"x, y, z\")\n",
    "sp.diff(atan(x))"
   ]
  }
 ]
}