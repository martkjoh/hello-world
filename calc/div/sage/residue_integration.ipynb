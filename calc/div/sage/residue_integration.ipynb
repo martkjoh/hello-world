{
 "cells": [
  {
   "cell_type": "code",
   "execution_count": 87,
   "id": "norman-exhibition",
   "metadata": {},
   "outputs": [
    {
     "data": {
      "text/latex": [
       "$$ -\\frac{i \\, {\\lambda}^{2}}{16 \\, \\pi^{2} {\\left(m^{2} - {\\omega_0}^{2} + i \\, {\\epsilon}\\right)}^{2} {\\left(m^{2} - {\\omega_1}^{2} + i \\, {\\epsilon}\\right)}} $$"
      ],
      "text/plain": [
       "<IPython.core.display.Latex object>"
      ]
     },
     "metadata": {},
     "output_type": "display_data"
    }
   ],
   "source": [
    "w = [var(f\"w_{i}\", latex_name=(f\"\\\\omega_{i}\")) for i in range(2)]\n",
    "var(\"m\")\n",
    "var(\"e\", latex_name=\"\\\\epsilon\")\n",
    "var(\"l\", latex_name=\"\\\\lambda\")\n",
    "assume(m>0)\n",
    "assume(e>0)\n",
    "G(x) = I / (x**2 - m**2 - I*e)\n",
    "f = (G(w[0]))**2 * G(w[1]) * ((-I * l)**2 / 4) / (2 * pi)**2\n",
    "pprint(f)"
   ]
  },
  {
   "cell_type": "code",
   "execution_count": 88,
   "id": "bearing-praise",
   "metadata": {},
   "outputs": [
    {
     "data": {
      "text/latex": [
       "$$ \\frac{i \\, {\\lambda}^{2}}{32 \\, m^{4}} $$"
      ],
      "text/plain": [
       "<IPython.core.display.Latex object>"
      ]
     },
     "metadata": {},
     "output_type": "display_data"
    }
   ],
   "source": [
    "sol = 1\n",
    "func = f\n",
    "for i, x in enumerate(w):\n",
    "    s = 0\n",
    "    poles = solve(1/func == 0, x)\n",
    "    for pole in poles:\n",
    "        if pole.rhs().taylor(e, 0, 1).imag().is_positive(): continue\n",
    "        else: s += 2 * pi * I * func.residue(pole)\n",
    "    func = s\n",
    "pprint(func.taylor(e, 0, 0))"
   ]
  }
 ],
 "metadata": {
  "kernelspec": {
   "display_name": "SageMath 9.0",
   "language": "sage",
   "name": "sagemath"
  },
  "language_info": {
   "codemirror_mode": {
    "name": "ipython",
    "version": 3
   },
   "file_extension": ".py",
   "mimetype": "text/x-python",
   "name": "python",
   "nbconvert_exporter": "python",
   "pygments_lexer": "ipython3",
   "version": "3.8.5"
  }
 },
 "nbformat": 4,
 "nbformat_minor": 5
}
