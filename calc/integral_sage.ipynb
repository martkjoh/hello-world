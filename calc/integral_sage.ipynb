{
 "cells": [
  {
   "cell_type": "code",
   "execution_count": null,
   "metadata": {},
   "outputs": [],
   "source": [
    "var(\"m\")\n",
    "assume(m>0)\n",
    "f(x) = 1 / sqrt(-(1 - 2*m / x))\n",
    "pprint(f(x))"
   ]
  },
  {
   "cell_type": "code",
   "execution_count": null,
   "metadata": {},
   "outputs": [],
   "source": [
    "pprint(integral(f, x, 2*m, 0))"
   ]
  },
  {
   "cell_type": "code",
   "execution_count": null,
   "metadata": {},
   "outputs": [],
   "source": [
    "var(\"a\", latex_name=\"\\\\alpha\")\n",
    "assume(a>0)\n",
    "var(\"n\")\n",
    "assume(n>0)\n",
    "assume(n, \"integer\")\n",
    "g(x) = x * exp(- a * x**2 / 2)\n",
    "pprint(g(x))"
   ]
  },
  {
   "cell_type": "code",
   "execution_count": null,
   "metadata": {},
   "outputs": [],
   "source": [
    "pprint(integral(x**n*exp(-a*x**2/2), x, 0, oo))"
   ]
  },
  {
   "cell_type": "code",
   "execution_count": null,
   "metadata": {},
   "outputs": [],
   "source": [
    "h = g * diff(g, x, x)\n",
    "pprint(h)"
   ]
  },
  {
   "cell_type": "code",
   "execution_count": null,
   "metadata": {},
   "outputs": [],
   "source": [
    "b = integral(h, x, 0, oo)\n",
    "pprint(b)"
   ]
  },
  {
   "cell_type": "code",
   "execution_count": null,
   "metadata": {},
   "outputs": [],
   "source": [
    "var(\"w\", latex_name=\"\\\\omega\")\n",
    "var(\"r, R\")\n",
    "assume(R>0)\n",
    "assume(w>0)\n",
    "assume(R*w > 1)\n",
    "pprint(integral(r / sqrt(1 - (w*r)**2), r, 0, R))"
   ]
  },
  {
   "cell_type": "code",
   "execution_count": null,
   "metadata": {},
   "outputs": [],
   "source": [
    "var(\"M\")\n",
    "var(\"R0\")\n",
    "assume(M>0)\n",
    "assume(R>2*M)\n",
    "assume(R0>R)\n",
    "dtdr = - 1/(sqrt(2*M/R) * (1 - 2*M/r))\n",
    "intg = integral(dtdr, r, R0, R)\n",
    "pprint(expand(intg))\n"
   ]
  },
  {
   "cell_type": "code",
   "execution_count": null,
   "metadata": {},
   "outputs": [],
   "source": [
    "var(\"x\")\n",
    "pprint(integral(1/sqrt(2/x-1/5), x, 10, 0))"
   ]
  },
  {
   "cell_type": "code",
   "execution_count": null,
   "metadata": {},
   "outputs": [],
   "source": [
    "var(\"L, n, x\")\n",
    "assume(n, \"integer\")\n",
    "assume(L > 0)\n",
    "sin1(x) = 1 / sqrt(L) * sin(pi * x *n/ L)\n",
    "sin2(x) = 1 /(sqrt(L * 2)) * sin(pi * n * x / (2*L))\n",
    "intg = integral(sin1(x) * sin2(x), x, 0, L)\n",
    "pprint(simplify(intg))"
   ]
  },
  {
   "cell_type": "code",
   "execution_count": null,
   "metadata": {},
   "outputs": [],
   "source": [
    "var(\"a, q\")\n",
    "assume(a > 0)\n",
    "pprint(integral(x * exp(-a*x)*sin(q*x), x, 0, oo, assume(x>0)))"
   ]
  },
  {
   "cell_type": "code",
   "execution_count": null,
   "metadata": {},
   "outputs": [],
   "source": [
    "f(q) = a * (16 + 2*a**2 * q**2)/(4 + a**2 * q**2)**2\n",
    "pprint(f)"
   ]
  },
  {
   "cell_type": "code",
   "execution_count": null,
   "metadata": {},
   "outputs": [],
   "source": [
    "var(\"k\")\n",
    "assume(k>0)\n",
    "intg = integral(2 * pi / k**2 * q *f(q)**2, q, 0, 2*k, hold=True)\n",
    "pprint(intg)"
   ]
  },
  {
   "cell_type": "code",
   "execution_count": null,
   "metadata": {},
   "outputs": [],
   "source": [
    "intg = intg.full_simplify()\n",
    "pprint(intg)"
   ]
  },
  {
   "cell_type": "code",
   "execution_count": null,
   "metadata": {},
   "outputs": [],
   "source": [
    "pprint(intg.series(k, 8))"
   ]
  },
  {
   "cell_type": "code",
   "execution_count": null,
   "metadata": {},
   "outputs": [],
   "source": [
    "var(\"a\")\n",
    "assume(a>0)\n",
    "pprint(integral(x**(-1/2)*exp(-a*x), x, 0, oo))"
   ]
  },
  {
   "cell_type": "code",
   "execution_count": null,
   "metadata": {},
   "outputs": [],
   "source": [
    "var(\"a\")\n",
    "assume(a<0)\n",
    "pprint(integral(exp(- a * x) / sqrt(x), x, 0, oo))"
   ]
  },
  {
   "cell_type": "code",
   "execution_count": null,
   "metadata": {},
   "outputs": [],
   "source": [
    "pprint(D(r).full_simplify())"
   ]
  }
 ],
 "metadata": {
  "kernelspec": {
   "display_name": "SageMath 9.2",
   "language": "sage",
   "name": "sagemath"
  },
  "language_info": {
   "codemirror_mode": {
    "name": "ipython",
    "version": 3
   },
   "file_extension": ".py",
   "mimetype": "text/x-python",
   "name": "python",
   "nbconvert_exporter": "python",
   "pygments_lexer": "ipython3",
   "version": "3.9.1"
  }
 },
 "nbformat": 4,
 "nbformat_minor": 4
}