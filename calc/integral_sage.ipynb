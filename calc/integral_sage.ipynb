{
 "cells": [
  {
   "cell_type": "code",
   "execution_count": 1,
   "metadata": {},
   "outputs": [
    {
     "data": {
      "text/latex": [
       "$ \\frac{1}{\\sqrt{\\frac{2 \\, m}{x} - 1}} $"
      ],
      "text/plain": [
       "<IPython.core.display.Latex object>"
      ]
     },
     "execution_count": 1,
     "metadata": {},
     "output_type": "execute_result"
    }
   ],
   "source": [
    "var(\"m\")\n",
    "assume(m>0)\n",
    "f(x) = 1 / sqrt(-(1 - 2*m / x))\n",
    "pprint(f(x))"
   ]
  },
  {
   "cell_type": "code",
   "execution_count": 2,
   "metadata": {},
   "outputs": [
    {
     "data": {
      "text/latex": [
       "$ -\\pi m $"
      ],
      "text/plain": [
       "<IPython.core.display.Latex object>"
      ]
     },
     "execution_count": 2,
     "metadata": {},
     "output_type": "execute_result"
    }
   ],
   "source": [
    "pprint(integral(f, x, 2*m, 0))"
   ]
  },
  {
   "cell_type": "code",
   "execution_count": 3,
   "metadata": {},
   "outputs": [
    {
     "data": {
      "text/latex": [
       "$ x e^{\\left(-\\frac{1}{2} \\, {\\alpha} x^{2}\\right)} $"
      ],
      "text/plain": [
       "<IPython.core.display.Latex object>"
      ]
     },
     "execution_count": 3,
     "metadata": {},
     "output_type": "execute_result"
    }
   ],
   "source": [
    "var(\"a\", latex_name=\"\\\\alpha\")\n",
    "assume(a>0)\n",
    "var(\"n\")\n",
    "assume(n>0)\n",
    "assume(n, \"integer\")\n",
    "g(x) = x * exp(- a * x**2 / 2)\n",
    "pprint(g(x))"
   ]
  },
  {
   "cell_type": "code",
   "execution_count": 4,
   "metadata": {},
   "outputs": [
    {
     "data": {
      "text/latex": [
       "$ \\frac{1}{2} \\, \\left(\\frac{1}{2} \\, {\\alpha}\\right)^{-\\frac{1}{2} \\, n - \\frac{1}{2}} \\Gamma\\left(\\frac{1}{2} \\, n + \\frac{1}{2}\\right) $"
      ],
      "text/plain": [
       "<IPython.core.display.Latex object>"
      ]
     },
     "execution_count": 4,
     "metadata": {},
     "output_type": "execute_result"
    }
   ],
   "source": [
    "pprint(integral(x**n*exp(-a*x**2/2), x, 0, oo))"
   ]
  },
  {
   "cell_type": "code",
   "execution_count": 5,
   "metadata": {},
   "outputs": [
    {
     "data": {
      "text/latex": [
       "$ x \\ {\\mapsto}\\ {\\left({\\alpha}^{2} x^{3} e^{\\left(-\\frac{1}{2} \\, {\\alpha} x^{2}\\right)} - 3 \\, {\\alpha} x e^{\\left(-\\frac{1}{2} \\, {\\alpha} x^{2}\\right)}\\right)} x e^{\\left(-\\frac{1}{2} \\, {\\alpha} x^{2}\\right)} $"
      ],
      "text/plain": [
       "<IPython.core.display.Latex object>"
      ]
     },
     "execution_count": 5,
     "metadata": {},
     "output_type": "execute_result"
    }
   ],
   "source": [
    "h = g * diff(g, x, x)\n",
    "pprint(h)"
   ]
  },
  {
   "cell_type": "code",
   "execution_count": 6,
   "metadata": {},
   "outputs": [
    {
     "data": {
      "text/latex": [
       "$ -\\frac{3 \\, \\sqrt{\\pi}}{8 \\, \\sqrt{{\\alpha}}} $"
      ],
      "text/plain": [
       "<IPython.core.display.Latex object>"
      ]
     },
     "execution_count": 6,
     "metadata": {},
     "output_type": "execute_result"
    }
   ],
   "source": [
    "b = integral(h, x, 0, oo)\n",
    "pprint(b)"
   ]
  },
  {
   "cell_type": "code",
   "execution_count": 7,
   "metadata": {},
   "outputs": [
    {
     "data": {
      "text/latex": [
       "$ -\\frac{\\sqrt{-R^{2} {\\omega}^{2} + 1}}{{\\omega}^{2}} + \\frac{1}{{\\omega}^{2}} $"
      ],
      "text/plain": [
       "<IPython.core.display.Latex object>"
      ]
     },
     "execution_count": 7,
     "metadata": {},
     "output_type": "execute_result"
    }
   ],
   "source": [
    "var(\"w\", latex_name=\"\\\\omega\")\n",
    "var(\"r, R\")\n",
    "assume(R>0)\n",
    "assume(w>0)\n",
    "assume(R*w > 1)\n",
    "pprint(integral(r / sqrt(1 - (w*r)**2), r, 0, R))"
   ]
  },
  {
   "cell_type": "code",
   "execution_count": 8,
   "metadata": {},
   "outputs": [
    {
     "data": {
      "text/latex": [
       "$ -\\sqrt{2} \\sqrt{M} \\sqrt{R} \\log\\left(-2 \\, M + R\\right) + \\sqrt{2} \\sqrt{M} \\sqrt{R} \\log\\left(-2 \\, M + R_{0}\\right) - \\frac{\\sqrt{2} R^{\\frac{3}{2}}}{2 \\, \\sqrt{M}} + \\frac{\\sqrt{2} \\sqrt{R} R_{0}}{2 \\, \\sqrt{M}} $"
      ],
      "text/plain": [
       "<IPython.core.display.Latex object>"
      ]
     },
     "execution_count": 8,
     "metadata": {},
     "output_type": "execute_result"
    }
   ],
   "source": [
    "var(\"M\")\n",
    "var(\"R0\")\n",
    "assume(M>0)\n",
    "assume(R>2*M)\n",
    "assume(R0>R)\n",
    "dtdr = - 1/(sqrt(2*M/R) * (1 - 2*M/r))\n",
    "intg = integral(dtdr, r, R0, R)\n",
    "pprint(expand(intg))\n"
   ]
  },
  {
   "cell_type": "code",
   "execution_count": 9,
   "metadata": {},
   "outputs": [
    {
     "data": {
      "text/latex": [
       "$ -5 \\, \\sqrt{5} \\pi $"
      ],
      "text/plain": [
       "<IPython.core.display.Latex object>"
      ]
     },
     "execution_count": 9,
     "metadata": {},
     "output_type": "execute_result"
    }
   ],
   "source": [
    "var(\"x\")\n",
    "pprint(integral(1/sqrt(2/x-1/5), x, 10, 0))"
   ]
  },
  {
   "cell_type": "code",
   "execution_count": 17,
   "metadata": {},
   "outputs": [
    {
     "data": {
      "text/latex": [
       "$ \\frac{{\\left(64 \\, \\sqrt{-\\cos\\left(5\\right) + 1} \\sin\\left(5\\right) + \\frac{128 \\, \\sqrt{-\\cos\\left(5\\right) + 1} \\cos\\left(5\\right) \\sin\\left(5\\right)}{\\cos\\left(5\\right) - 1} - \\frac{48 \\, {\\left(16 \\, \\sqrt{-\\cos\\left(5\\right) + 1} \\sin\\left(5\\right) + \\frac{16 \\, \\sqrt{-\\cos\\left(5\\right) + 1} \\cos\\left(5\\right) \\sin\\left(5\\right)}{\\cos\\left(5\\right) - 1} - \\frac{16 \\, {\\left(4 \\, \\sqrt{-\\cos\\left(5\\right) + 1} \\sin\\left(5\\right) - \\frac{3 \\, {\\left(2 \\, \\sqrt{-\\cos\\left(5\\right) + 1} \\cos\\left(5\\right) + \\frac{\\sqrt{-\\cos\\left(5\\right) + 1} \\sin\\left(5\\right)^{2}}{\\cos\\left(5\\right) - 1}\\right)} \\sin\\left(5\\right)}{\\cos\\left(5\\right) - 1}\\right)} \\cos\\left(5\\right)}{\\cos\\left(5\\right) - 1} - \\frac{7 \\, {\\left(8 \\, \\sqrt{-\\cos\\left(5\\right) + 1} \\cos\\left(5\\right) - \\frac{4 \\, \\sqrt{-\\cos\\left(5\\right) + 1} \\sin\\left(5\\right)^{2}}{\\cos\\left(5\\right) - 1} - \\frac{6 \\, {\\left(2 \\, \\sqrt{-\\cos\\left(5\\right) + 1} \\cos\\left(5\\right) + \\frac{\\sqrt{-\\cos\\left(5\\right) + 1} \\sin\\left(5\\right)^{2}}{\\cos\\left(5\\right) - 1}\\right)} \\cos\\left(5\\right)}{\\cos\\left(5\\right) - 1} + \\frac{5 \\, {\\left(4 \\, \\sqrt{-\\cos\\left(5\\right) + 1} \\sin\\left(5\\right) - \\frac{3 \\, {\\left(2 \\, \\sqrt{-\\cos\\left(5\\right) + 1} \\cos\\left(5\\right) + \\frac{\\sqrt{-\\cos\\left(5\\right) + 1} \\sin\\left(5\\right)^{2}}{\\cos\\left(5\\right) - 1}\\right)} \\sin\\left(5\\right)}{\\cos\\left(5\\right) - 1}\\right)} \\sin\\left(5\\right)}{\\cos\\left(5\\right) - 1}\\right)} \\sin\\left(5\\right)}{\\cos\\left(5\\right) - 1} - \\frac{8 \\, {\\left(2 \\, \\sqrt{-\\cos\\left(5\\right) + 1} \\cos\\left(5\\right) + \\frac{\\sqrt{-\\cos\\left(5\\right) + 1} \\sin\\left(5\\right)^{2}}{\\cos\\left(5\\right) - 1}\\right)} \\sin\\left(5\\right)}{\\cos\\left(5\\right) - 1}\\right)} \\cos\\left(5\\right)}{\\cos\\left(5\\right) - 1} - \\frac{80 \\, {\\left(4 \\, \\sqrt{-\\cos\\left(5\\right) + 1} \\sin\\left(5\\right) - \\frac{3 \\, {\\left(2 \\, \\sqrt{-\\cos\\left(5\\right) + 1} \\cos\\left(5\\right) + \\frac{\\sqrt{-\\cos\\left(5\\right) + 1} \\sin\\left(5\\right)^{2}}{\\cos\\left(5\\right) - 1}\\right)} \\sin\\left(5\\right)}{\\cos\\left(5\\right) - 1}\\right)} \\cos\\left(5\\right)}{\\cos\\left(5\\right) - 1} - \\frac{11 \\, {\\left(32 \\, \\sqrt{-\\cos\\left(5\\right) + 1} \\cos\\left(5\\right) - \\frac{48 \\, \\sqrt{-\\cos\\left(5\\right) + 1} \\sin\\left(5\\right)^{2}}{\\cos\\left(5\\right) - 1} - \\frac{30 \\, {\\left(8 \\, \\sqrt{-\\cos\\left(5\\right) + 1} \\cos\\left(5\\right) - \\frac{4 \\, \\sqrt{-\\cos\\left(5\\right) + 1} \\sin\\left(5\\right)^{2}}{\\cos\\left(5\\right) - 1} - \\frac{6 \\, {\\left(2 \\, \\sqrt{-\\cos\\left(5\\right) + 1} \\cos\\left(5\\right) + \\frac{\\sqrt{-\\cos\\left(5\\right) + 1} \\sin\\left(5\\right)^{2}}{\\cos\\left(5\\right) - 1}\\right)} \\cos\\left(5\\right)}{\\cos\\left(5\\right) - 1} + \\frac{5 \\, {\\left(4 \\, \\sqrt{-\\cos\\left(5\\right) + 1} \\sin\\left(5\\right) - \\frac{3 \\, {\\left(2 \\, \\sqrt{-\\cos\\left(5\\right) + 1} \\cos\\left(5\\right) + \\frac{\\sqrt{-\\cos\\left(5\\right) + 1} \\sin\\left(5\\right)^{2}}{\\cos\\left(5\\right) - 1}\\right)} \\sin\\left(5\\right)}{\\cos\\left(5\\right) - 1}\\right)} \\sin\\left(5\\right)}{\\cos\\left(5\\right) - 1}\\right)} \\cos\\left(5\\right)}{\\cos\\left(5\\right) - 1} + \\frac{9 \\, {\\left(16 \\, \\sqrt{-\\cos\\left(5\\right) + 1} \\sin\\left(5\\right) + \\frac{16 \\, \\sqrt{-\\cos\\left(5\\right) + 1} \\cos\\left(5\\right) \\sin\\left(5\\right)}{\\cos\\left(5\\right) - 1} - \\frac{16 \\, {\\left(4 \\, \\sqrt{-\\cos\\left(5\\right) + 1} \\sin\\left(5\\right) - \\frac{3 \\, {\\left(2 \\, \\sqrt{-\\cos\\left(5\\right) + 1} \\cos\\left(5\\right) + \\frac{\\sqrt{-\\cos\\left(5\\right) + 1} \\sin\\left(5\\right)^{2}}{\\cos\\left(5\\right) - 1}\\right)} \\sin\\left(5\\right)}{\\cos\\left(5\\right) - 1}\\right)} \\cos\\left(5\\right)}{\\cos\\left(5\\right) - 1} - \\frac{7 \\, {\\left(8 \\, \\sqrt{-\\cos\\left(5\\right) + 1} \\cos\\left(5\\right) - \\frac{4 \\, \\sqrt{-\\cos\\left(5\\right) + 1} \\sin\\left(5\\right)^{2}}{\\cos\\left(5\\right) - 1} - \\frac{6 \\, {\\left(2 \\, \\sqrt{-\\cos\\left(5\\right) + 1} \\cos\\left(5\\right) + \\frac{\\sqrt{-\\cos\\left(5\\right) + 1} \\sin\\left(5\\right)^{2}}{\\cos\\left(5\\right) - 1}\\right)} \\cos\\left(5\\right)}{\\cos\\left(5\\right) - 1} + \\frac{5 \\, {\\left(4 \\, \\sqrt{-\\cos\\left(5\\right) + 1} \\sin\\left(5\\right) - \\frac{3 \\, {\\left(2 \\, \\sqrt{-\\cos\\left(5\\right) + 1} \\cos\\left(5\\right) + \\frac{\\sqrt{-\\cos\\left(5\\right) + 1} \\sin\\left(5\\right)^{2}}{\\cos\\left(5\\right) - 1}\\right)} \\sin\\left(5\\right)}{\\cos\\left(5\\right) - 1}\\right)} \\sin\\left(5\\right)}{\\cos\\left(5\\right) - 1}\\right)} \\sin\\left(5\\right)}{\\cos\\left(5\\right) - 1} - \\frac{8 \\, {\\left(2 \\, \\sqrt{-\\cos\\left(5\\right) + 1} \\cos\\left(5\\right) + \\frac{\\sqrt{-\\cos\\left(5\\right) + 1} \\sin\\left(5\\right)^{2}}{\\cos\\left(5\\right) - 1}\\right)} \\sin\\left(5\\right)}{\\cos\\left(5\\right) - 1}\\right)} \\sin\\left(5\\right)}{\\cos\\left(5\\right) - 1} + \\frac{40 \\, {\\left(4 \\, \\sqrt{-\\cos\\left(5\\right) + 1} \\sin\\left(5\\right) - \\frac{3 \\, {\\left(2 \\, \\sqrt{-\\cos\\left(5\\right) + 1} \\cos\\left(5\\right) + \\frac{\\sqrt{-\\cos\\left(5\\right) + 1} \\sin\\left(5\\right)^{2}}{\\cos\\left(5\\right) - 1}\\right)} \\sin\\left(5\\right)}{\\cos\\left(5\\right) - 1}\\right)} \\sin\\left(5\\right)}{\\cos\\left(5\\right) - 1}\\right)} \\sin\\left(5\\right)}{\\cos\\left(5\\right) - 1} - \\frac{100 \\, {\\left(8 \\, \\sqrt{-\\cos\\left(5\\right) + 1} \\cos\\left(5\\right) - \\frac{4 \\, \\sqrt{-\\cos\\left(5\\right) + 1} \\sin\\left(5\\right)^{2}}{\\cos\\left(5\\right) - 1} - \\frac{6 \\, {\\left(2 \\, \\sqrt{-\\cos\\left(5\\right) + 1} \\cos\\left(5\\right) + \\frac{\\sqrt{-\\cos\\left(5\\right) + 1} \\sin\\left(5\\right)^{2}}{\\cos\\left(5\\right) - 1}\\right)} \\cos\\left(5\\right)}{\\cos\\left(5\\right) - 1} + \\frac{5 \\, {\\left(4 \\, \\sqrt{-\\cos\\left(5\\right) + 1} \\sin\\left(5\\right) - \\frac{3 \\, {\\left(2 \\, \\sqrt{-\\cos\\left(5\\right) + 1} \\cos\\left(5\\right) + \\frac{\\sqrt{-\\cos\\left(5\\right) + 1} \\sin\\left(5\\right)^{2}}{\\cos\\left(5\\right) - 1}\\right)} \\sin\\left(5\\right)}{\\cos\\left(5\\right) - 1}\\right)} \\sin\\left(5\\right)}{\\cos\\left(5\\right) - 1}\\right)} \\sin\\left(5\\right)}{\\cos\\left(5\\right) - 1} + \\frac{48 \\, {\\left(2 \\, \\sqrt{-\\cos\\left(5\\right) + 1} \\cos\\left(5\\right) + \\frac{\\sqrt{-\\cos\\left(5\\right) + 1} \\sin\\left(5\\right)^{2}}{\\cos\\left(5\\right) - 1}\\right)} \\sin\\left(5\\right)}{\\cos\\left(5\\right) - 1}\\right)} {\\left(x - 5\\right)}^{7}}{645120 \\, {\\left(\\cos\\left(5\\right) - 1\\right)}} - \\frac{{\\left(32 \\, \\sqrt{-\\cos\\left(5\\right) + 1} \\cos\\left(5\\right) - \\frac{48 \\, \\sqrt{-\\cos\\left(5\\right) + 1} \\sin\\left(5\\right)^{2}}{\\cos\\left(5\\right) - 1} - \\frac{30 \\, {\\left(8 \\, \\sqrt{-\\cos\\left(5\\right) + 1} \\cos\\left(5\\right) - \\frac{4 \\, \\sqrt{-\\cos\\left(5\\right) + 1} \\sin\\left(5\\right)^{2}}{\\cos\\left(5\\right) - 1} - \\frac{6 \\, {\\left(2 \\, \\sqrt{-\\cos\\left(5\\right) + 1} \\cos\\left(5\\right) + \\frac{\\sqrt{-\\cos\\left(5\\right) + 1} \\sin\\left(5\\right)^{2}}{\\cos\\left(5\\right) - 1}\\right)} \\cos\\left(5\\right)}{\\cos\\left(5\\right) - 1} + \\frac{5 \\, {\\left(4 \\, \\sqrt{-\\cos\\left(5\\right) + 1} \\sin\\left(5\\right) - \\frac{3 \\, {\\left(2 \\, \\sqrt{-\\cos\\left(5\\right) + 1} \\cos\\left(5\\right) + \\frac{\\sqrt{-\\cos\\left(5\\right) + 1} \\sin\\left(5\\right)^{2}}{\\cos\\left(5\\right) - 1}\\right)} \\sin\\left(5\\right)}{\\cos\\left(5\\right) - 1}\\right)} \\sin\\left(5\\right)}{\\cos\\left(5\\right) - 1}\\right)} \\cos\\left(5\\right)}{\\cos\\left(5\\right) - 1} + \\frac{9 \\, {\\left(16 \\, \\sqrt{-\\cos\\left(5\\right) + 1} \\sin\\left(5\\right) + \\frac{16 \\, \\sqrt{-\\cos\\left(5\\right) + 1} \\cos\\left(5\\right) \\sin\\left(5\\right)}{\\cos\\left(5\\right) - 1} - \\frac{16 \\, {\\left(4 \\, \\sqrt{-\\cos\\left(5\\right) + 1} \\sin\\left(5\\right) - \\frac{3 \\, {\\left(2 \\, \\sqrt{-\\cos\\left(5\\right) + 1} \\cos\\left(5\\right) + \\frac{\\sqrt{-\\cos\\left(5\\right) + 1} \\sin\\left(5\\right)^{2}}{\\cos\\left(5\\right) - 1}\\right)} \\sin\\left(5\\right)}{\\cos\\left(5\\right) - 1}\\right)} \\cos\\left(5\\right)}{\\cos\\left(5\\right) - 1} - \\frac{7 \\, {\\left(8 \\, \\sqrt{-\\cos\\left(5\\right) + 1} \\cos\\left(5\\right) - \\frac{4 \\, \\sqrt{-\\cos\\left(5\\right) + 1} \\sin\\left(5\\right)^{2}}{\\cos\\left(5\\right) - 1} - \\frac{6 \\, {\\left(2 \\, \\sqrt{-\\cos\\left(5\\right) + 1} \\cos\\left(5\\right) + \\frac{\\sqrt{-\\cos\\left(5\\right) + 1} \\sin\\left(5\\right)^{2}}{\\cos\\left(5\\right) - 1}\\right)} \\cos\\left(5\\right)}{\\cos\\left(5\\right) - 1} + \\frac{5 \\, {\\left(4 \\, \\sqrt{-\\cos\\left(5\\right) + 1} \\sin\\left(5\\right) - \\frac{3 \\, {\\left(2 \\, \\sqrt{-\\cos\\left(5\\right) + 1} \\cos\\left(5\\right) + \\frac{\\sqrt{-\\cos\\left(5\\right) + 1} \\sin\\left(5\\right)^{2}}{\\cos\\left(5\\right) - 1}\\right)} \\sin\\left(5\\right)}{\\cos\\left(5\\right) - 1}\\right)} \\sin\\left(5\\right)}{\\cos\\left(5\\right) - 1}\\right)} \\sin\\left(5\\right)}{\\cos\\left(5\\right) - 1} - \\frac{8 \\, {\\left(2 \\, \\sqrt{-\\cos\\left(5\\right) + 1} \\cos\\left(5\\right) + \\frac{\\sqrt{-\\cos\\left(5\\right) + 1} \\sin\\left(5\\right)^{2}}{\\cos\\left(5\\right) - 1}\\right)} \\sin\\left(5\\right)}{\\cos\\left(5\\right) - 1}\\right)} \\sin\\left(5\\right)}{\\cos\\left(5\\right) - 1} + \\frac{40 \\, {\\left(4 \\, \\sqrt{-\\cos\\left(5\\right) + 1} \\sin\\left(5\\right) - \\frac{3 \\, {\\left(2 \\, \\sqrt{-\\cos\\left(5\\right) + 1} \\cos\\left(5\\right) + \\frac{\\sqrt{-\\cos\\left(5\\right) + 1} \\sin\\left(5\\right)^{2}}{\\cos\\left(5\\right) - 1}\\right)} \\sin\\left(5\\right)}{\\cos\\left(5\\right) - 1}\\right)} \\sin\\left(5\\right)}{\\cos\\left(5\\right) - 1}\\right)} {\\left(x - 5\\right)}^{6}}{46080 \\, {\\left(\\cos\\left(5\\right) - 1\\right)}} - \\frac{{\\left(16 \\, \\sqrt{-\\cos\\left(5\\right) + 1} \\sin\\left(5\\right) + \\frac{16 \\, \\sqrt{-\\cos\\left(5\\right) + 1} \\cos\\left(5\\right) \\sin\\left(5\\right)}{\\cos\\left(5\\right) - 1} - \\frac{16 \\, {\\left(4 \\, \\sqrt{-\\cos\\left(5\\right) + 1} \\sin\\left(5\\right) - \\frac{3 \\, {\\left(2 \\, \\sqrt{-\\cos\\left(5\\right) + 1} \\cos\\left(5\\right) + \\frac{\\sqrt{-\\cos\\left(5\\right) + 1} \\sin\\left(5\\right)^{2}}{\\cos\\left(5\\right) - 1}\\right)} \\sin\\left(5\\right)}{\\cos\\left(5\\right) - 1}\\right)} \\cos\\left(5\\right)}{\\cos\\left(5\\right) - 1} - \\frac{7 \\, {\\left(8 \\, \\sqrt{-\\cos\\left(5\\right) + 1} \\cos\\left(5\\right) - \\frac{4 \\, \\sqrt{-\\cos\\left(5\\right) + 1} \\sin\\left(5\\right)^{2}}{\\cos\\left(5\\right) - 1} - \\frac{6 \\, {\\left(2 \\, \\sqrt{-\\cos\\left(5\\right) + 1} \\cos\\left(5\\right) + \\frac{\\sqrt{-\\cos\\left(5\\right) + 1} \\sin\\left(5\\right)^{2}}{\\cos\\left(5\\right) - 1}\\right)} \\cos\\left(5\\right)}{\\cos\\left(5\\right) - 1} + \\frac{5 \\, {\\left(4 \\, \\sqrt{-\\cos\\left(5\\right) + 1} \\sin\\left(5\\right) - \\frac{3 \\, {\\left(2 \\, \\sqrt{-\\cos\\left(5\\right) + 1} \\cos\\left(5\\right) + \\frac{\\sqrt{-\\cos\\left(5\\right) + 1} \\sin\\left(5\\right)^{2}}{\\cos\\left(5\\right) - 1}\\right)} \\sin\\left(5\\right)}{\\cos\\left(5\\right) - 1}\\right)} \\sin\\left(5\\right)}{\\cos\\left(5\\right) - 1}\\right)} \\sin\\left(5\\right)}{\\cos\\left(5\\right) - 1} - \\frac{8 \\, {\\left(2 \\, \\sqrt{-\\cos\\left(5\\right) + 1} \\cos\\left(5\\right) + \\frac{\\sqrt{-\\cos\\left(5\\right) + 1} \\sin\\left(5\\right)^{2}}{\\cos\\left(5\\right) - 1}\\right)} \\sin\\left(5\\right)}{\\cos\\left(5\\right) - 1}\\right)} {\\left(x - 5\\right)}^{5}}{3840 \\, {\\left(\\cos\\left(5\\right) - 1\\right)}} + \\frac{{\\left(8 \\, \\sqrt{-\\cos\\left(5\\right) + 1} \\cos\\left(5\\right) - \\frac{4 \\, \\sqrt{-\\cos\\left(5\\right) + 1} \\sin\\left(5\\right)^{2}}{\\cos\\left(5\\right) - 1} - \\frac{6 \\, {\\left(2 \\, \\sqrt{-\\cos\\left(5\\right) + 1} \\cos\\left(5\\right) + \\frac{\\sqrt{-\\cos\\left(5\\right) + 1} \\sin\\left(5\\right)^{2}}{\\cos\\left(5\\right) - 1}\\right)} \\cos\\left(5\\right)}{\\cos\\left(5\\right) - 1} + \\frac{5 \\, {\\left(4 \\, \\sqrt{-\\cos\\left(5\\right) + 1} \\sin\\left(5\\right) - \\frac{3 \\, {\\left(2 \\, \\sqrt{-\\cos\\left(5\\right) + 1} \\cos\\left(5\\right) + \\frac{\\sqrt{-\\cos\\left(5\\right) + 1} \\sin\\left(5\\right)^{2}}{\\cos\\left(5\\right) - 1}\\right)} \\sin\\left(5\\right)}{\\cos\\left(5\\right) - 1}\\right)} \\sin\\left(5\\right)}{\\cos\\left(5\\right) - 1}\\right)} {\\left(x - 5\\right)}^{4}}{384 \\, {\\left(\\cos\\left(5\\right) - 1\\right)}} + \\frac{{\\left(4 \\, \\sqrt{-\\cos\\left(5\\right) + 1} \\sin\\left(5\\right) - \\frac{3 \\, {\\left(2 \\, \\sqrt{-\\cos\\left(5\\right) + 1} \\cos\\left(5\\right) + \\frac{\\sqrt{-\\cos\\left(5\\right) + 1} \\sin\\left(5\\right)^{2}}{\\cos\\left(5\\right) - 1}\\right)} \\sin\\left(5\\right)}{\\cos\\left(5\\right) - 1}\\right)} {\\left(x - 5\\right)}^{3}}{48 \\, {\\left(\\cos\\left(5\\right) - 1\\right)}} - \\frac{{\\left(2 \\, \\sqrt{-\\cos\\left(5\\right) + 1} \\cos\\left(5\\right) + \\frac{\\sqrt{-\\cos\\left(5\\right) + 1} \\sin\\left(5\\right)^{2}}{\\cos\\left(5\\right) - 1}\\right)} {\\left(x - 5\\right)}^{2}}{8 \\, {\\left(\\cos\\left(5\\right) - 1\\right)}} - \\frac{{\\left(x - 5\\right)} \\sqrt{-\\cos\\left(5\\right) + 1} \\sin\\left(5\\right)}{2 \\, {\\left(\\cos\\left(5\\right) - 1\\right)}} + \\sqrt{-\\cos\\left(5\\right) + 1} + \\mathcal{O}\\left({\\left(x - 5\\right)}^{8}\\right) $"
      ],
      "text/plain": [
       "<IPython.core.display.Latex object>"
      ]
     },
     "execution_count": 17,
     "metadata": {},
     "output_type": "execute_result"
    }
   ],
   "source": [
    "f(x) = sqrt(1 - cos(x))\n",
    "pprint(simplify(f(x).series(x==5, 8)))"
   ]
  },
  {
   "cell_type": "code",
   "execution_count": null,
   "metadata": {},
   "outputs": [],
   "source": []
  }
 ],
 "metadata": {
  "kernelspec": {
   "display_name": "SageMath 9.2",
   "language": "sage",
   "name": "sagemath"
  },
  "language_info": {
   "codemirror_mode": {
    "name": "ipython",
    "version": 3
   },
   "file_extension": ".py",
   "mimetype": "text/x-python",
   "name": "python",
   "nbconvert_exporter": "python",
   "pygments_lexer": "ipython3",
   "version": "3.8.6"
  }
 },
 "nbformat": 4,
 "nbformat_minor": 4
}
