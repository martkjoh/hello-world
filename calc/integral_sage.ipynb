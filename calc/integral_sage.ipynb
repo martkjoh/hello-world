{
 "cells": [
  {
   "cell_type": "code",
   "execution_count": 6,
   "metadata": {},
   "outputs": [
    {
     "data": {
      "text/latex": [
       "$ \\frac{1}{\\sqrt{\\frac{2 \\, m}{x} - 1}} $"
      ],
      "text/plain": [
       "<IPython.core.display.Latex object>"
      ]
     },
     "execution_count": 6,
     "metadata": {},
     "output_type": "execute_result"
    }
   ],
   "source": [
    "from IPython.display import display, Latex\n",
    "\n",
    "def pprint(x, name=\"\"):\n",
    "    txt = \"$\"\n",
    "    if name != \"\": txt += name\n",
    "    txt += latex(x) + \"$\"\n",
    "    return Latex(txt)\n",
    "\n",
    "\n",
    "var(\"m\")\n",
    "assume(m>0)\n",
    "f(x) = 1 / sqrt(-(1 - 2*m / x))\n",
    "pprint(f(x))"
   ]
  },
  {
   "cell_type": "code",
   "execution_count": 7,
   "metadata": {},
   "outputs": [
    {
     "data": {
      "text/latex": [
       "$ -\\pi m $"
      ],
      "text/plain": [
       "<IPython.core.display.Latex object>"
      ]
     },
     "execution_count": 7,
     "metadata": {},
     "output_type": "execute_result"
    }
   ],
   "source": [
    "pprint(integral(f, x, 2*m, 0))"
   ]
  },
  {
   "cell_type": "code",
   "execution_count": 128,
   "metadata": {},
   "outputs": [
    {
     "data": {
      "text/latex": [
       "$ x e^{\\left(-\\frac{1}{2} \\, {\\alpha} x^{2}\\right)} $"
      ],
      "text/plain": [
       "<IPython.core.display.Latex object>"
      ]
     },
     "execution_count": 128,
     "metadata": {},
     "output_type": "execute_result"
    }
   ],
   "source": [
    "var(\"a\", latex_name=\"\\\\alpha\")\n",
    "assume(a>0)\n",
    "var(\"n\")\n",
    "assume(n>0)\n",
    "assume(n, \"integer\")\n",
    "g(x) = x * exp(- a * x**2 / 2)\n",
    "pprint(g(x))"
   ]
  },
  {
   "cell_type": "code",
   "execution_count": 35,
   "metadata": {},
   "outputs": [
    {
     "data": {
      "text/latex": [
       "$ \\frac{1}{2} \\, \\left(\\frac{1}{2} \\, {\\alpha}\\right)^{-\\frac{1}{2} \\, n - \\frac{1}{2}} \\Gamma\\left(\\frac{1}{2} \\, n + \\frac{1}{2}\\right) $"
      ],
      "text/plain": [
       "<IPython.core.display.Latex object>"
      ]
     },
     "execution_count": 35,
     "metadata": {},
     "output_type": "execute_result"
    }
   ],
   "source": [
    "pprint(integral(x**n*exp(-a*x**2/2), x, 0, oo))"
   ]
  },
  {
   "cell_type": "code",
   "execution_count": 144,
   "metadata": {},
   "outputs": [
    {
     "data": {
      "text/latex": [
       "$ x \\ {\\mapsto}\\ {\\left({\\alpha}^{2} x^{3} e^{\\left(-\\frac{1}{2} \\, {\\alpha} x^{2}\\right)} - 3 \\, {\\alpha} x e^{\\left(-\\frac{1}{2} \\, {\\alpha} x^{2}\\right)}\\right)} x e^{\\left(-\\frac{1}{2} \\, {\\alpha} x^{2}\\right)} $"
      ],
      "text/plain": [
       "<IPython.core.display.Latex object>"
      ]
     },
     "execution_count": 144,
     "metadata": {},
     "output_type": "execute_result"
    }
   ],
   "source": [
    "h = g * diff(g, x, x)\n",
    "pprint(h)"
   ]
  },
  {
   "cell_type": "code",
   "execution_count": 145,
   "metadata": {},
   "outputs": [
    {
     "data": {
      "text/latex": [
       "$ -\\frac{3 \\, \\sqrt{\\pi}}{8 \\, \\sqrt{{\\alpha}}} $"
      ],
      "text/plain": [
       "<IPython.core.display.Latex object>"
      ]
     },
     "execution_count": 145,
     "metadata": {},
     "output_type": "execute_result"
    }
   ],
   "source": [
    "b = integral(h, x, 0, oo)\n",
    "pprint(b)"
   ]
  }
 ],
 "metadata": {
  "kernelspec": {
   "display_name": "SageMath 9.2",
   "language": "sage",
   "name": "sagemath"
  },
  "language_info": {
   "codemirror_mode": {
    "name": "ipython",
    "version": 3
   },
   "file_extension": ".py",
   "mimetype": "text/x-python",
   "name": "python",
   "nbconvert_exporter": "python",
   "pygments_lexer": "ipython3",
   "version": "3.8.6"
  }
 },
 "nbformat": 4,
 "nbformat_minor": 4
}
