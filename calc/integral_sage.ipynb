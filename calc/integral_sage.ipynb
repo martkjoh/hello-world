{
 "cells": [
  {
   "cell_type": "code",
   "execution_count": 1,
   "metadata": {},
   "outputs": [
    {
     "data": {
      "text/latex": [
       "$ \\frac{1}{\\sqrt{\\frac{2 \\, m}{x} - 1}} $"
      ],
      "text/plain": [
       "<IPython.core.display.Latex object>"
      ]
     },
     "execution_count": 1,
     "metadata": {},
     "output_type": "execute_result"
    }
   ],
   "source": [
    "var(\"m\")\n",
    "assume(m>0)\n",
    "f(x) = 1 / sqrt(-(1 - 2*m / x))\n",
    "pprint(f(x))"
   ]
  },
  {
   "cell_type": "code",
   "execution_count": 2,
   "metadata": {},
   "outputs": [
    {
     "data": {
      "text/latex": [
       "$ -\\pi m $"
      ],
      "text/plain": [
       "<IPython.core.display.Latex object>"
      ]
     },
     "execution_count": 2,
     "metadata": {},
     "output_type": "execute_result"
    }
   ],
   "source": [
    "pprint(integral(f, x, 2*m, 0))"
   ]
  },
  {
   "cell_type": "code",
   "execution_count": 3,
   "metadata": {},
   "outputs": [
    {
     "data": {
      "text/latex": [
       "$ x e^{\\left(-\\frac{1}{2} \\, {\\alpha} x^{2}\\right)} $"
      ],
      "text/plain": [
       "<IPython.core.display.Latex object>"
      ]
     },
     "execution_count": 3,
     "metadata": {},
     "output_type": "execute_result"
    }
   ],
   "source": [
    "var(\"a\", latex_name=\"\\\\alpha\")\n",
    "assume(a>0)\n",
    "var(\"n\")\n",
    "assume(n>0)\n",
    "assume(n, \"integer\")\n",
    "g(x) = x * exp(- a * x**2 / 2)\n",
    "pprint(g(x))"
   ]
  },
  {
   "cell_type": "code",
   "execution_count": 4,
   "metadata": {},
   "outputs": [
    {
     "data": {
      "text/latex": [
       "$ \\frac{1}{2} \\, \\left(\\frac{1}{2} \\, {\\alpha}\\right)^{-\\frac{1}{2} \\, n - \\frac{1}{2}} \\Gamma\\left(\\frac{1}{2} \\, n + \\frac{1}{2}\\right) $"
      ],
      "text/plain": [
       "<IPython.core.display.Latex object>"
      ]
     },
     "execution_count": 4,
     "metadata": {},
     "output_type": "execute_result"
    }
   ],
   "source": [
    "pprint(integral(x**n*exp(-a*x**2/2), x, 0, oo))"
   ]
  },
  {
   "cell_type": "code",
   "execution_count": 5,
   "metadata": {},
   "outputs": [
    {
     "data": {
      "text/latex": [
       "$ x \\ {\\mapsto}\\ {\\left({\\alpha}^{2} x^{3} e^{\\left(-\\frac{1}{2} \\, {\\alpha} x^{2}\\right)} - 3 \\, {\\alpha} x e^{\\left(-\\frac{1}{2} \\, {\\alpha} x^{2}\\right)}\\right)} x e^{\\left(-\\frac{1}{2} \\, {\\alpha} x^{2}\\right)} $"
      ],
      "text/plain": [
       "<IPython.core.display.Latex object>"
      ]
     },
     "execution_count": 5,
     "metadata": {},
     "output_type": "execute_result"
    }
   ],
   "source": [
    "h = g * diff(g, x, x)\n",
    "pprint(h)"
   ]
  },
  {
   "cell_type": "code",
   "execution_count": 6,
   "metadata": {},
   "outputs": [
    {
     "data": {
      "text/latex": [
       "$ -\\frac{3 \\, \\sqrt{\\pi}}{8 \\, \\sqrt{{\\alpha}}} $"
      ],
      "text/plain": [
       "<IPython.core.display.Latex object>"
      ]
     },
     "execution_count": 6,
     "metadata": {},
     "output_type": "execute_result"
    }
   ],
   "source": [
    "b = integral(h, x, 0, oo)\n",
    "pprint(b)"
   ]
  },
  {
   "cell_type": "code",
   "execution_count": 7,
   "metadata": {},
   "outputs": [
    {
     "data": {
      "text/latex": [
       "$ -\\frac{\\sqrt{-R^{2} {\\omega}^{2} + 1}}{{\\omega}^{2}} + \\frac{1}{{\\omega}^{2}} $"
      ],
      "text/plain": [
       "<IPython.core.display.Latex object>"
      ]
     },
     "execution_count": 7,
     "metadata": {},
     "output_type": "execute_result"
    }
   ],
   "source": [
    "var(\"w\", latex_name=\"\\\\omega\")\n",
    "var(\"r, R\")\n",
    "assume(R>0)\n",
    "assume(w>0)\n",
    "assume(R*w > 1)\n",
    "pprint(integral(r / sqrt(1 - (w*r)**2), r, 0, R))"
   ]
  },
  {
   "cell_type": "code",
   "execution_count": 8,
   "metadata": {},
   "outputs": [
    {
     "data": {
      "text/latex": [
       "$ -\\sqrt{2} \\sqrt{M} \\sqrt{R} \\log\\left(-2 \\, M + R\\right) + \\sqrt{2} \\sqrt{M} \\sqrt{R} \\log\\left(-2 \\, M + R_{0}\\right) - \\frac{\\sqrt{2} R^{\\frac{3}{2}}}{2 \\, \\sqrt{M}} + \\frac{\\sqrt{2} \\sqrt{R} R_{0}}{2 \\, \\sqrt{M}} $"
      ],
      "text/plain": [
       "<IPython.core.display.Latex object>"
      ]
     },
     "execution_count": 8,
     "metadata": {},
     "output_type": "execute_result"
    }
   ],
   "source": [
    "var(\"M\")\n",
    "var(\"R0\")\n",
    "assume(M>0)\n",
    "assume(R>2*M)\n",
    "assume(R0>R)\n",
    "dtdr = - 1/(sqrt(2*M/R) * (1 - 2*M/r))\n",
    "intg = integral(dtdr, r, R0, R)\n",
    "pprint(expand(intg))\n"
   ]
  },
  {
   "cell_type": "code",
   "execution_count": 9,
   "metadata": {},
   "outputs": [
    {
     "data": {
      "text/latex": [
       "$ -5 \\, \\sqrt{5} \\pi $"
      ],
      "text/plain": [
       "<IPython.core.display.Latex object>"
      ]
     },
     "execution_count": 9,
     "metadata": {},
     "output_type": "execute_result"
    }
   ],
   "source": [
    "var(\"x\")\n",
    "pprint(integral(1/sqrt(2/x-1/5), x, 10, 0))"
   ]
  },
  {
   "cell_type": "code",
   "execution_count": 5,
   "metadata": {},
   "outputs": [
    {
     "data": {
      "text/latex": [
       "$ -\\frac{\\sqrt{2} {\\left(L \\sin\\left(\\frac{3}{2} \\, \\pi n\\right) - 3 \\, L \\sin\\left(\\frac{1}{2} \\, \\pi n\\right)\\right)}}{6 \\, \\pi L n} $"
      ],
      "text/plain": [
       "<IPython.core.display.Latex object>"
      ]
     },
     "execution_count": 5,
     "metadata": {},
     "output_type": "execute_result"
    }
   ],
   "source": [
    "var(\"L, n, x\")\n",
    "assume(n, \"integer\")\n",
    "assume(L > 0)\n",
    "sin1(x) = 1 / sqrt(L) * sin(pi * x *n/ L)\n",
    "sin2(x) = 1 /(sqrt(L * 2)) * sin(pi * n * x / (2*L))\n",
    "intg = integral(sin1(x) * sin2(x), x, 0, L)\n",
    "pprint(simplify(intg))"
   ]
  },
  {
   "cell_type": "code",
   "execution_count": 17,
   "metadata": {},
   "outputs": [
    {
     "data": {
      "text/latex": [
       "$ \\frac{2 \\, a q}{a^{4} + 2 \\, a^{2} q^{2} + q^{4}} $"
      ],
      "text/plain": [
       "<IPython.core.display.Latex object>"
      ]
     },
     "execution_count": 17,
     "metadata": {},
     "output_type": "execute_result"
    }
   ],
   "source": [
    "var(\"a, q\")\n",
    "assume(a > 0)\n",
    "pprint(integral(x * exp(-a*x)*sin(q*x), x, 0, oo, assume(x>0)))"
   ]
  },
  {
   "cell_type": "code",
   "execution_count": 51,
   "metadata": {},
   "outputs": [
    {
     "data": {
      "text/latex": [
       "$ q \\ {\\mapsto}\\ \\frac{2 \\, {\\left(a^{2} q^{2} + 8\\right)} a}{{\\left(a^{2} q^{2} + 4\\right)}^{2}} $"
      ],
      "text/plain": [
       "<IPython.core.display.Latex object>"
      ]
     },
     "execution_count": 51,
     "metadata": {},
     "output_type": "execute_result"
    }
   ],
   "source": [
    "f(q) = a * (16 + 2*a**2 * q**2)/(4 + a**2 * q**2)**2\n",
    "pprint(f)"
   ]
  },
  {
   "cell_type": "code",
   "execution_count": 62,
   "metadata": {},
   "outputs": [
    {
     "data": {
      "text/latex": [
       "$ \\int_{0}^{2 \\, k} \\frac{8 \\, \\pi {\\left(a^{2} q^{2} + 8\\right)}^{2} a^{2} q}{{\\left(a^{2} q^{2} + 4\\right)}^{4} k^{2}}\\,{d q} $"
      ],
      "text/plain": [
       "<IPython.core.display.Latex object>"
      ]
     },
     "execution_count": 62,
     "metadata": {},
     "output_type": "execute_result"
    }
   ],
   "source": [
    "var(\"k\")\n",
    "assume(k>0)\n",
    "intg = integral(2 * pi / k**2 * q *f(q)**2, q, 0, 2*k, hold=True)\n",
    "pprint(intg)"
   ]
  },
  {
   "cell_type": "code",
   "execution_count": 63,
   "metadata": {},
   "outputs": [
    {
     "data": {
      "text/latex": [
       "$ \\frac{7 \\, \\pi a^{6} k^{4} + 18 \\, \\pi a^{4} k^{2} + 12 \\, \\pi a^{2}}{3 \\, {\\left(a^{6} k^{6} + 3 \\, a^{4} k^{4} + 3 \\, a^{2} k^{2} + 1\\right)}} $"
      ],
      "text/plain": [
       "<IPython.core.display.Latex object>"
      ]
     },
     "execution_count": 63,
     "metadata": {},
     "output_type": "execute_result"
    }
   ],
   "source": [
    "intg = intg.full_simplify()\n",
    "pprint(intg)"
   ]
  },
  {
   "cell_type": "code",
   "execution_count": 76,
   "metadata": {},
   "outputs": [
    {
     "data": {
      "text/latex": [
       "$ {(4 \\, \\pi a^{2})} + {(-6 \\, \\pi a^{4})} k^{2} + {(\\frac{25}{3} \\, \\pi a^{6})} k^{4} + {(-11 \\, \\pi a^{8})} k^{6} + \\mathcal{O}\\left(k^{8}\\right) $"
      ],
      "text/plain": [
       "<IPython.core.display.Latex object>"
      ]
     },
     "execution_count": 76,
     "metadata": {},
     "output_type": "execute_result"
    }
   ],
   "source": [
    "pprint(intg.series(k, 8))"
   ]
  }
 ],
 "metadata": {
  "kernelspec": {
   "display_name": "SageMath 9.2",
   "language": "sage",
   "name": "sagemath"
  },
  "language_info": {
   "codemirror_mode": {
    "name": "ipython",
    "version": 3
   },
   "file_extension": ".py",
   "mimetype": "text/x-python",
   "name": "python",
   "nbconvert_exporter": "python",
   "pygments_lexer": "ipython3",
   "version": "3.8.6"
  }
 },
 "nbformat": 4,
 "nbformat_minor": 4
}
