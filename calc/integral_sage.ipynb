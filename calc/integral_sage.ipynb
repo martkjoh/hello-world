{
 "cells": [
  {
   "cell_type": "code",
   "execution_count": 3,
   "metadata": {},
   "outputs": [
    {
     "data": {
      "text/latex": [
       "$ \\frac{1}{\\sqrt{\\frac{2 \\, m}{x} - 1}} $"
      ],
      "text/plain": [
       "<IPython.core.display.Latex object>"
      ]
     },
     "execution_count": 3,
     "metadata": {},
     "output_type": "execute_result"
    }
   ],
   "source": [
    "var(\"m\")\n",
    "assume(m>0)\n",
    "f(x) = 1 / sqrt(-(1 - 2*m / x))\n",
    "pprint(f(x))"
   ]
  },
  {
   "cell_type": "code",
   "execution_count": 4,
   "metadata": {},
   "outputs": [
    {
     "data": {
      "text/latex": [
       "$ -\\pi m $"
      ],
      "text/plain": [
       "<IPython.core.display.Latex object>"
      ]
     },
     "execution_count": 4,
     "metadata": {},
     "output_type": "execute_result"
    }
   ],
   "source": [
    "pprint(integral(f, x, 2*m, 0))"
   ]
  },
  {
   "cell_type": "code",
   "execution_count": 5,
   "metadata": {},
   "outputs": [
    {
     "data": {
      "text/latex": [
       "$ x e^{\\left(-\\frac{1}{2} \\, {\\alpha} x^{2}\\right)} $"
      ],
      "text/plain": [
       "<IPython.core.display.Latex object>"
      ]
     },
     "execution_count": 5,
     "metadata": {},
     "output_type": "execute_result"
    }
   ],
   "source": [
    "var(\"a\", latex_name=\"\\\\alpha\")\n",
    "assume(a>0)\n",
    "var(\"n\")\n",
    "assume(n>0)\n",
    "assume(n, \"integer\")\n",
    "g(x) = x * exp(- a * x**2 / 2)\n",
    "pprint(g(x))"
   ]
  },
  {
   "cell_type": "code",
   "execution_count": 6,
   "metadata": {},
   "outputs": [
    {
     "data": {
      "text/latex": [
       "$ \\frac{1}{2} \\, \\left(\\frac{1}{2} \\, {\\alpha}\\right)^{-\\frac{1}{2} \\, n - \\frac{1}{2}} \\Gamma\\left(\\frac{1}{2} \\, n + \\frac{1}{2}\\right) $"
      ],
      "text/plain": [
       "<IPython.core.display.Latex object>"
      ]
     },
     "execution_count": 6,
     "metadata": {},
     "output_type": "execute_result"
    }
   ],
   "source": [
    "pprint(integral(x**n*exp(-a*x**2/2), x, 0, oo))"
   ]
  },
  {
   "cell_type": "code",
   "execution_count": 7,
   "metadata": {},
   "outputs": [
    {
     "data": {
      "text/latex": [
       "$ x \\ {\\mapsto}\\ {\\left({\\alpha}^{2} x^{3} e^{\\left(-\\frac{1}{2} \\, {\\alpha} x^{2}\\right)} - 3 \\, {\\alpha} x e^{\\left(-\\frac{1}{2} \\, {\\alpha} x^{2}\\right)}\\right)} x e^{\\left(-\\frac{1}{2} \\, {\\alpha} x^{2}\\right)} $"
      ],
      "text/plain": [
       "<IPython.core.display.Latex object>"
      ]
     },
     "execution_count": 7,
     "metadata": {},
     "output_type": "execute_result"
    }
   ],
   "source": [
    "h = g * diff(g, x, x)\n",
    "pprint(h)"
   ]
  },
  {
   "cell_type": "code",
   "execution_count": 8,
   "metadata": {},
   "outputs": [
    {
     "data": {
      "text/latex": [
       "$ -\\frac{3 \\, \\sqrt{\\pi}}{8 \\, \\sqrt{{\\alpha}}} $"
      ],
      "text/plain": [
       "<IPython.core.display.Latex object>"
      ]
     },
     "execution_count": 8,
     "metadata": {},
     "output_type": "execute_result"
    }
   ],
   "source": [
    "b = integral(h, x, 0, oo)\n",
    "pprint(b)"
   ]
  },
  {
   "cell_type": "code",
   "execution_count": 10,
   "metadata": {},
   "outputs": [
    {
     "data": {
      "text/latex": [
       "$ -\\frac{\\sqrt{-R^{2} {\\omega}^{2} + 1}}{{\\omega}^{2}} + \\frac{1}{{\\omega}^{2}} $"
      ],
      "text/plain": [
       "<IPython.core.display.Latex object>"
      ]
     },
     "execution_count": 10,
     "metadata": {},
     "output_type": "execute_result"
    }
   ],
   "source": [
    "var(\"w\", latex_name=\"\\\\omega\")\n",
    "var(\"r, R\")\n",
    "assume(R>0)\n",
    "assume(w>0)\n",
    "assume(R*w > 1)\n",
    "pprint(integral(r / sqrt(1 - (w*r)**2), r, 0, R))"
   ]
  },
  {
   "cell_type": "code",
   "execution_count": 15,
   "metadata": {},
   "outputs": [
    {
     "data": {
      "text/latex": [
       "$ -\\sqrt{2} \\sqrt{M} \\sqrt{R} \\log\\left(-2 \\, M + R\\right) + \\sqrt{2} \\sqrt{M} \\sqrt{R} \\log\\left(-2 \\, M + R_{0}\\right) - \\frac{\\sqrt{2} R^{\\frac{3}{2}}}{2 \\, \\sqrt{M}} + \\frac{\\sqrt{2} \\sqrt{R} R_{0}}{2 \\, \\sqrt{M}} $"
      ],
      "text/plain": [
       "<IPython.core.display.Latex object>"
      ]
     },
     "execution_count": 15,
     "metadata": {},
     "output_type": "execute_result"
    }
   ],
   "source": [
    "var(\"M\")\n",
    "var(\"R0\")\n",
    "assume(M>0)\n",
    "assume(R>2*M)\n",
    "assume(R0>R)\n",
    "dtdr = - 1/(sqrt(2*M/R) * (1 - 2*M/r))\n",
    "intg = integral(dtdr, r, R0, R)\n",
    "pprint(expand(intg))\n"
   ]
  }
 ],
 "metadata": {
  "kernelspec": {
   "display_name": "SageMath 9.2",
   "language": "sage",
   "name": "sagemath"
  },
  "language_info": {
   "codemirror_mode": {
    "name": "ipython",
    "version": 3
   },
   "file_extension": ".py",
   "mimetype": "text/x-python",
   "name": "python",
   "nbconvert_exporter": "python",
   "pygments_lexer": "ipython3",
   "version": "3.8.6"
  }
 },
 "nbformat": 4,
 "nbformat_minor": 4
}
