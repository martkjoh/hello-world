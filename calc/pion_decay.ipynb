{
 "metadata": {
  "language_info": {
   "codemirror_mode": {
    "name": "ipython",
    "version": 3
   },
   "file_extension": ".py",
   "mimetype": "text/x-python",
   "name": "python",
   "nbconvert_exporter": "python",
   "pygments_lexer": "ipython3",
   "version": "3.8.3-final"
  },
  "orig_nbformat": 2,
  "kernelspec": {
   "name": "python3",
   "display_name": "Python 3"
  }
 },
 "nbformat": 4,
 "nbformat_minor": 2,
 "cells": [
  {
   "cell_type": "code",
   "execution_count": null,
   "metadata": {},
   "outputs": [],
   "source": [
    "from calcs.spinor import *\n",
    "from calcs.numerics import sci\n",
    "from calcs.tensors import print_tensor\n",
    "from IPython.display import display, Latex\n",
    "\n",
    "m_π = 140\n",
    "m_μ = 106\n",
    "m_e = 0.51"
   ]
  },
  {
   "cell_type": "code",
   "execution_count": null,
   "metadata": {},
   "outputs": [],
   "source": [
    "ratio = m_e**2 * (m_π **2 - m_e**2)**2 / (m_μ**2 * (m_π **2 - m_μ**2)**2 )\n",
    "sci(ratio)"
   ]
  },
  {
   "cell_type": "code",
   "execution_count": null,
   "metadata": {},
   "outputs": [],
   "source": [
    "for i in range(dim):\n",
    "    display(Latex(\"$\" + sp.latex(sp.Matrix(γ[i])) + \"$\"))"
   ]
  },
  {
   "cell_type": "code",
   "execution_count": null,
   "metadata": {},
   "outputs": [],
   "source": [
    "AV = (γ - γ5_γ)\n",
    "p_u = np.array([sp.symbols(\"p^{(\" + str(j) + \")}_\" + str(i)) for j in range(3) for i in range(dim)]).reshape(3, dim, )\n",
    "p_d = [lower_indx(p_u[i], g, 0, 1) for i in range(len(p_u))]\n",
    "ps = [p_d[0], p_d[1], p_d[0], p_d[2]]\n",
    "\n",
    "t = Tr((γ, AV, γ, AV))\n",
    "t1 = sp.simplify(contract_tensor_vector(t, ps))\n",
    "t1"
   ]
  },
  {
   "cell_type": "code",
   "execution_count": null,
   "metadata": {},
   "outputs": [],
   "source": [
    "t = Tr((γ, γ, γ, γ))\n",
    "t2 = sp.simplify(contract_tensor_vector(t, ps))\n",
    "t2"
   ]
  },
  {
   "cell_type": "code",
   "execution_count": null,
   "metadata": {},
   "outputs": [],
   "source": [
    "sp.simplify(t1 / t2)"
   ]
  },
  {
   "cell_type": "code",
   "execution_count": null,
   "metadata": {},
   "outputs": [],
   "source": [
    "slash(p_d[0])"
   ]
  },
  {
   "cell_type": "code",
   "execution_count": null,
   "metadata": {},
   "outputs": [],
   "source": [
    "sp.Matrix(contract_tensor_vector(γ, [p_d[0]]))"
   ]
  },
  {
   "cell_type": "code",
   "execution_count": null,
   "metadata": {},
   "outputs": [],
   "source": [
    "m = sp.Symbol(\"m\")\n",
    "p2 = sum(p_u[0] * p_d[0])\n",
    "p2\n",
    "# print(t1)\n",
    "asdf = t1.collect(p2)\n",
    "# t1.subs(sum(p_d[0] * p_u[0]), m)\n",
    "asdf\n",
    "# for key in asdf.keys():\n",
    "#     # display(Latex(\"$\" + sp.latex(key) + \"$\"))\n",
    "#     print(key)"
   ]
  },
  {
   "cell_type": "code",
   "execution_count": null,
   "metadata": {},
   "outputs": [],
   "source": [
    "t1"
   ]
  },
  {
   "cell_type": "code",
   "execution_count": null,
   "metadata": {},
   "outputs": [],
   "source": [
    "\n",
    "a = ( 2*sum(p_d[0] * p_u[1]) *  sum(p_d[0] * p_u[2]) - sum(p_d[0] * p_u[0]) *  sum(p_d[1] * p_u[2]))\n",
    "a\n",
    "# a = a.expand()\n",
    "# sp.factor(a)\n",
    "# # for p in p_u:\n",
    "# #     display(Latex(\"$\" + sp.latex(p) + \"$\"))\n",
    "# (a/t1).simplify()\n",
    "# (a/t2).simplify()\n",
    "sp.gcd_terms(a.expand())\n",
    "# .collect(sum(p_d[0] * p_u[1]))"
   ]
  },
  {
   "source": [
    "# Muon decay"
   ],
   "cell_type": "markdown",
   "metadata": {}
  },
  {
   "cell_type": "code",
   "execution_count": null,
   "metadata": {},
   "outputs": [],
   "source": [
    "p = np.array([sp.symbols(\"p^{(\" + str(j) + \")}_\" + str(i)) for j in range(4) for i in range(dim)]).reshape(dim, dim)\n",
    "for a in p:\n",
    "    print_tensor(a, \"p\")"
   ]
  },
  {
   "cell_type": "code",
   "execution_count": null,
   "metadata": {},
   "outputs": [],
   "source": [
    "AV = γ - γ_γ5\n",
    "t = Tr((γ, AV, γ, AV))\n",
    "\n",
    "p[0] = lower_indx(p[0], g, 0, 1)\n",
    "p[3] = lower_indx(p[3], g, 0, 1)\n",
    "t2 = lower_indx(lower_indx(lower_indx(lower_indx(t2, g, 0, 4), g, 1, 4), g, 2, 4), g, 3, 4)\n",
    "\n",
    "M2 = oe.contract(\"ijkl, imkn, j, m, l, n\", t, t, *p, backend=\"object\")\n",
    "\n",
    "sp.factor(M2)"
   ]
  },
  {
   "cell_type": "code",
   "execution_count": null,
   "metadata": {},
   "outputs": [],
   "source": [
    "e = sp.symbols(\"\\epsilon\")\n",
    "AV = γ - e*γ_γ5\n",
    "t = Tr((γ, AV, γ, AV))\n",
    "\n",
    "p[0] = lower_indx(p[0], g, 0, 1)\n",
    "p[3] = lower_indx(p[3], g, 0, 1)\n",
    "t2 = lower_indx(lower_indx(lower_indx(lower_indx(t2, g, 0, 4), g, 1, 4), g, 2, 4), g, 3, 4)\n",
    "\n",
    "M2 = oe.contract(\"ijkl, imkn, j, m, l, n\", t, t, *p, backend=\"object\")\n"
   ]
  },
  {
   "cell_type": "code",
   "execution_count": null,
   "metadata": {},
   "outputs": [],
   "source": [
    "a = sp.collect(M2[None][0], e**2 + 1)\n",
    "sp.factor(a)\n",
    "# for key in a.keys():\n",
    "#     display(Latex(\"$\" + sp.latex(a[key]) + \"$\"))"
   ]
  }
 ]
}