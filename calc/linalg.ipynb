{
 "cells": [
  {
   "cell_type": "code",
   "execution_count": 14,
   "id": "featured-partition",
   "metadata": {},
   "outputs": [],
   "source": [
    "from IPython.display import display, Latex\n",
    "\n",
    "def pprint(expr):\n",
    "    return display(Latex(\"$$\" + latex(expr) +\"$$\"))"
   ]
  },
  {
   "cell_type": "code",
   "execution_count": 22,
   "id": "later-london",
   "metadata": {},
   "outputs": [
    {
     "data": {
      "text/latex": [
       "$$ \\left(\\begin{array}{rr}\n",
       "a & b \\\\\n",
       "b & c\n",
       "\\end{array}\\right) $$"
      ],
      "text/plain": [
       "<IPython.core.display.Latex object>"
      ]
     },
     "metadata": {},
     "output_type": "display_data"
    }
   ],
   "source": [
    "var(\"a, b, c\")\n",
    "\n",
    "V = Matrix([\n",
    "    [a, b],\n",
    "    [b, c]\n",
    "])\n",
    "pprint(V)"
   ]
  },
  {
   "cell_type": "code",
   "execution_count": 31,
   "id": "representative-interval",
   "metadata": {},
   "outputs": [
    {
     "data": {
      "text/latex": [
       "$$ \\left[\\left(\\frac{1}{2} \\, a + \\frac{1}{2} \\, c - \\frac{1}{2} \\, \\sqrt{a^{2} + 4 \\, b^{2} - 2 \\, a c + c^{2}}, \\left[\\left(1,\\,-\\frac{a - c + \\sqrt{a^{2} + 4 \\, b^{2} - 2 \\, a c + c^{2}}}{2 \\, b}\\right)\\right], 1\\right), \\left(\\frac{1}{2} \\, a + \\frac{1}{2} \\, c + \\frac{1}{2} \\, \\sqrt{a^{2} + 4 \\, b^{2} - 2 \\, a c + c^{2}}, \\left[\\left(1,\\,-\\frac{a - c - \\sqrt{a^{2} + 4 \\, b^{2} - 2 \\, a c + c^{2}}}{2 \\, b}\\right)\\right], 1\\right)\\right] $$"
      ],
      "text/plain": [
       "<IPython.core.display.Latex object>"
      ]
     },
     "metadata": {},
     "output_type": "display_data"
    }
   ],
   "source": [
    "eigh = V.eigenvectors_right()\n",
    "eight[0] = simplify(eigh[0])\n",
    "pprint(eigh)"
   ]
  }
 ],
 "metadata": {
  "kernelspec": {
   "display_name": "SageMath 9.0",
   "language": "sage",
   "name": "sagemath"
  },
  "language_info": {
   "codemirror_mode": {
    "name": "ipython",
    "version": 3
   },
   "file_extension": ".py",
   "mimetype": "text/x-python",
   "name": "python",
   "nbconvert_exporter": "python",
   "pygments_lexer": "ipython3",
   "version": "3.8.5"
  }
 },
 "nbformat": 4,
 "nbformat_minor": 5
}
