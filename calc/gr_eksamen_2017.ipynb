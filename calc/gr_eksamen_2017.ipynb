{
 "metadata": {
  "language_info": {
   "codemirror_mode": {
    "name": "ipython",
    "version": 3
   },
   "file_extension": ".py",
   "mimetype": "text/x-python",
   "name": "python",
   "nbconvert_exporter": "python",
   "pygments_lexer": "ipython3",
   "version": "3.8.3-final"
  },
  "orig_nbformat": 2,
  "kernelspec": {
   "name": "python3",
   "display_name": "Python 3"
  }
 },
 "nbformat": 4,
 "nbformat_minor": 2,
 "cells": [
  {
   "cell_type": "code",
   "execution_count": 4,
   "metadata": {},
   "outputs": [],
   "source": [
    "# Only necessary if jupyter server is running in \"div\" folder\n",
    "import sys, os\n",
    "sys.path.insert(0, os.path.abspath(\".\\\\..\"))"
   ]
  },
  {
   "cell_type": "code",
   "execution_count": 5,
   "metadata": {},
   "outputs": [],
   "source": [
    "from calcs.tensors import *"
   ]
  },
  {
   "cell_type": "code",
   "execution_count": 6,
   "metadata": {},
   "outputs": [
    {
     "output_type": "display_data",
     "data": {
      "text/plain": "<IPython.core.display.Latex object>",
      "text/latex": "$\\left[\\begin{matrix}- f{\\left(r \\right)} & 0 & 0\\\\0 & \\frac{1}{f{\\left(r \\right)}} & 0\\\\0 & 0 & r^{2}\\end{matrix}\\right]$"
     },
     "metadata": {}
    },
    {
     "output_type": "display_data",
     "data": {
      "text/plain": "<IPython.core.display.Latex object>",
      "text/latex": "$\\Gamma^t_{\\alpha \\beta} = \\left[\\begin{matrix}0 & \\frac{\\frac{d}{d r} f{\\left(r \\right)}}{2 f{\\left(r \\right)}} & 0\\\\\\frac{\\frac{d}{d r} f{\\left(r \\right)}}{2 f{\\left(r \\right)}} & 0 & 0\\\\0 & 0 & 0\\end{matrix}\\right]$"
     },
     "metadata": {}
    },
    {
     "output_type": "display_data",
     "data": {
      "text/plain": "<IPython.core.display.Latex object>",
      "text/latex": "$\\Gamma^r_{\\alpha \\beta} = \\left[\\begin{matrix}\\frac{f{\\left(r \\right)} \\frac{d}{d r} f{\\left(r \\right)}}{2} & 0 & 0\\\\0 & - \\frac{\\frac{d}{d r} f{\\left(r \\right)}}{2 f{\\left(r \\right)}} & 0\\\\0 & 0 & - r f{\\left(r \\right)}\\end{matrix}\\right]$"
     },
     "metadata": {}
    },
    {
     "output_type": "display_data",
     "data": {
      "text/plain": "<IPython.core.display.Latex object>",
      "text/latex": "$\\Gamma^\\varphi_{\\alpha \\beta} = \\left[\\begin{matrix}0 & 0 & 0\\\\0 & 0 & \\frac{1}{r}\\\\0 & \\frac{1}{r} & 0\\end{matrix}\\right]$"
     },
     "metadata": {}
    },
    {
     "output_type": "stream",
     "name": "stdout",
     "text": [
      "Ricci tensor:\n"
     ]
    },
    {
     "output_type": "display_data",
     "data": {
      "text/plain": "<IPython.core.display.Latex object>",
      "text/latex": "$\\left[\\begin{matrix}- \\frac{f{\\left(r \\right)} \\frac{d^{2}}{d r^{2}} f{\\left(r \\right)}}{2} - \\frac{f{\\left(r \\right)} \\frac{d}{d r} f{\\left(r \\right)}}{2 r} & 0 & 0\\\\0 & \\frac{\\frac{d^{2}}{d r^{2}} f{\\left(r \\right)}}{2 f{\\left(r \\right)}} + \\frac{\\frac{d}{d r} f{\\left(r \\right)}}{2 r f{\\left(r \\right)}} & 0\\\\0 & 0 & r \\frac{d}{d r} f{\\left(r \\right)}\\end{matrix}\\right]$"
     },
     "metadata": {}
    },
    {
     "output_type": "stream",
     "name": "stdout",
     "text": [
      "Ricci scalar:\n"
     ]
    },
    {
     "output_type": "display_data",
     "data": {
      "text/plain": "<IPython.core.display.Latex object>",
      "text/latex": "$\\frac{d^{2}}{d r^{2}} f{\\left(r \\right)} + \\frac{2 \\frac{d}{d r} f{\\left(r \\right)}}{r}$"
     },
     "metadata": {}
    }
   ],
   "source": [
    "t, r, ph = symbols(\"t, r, \\\\varphi\")\n",
    "f = sp.Function(\"f\")(r)\n",
    "\n",
    "g = sp.Matrix([\n",
    "    [-f, 0, 0],\n",
    "    [0, 1/f, 0],\n",
    "    [0, 0, r**2]\n",
    "])\n",
    "\n",
    "metric_analysis(g, (t, r, ph))"
   ]
  },
  {
   "source": [
    "# ex 2"
   ],
   "cell_type": "markdown",
   "metadata": {}
  },
  {
   "cell_type": "code",
   "execution_count": 7,
   "metadata": {},
   "outputs": [
    {
     "output_type": "execute_result",
     "data": {
      "text/plain": [
       "1/(x**2 + 1)"
      ],
      "text/latex": "$\\displaystyle \\frac{1}{x^{2} + 1}$"
     },
     "metadata": {},
     "execution_count": 7
    }
   ],
   "source": [
    "from sympy import atan\n",
    "\n",
    "x, y, z = sp.symbols(\"x, y, z\")\n",
    "sp.diff(atan(x))"
   ]
  }
 ]
}