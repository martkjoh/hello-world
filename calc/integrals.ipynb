{
 "metadata": {
  "language_info": {
   "codemirror_mode": {
    "name": "ipython",
    "version": 3
   },
   "file_extension": ".py",
   "mimetype": "text/x-python",
   "name": "python",
   "nbconvert_exporter": "python",
   "pygments_lexer": "ipython3",
   "version": "3.8.3-final"
  },
  "orig_nbformat": 2,
  "kernelspec": {
   "name": "python3",
   "display_name": "Python 3.8.3 32-bit",
   "metadata": {
    "interpreter": {
     "hash": "006f925d2ee23658d76ff2f111fbd9c55c859bbf04229732ee87680bbf4585d6"
    }
   }
  }
 },
 "nbformat": 4,
 "nbformat_minor": 2,
 "cells": [
  {
   "cell_type": "code",
   "execution_count": 10,
   "metadata": {},
   "outputs": [
    {
     "output_type": "execute_result",
     "data": {
      "text/plain": [
       "(3**(1/3)/9 + 1/3)*log(x + 3**(1/3)) + (1/3 - 3**(1/3)/18)*log(x**2 - 3**(1/3)*x + 3**(2/3)) + 3**(5/6)*atan(2*3**(1/6)*x/3 - sqrt(3)/3)/9"
      ],
      "text/latex": "$\\displaystyle \\left(\\frac{\\sqrt[3]{3}}{9} + \\frac{1}{3}\\right) \\log{\\left(x + \\sqrt[3]{3} \\right)} + \\left(\\frac{1}{3} - \\frac{\\sqrt[3]{3}}{18}\\right) \\log{\\left(x^{2} - \\sqrt[3]{3} x + 3^{\\frac{2}{3}} \\right)} + \\frac{3^{\\frac{5}{6}} \\operatorname{atan}{\\left(\\frac{2 \\sqrt[6]{3} x}{3} - \\frac{\\sqrt{3}}{3} \\right)}}{9}$"
     },
     "metadata": {},
     "execution_count": 10
    }
   ],
   "source": [
    "# Simplify, expand, partial fraction decomp\n",
    "from sympy import simplify, expand, apart, symbols\n",
    "from sympy import oo, sin, cos, exp, log, cosh, sinh, tan, tanh, sqrt, pi\n",
    "from sympy import integrate, Function\n",
    "\n",
    "import sympy as sp\n",
    "\n",
    "x, y = symbols(\"x, y\")\n",
    "integrate((x**2 + 1) / (x**3 + 3), x)"
   ]
  },
  {
   "cell_type": "code",
   "execution_count": 3,
   "metadata": {},
   "outputs": [
    {
     "output_type": "execute_result",
     "data": {
      "text/plain": [
       "-pi/2"
      ],
      "text/latex": "$\\displaystyle - \\frac{\\pi}{2}$"
     },
     "metadata": {},
     "execution_count": 3
    }
   ],
   "source": [
    "# The eigentime of a massive particle falling from the \n",
    "# event horizon to the singularity of a swartzschild black hole\n",
    "integrate(sqrt(x / (1 - x)), (x, 1, 0))"
   ]
  },
  {
   "cell_type": "code",
   "execution_count": 16,
   "metadata": {},
   "outputs": [
    {
     "output_type": "execute_result",
     "data": {
      "text/plain": [
       "120*a**6"
      ],
      "text/latex": "$\\displaystyle 120 a^{6}$"
     },
     "metadata": {},
     "execution_count": 16
    }
   ],
   "source": [
    "a = symbols(\"a\", positive=True)\n",
    "integrate(x**5*exp(-x / a), (x, 0, oo))"
   ]
  },
  {
   "cell_type": "code",
   "execution_count": 21,
   "metadata": {},
   "outputs": [
    {
     "output_type": "execute_result",
     "data": {
      "text/plain": [
       "1/sqrt(1 - 1/x)"
      ],
      "text/latex": "$\\displaystyle \\frac{1}{\\sqrt{1 - \\frac{1}{x}}}$"
     },
     "metadata": {},
     "execution_count": 21
    }
   ],
   "source": [
    "expr = 1/(1 - 1/x)**(sp.Rational(1/2))\n",
    "expr"
   ]
  },
  {
   "cell_type": "code",
   "execution_count": 22,
   "metadata": {},
   "outputs": [
    {
     "output_type": "execute_result",
     "data": {
      "text/plain": [
       "I*pi/2"
      ],
      "text/latex": "$\\displaystyle \\frac{i \\pi}{2}$"
     },
     "metadata": {},
     "execution_count": 22
    }
   ],
   "source": [
    "integrate(expr, (x, 1, 0))"
   ]
  }
 ]
}