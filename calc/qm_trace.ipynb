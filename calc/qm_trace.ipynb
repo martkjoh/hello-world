{
 "cells": [
  {
   "cell_type": "code",
   "execution_count": null,
   "metadata": {},
   "outputs": [],
   "source": [
    "import sympy as sp\n",
    "import numpy as np\n",
    "import opt_einsum as oe\n",
    "\n",
    "from numpy import cos, sin, pi\n",
    "from sympy import sqrt\n",
    "from calcs.tensors import print_tensor, print_scalar\n",
    "from calcs.spinor import s\n",
    "\n",
    "def Tr(A):\n",
    "    return oe.contract(\"ii -> \", A, backend=\"object\")[None][0]\n",
    "\n",
    "p = sp.symbols(\"p\")\n",
    "b0 = np.array([1, 0])\n",
    "b1 = np.array([0, 1])\n",
    "b = np.array([\n",
    "    [np.kron(b0, b0), np.kron(b0, b1)],\n",
    "    [np.kron(b1, b0), np.kron(b1, b1)]\n",
    "])\n",
    "\n",
    "I4= np.identity(4, dtype=type(sp.Rational(1)))\n",
    "I2= np.identity(2, dtype=type(sp.Rational(1)))\n",
    "\n",
    "AB = 1 / sqrt(2) * (b[0, 0] + b[1, 1])\n",
    "\n",
    "c = sp.symbols(\"c\")\n",
    "rho = c * I4 +  (2 - c**2) * np.outer(AB, AB)\n",
    "\n",
    "print_tensor(np.outer(AB, AB))\n",
    "print_tensor(rho)\n",
    "\n",
    "Q = np.kron(s[2], I2) + np.kron(I2, s[2])\n",
    "print_tensor(Q, \"Q\")\n",
    "\n",
    "print_scalar(Tr(rho @ Q))\n"
   ]
  }
 ],
 "metadata": {
  "kernelspec": {
   "display_name": "Python 3.8.6 64-bit",
   "language": "sage",
   "name": "python38664bitb4df3fc486b545038be32c2c0a9bfd81"
  },
  "language_info": {
   "name": "",
   "version": "3.8.6-final"
  }
 },
 "nbformat": 4,
 "nbformat_minor": 4
}