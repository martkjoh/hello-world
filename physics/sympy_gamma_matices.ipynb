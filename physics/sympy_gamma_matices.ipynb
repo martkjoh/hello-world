{
 "cells": [
  {
   "cell_type": "code",
   "execution_count": 1,
   "metadata": {},
   "outputs": [],
   "source": [
    "import sympy as sp"
   ]
  },
  {
   "cell_type": "markdown",
   "metadata": {},
   "source": [
    "Alt+DSympy gives you the ability to use python to do symbolic calculations, as numpy does for numerics. Fisrtly, we can use some of IPythons built in functions to get easily readable and pretty print outs."
   ]
  },
  {
   "cell_type": "code",
   "execution_count": 2,
   "metadata": {},
   "outputs": [],
   "source": [
    "from IPython.display import display, Latex\n",
    "\n",
    "def print_expression(S, name=\"\"):\n",
    "    \"\"\"Print out a single sympy expression\"\"\"\n",
    "    string = \"$$\" \n",
    "    if name!=\"\": string = string + name + \"=\" \n",
    "    string = string + sp.latex(S) + \"$$\"\n",
    "    return display(Latex(string))"
   ]
  },
  {
   "cell_type": "markdown",
   "metadata": {},
   "source": [
    "The basic type in sympy is the symbols. Out of these we can make expressions, and manipulate them."
   ]
  },
  {
   "cell_type": "code",
   "execution_count": null,
   "metadata": {},
   "outputs": [],
   "source": [
    "a, b, c, x, y, z = sp.symbols(\"a, b, c, x, y, z\")\n",
    "f = 2 + x**2*y + sp.exp(x + y)\n",
    "print_expression(f, name=\"f(x, y)\")"
   ]
  },
  {
   "cell_type": "code",
   "execution_count": null,
   "metadata": {},
   "outputs": [],
   "source": [
    "f.diff(x).diff(y)"
   ]
  },
  {
   "cell_type": "code",
   "execution_count": null,
   "metadata": {},
   "outputs": [],
   "source": [
    "sp.integrate(f, (x, 0, a))"
   ]
  },
  {
   "cell_type": "code",
   "execution_count": null,
   "metadata": {},
   "outputs": [],
   "source": [
    "g = sp.lambdify([x, y], f) # make a regular python funciton\n",
    "print(g(1, 1))"
   ]
  },
  {
   "cell_type": "markdown",
   "metadata": {},
   "source": [
    "We can manipulate arbitrary order symbolic tensors with the Array class "
   ]
  },
  {
   "cell_type": "code",
   "execution_count": null,
   "metadata": {},
   "outputs": [],
   "source": [
    "A = sp.Array([[x, x*y], [sp.sin(x), x**y]])\n",
    "print_expression(A)\n",
    "print_expression(A.diff(x))\n",
    "B = sp.Array([[x**2, y - x], [y, sp.exp(y/x)]])\n",
    "print_expression(A.applyfunc(lambda x : x**2))\n"
   ]
  },
  {
   "cell_type": "markdown",
   "metadata": {},
   "source": [
    "Matrix product, or a more general contraction of indecies, is done by first a tenosr product, then a contraction. For example, the matrix product $AB$ can be done by:"
   ]
  },
  {
   "cell_type": "code",
   "execution_count": null,
   "metadata": {},
   "outputs": [],
   "source": [
    "from sympy import tensorproduct as tp\n",
    "from sympy import tensorcontraction as tc\n",
    "\n",
    "print_expression(tc(tp(A, B), (1, 2)))"
   ]
  },
  {
   "cell_type": "markdown",
   "metadata": {},
   "source": [
    "If the array is 2D, there is more funcitonality, for example eigenvectors, in the Matrix calss. This array is not quite as rich as the numpy array. You can numpy arrays with sympy symbols, if anything is missing.\n",
    "\n",
    "Indexed objects gives the possibility manipulate tensors with symbolic indecies, wich ranges from $0$ to $n - 1$"
   ]
  },
  {
   "cell_type": "code",
   "execution_count": null,
   "metadata": {},
   "outputs": [],
   "source": [
    "# Horrible hack to print indexed objects, courtesy StackOverflow: https://stackoverflow.com/questions/61470842/strange-printing-in-sympy-for-indexed-variables\n",
    "from sympy import *\n",
    "from sympy.printing.latex import LatexPrinter\n",
    "\n",
    "class CustomLatexPrinter(LatexPrinter):\n",
    "    def _print_Idx(self, expr):\n",
    "        return expr.name\n",
    "\n",
    "    @classmethod\n",
    "    def printer(cls, expr, **kwargs):\n",
    "        return cls(kwargs).doprint(expr)\n",
    "\n",
    "init_printing(use_latex='mathjax', latex_printer=CustomLatexPrinter.printer)"
   ]
  },
  {
   "cell_type": "code",
   "execution_count": null,
   "metadata": {},
   "outputs": [],
   "source": [
    "i, j, m, n = sp.symbols(\"i, j, m, n\", integer=True)\n",
    "i = sp.Idx(i, n)    # A symbolic index\n",
    "j = sp.Idx(j, n)\n",
    "z = sp.IndexedBase(\"z\")    # An object with indecies, like a tensor\n",
    "z[i].diff(z[j])"
   ]
  },
  {
   "cell_type": "code",
   "execution_count": null,
   "metadata": {},
   "outputs": [],
   "source": [
    "f = sp.sqrt(sp.Sum(z[i]**2, (i, 0, n-1)))\n",
    "f"
   ]
  },
  {
   "cell_type": "markdown",
   "metadata": {},
   "source": [
    "sp.doit(j<n)"
   ]
  },
  {
   "cell_type": "markdown",
   "metadata": {},
   "source": [
    "Now, we come to the $\\gamma_\\mu$ - matricies. \n"
   ]
  },
  {
   "cell_type": "code",
   "execution_count": null,
   "metadata": {},
   "outputs": [],
   "source": [
    "# More printing hacks. This allows the gamma matrices to get latex names\n",
    "# Based partly on the original sympy code https://github.com/sympy/\n",
    "\n",
    "class CustomLatexPrinter(LatexPrinter):\n",
    "\n",
    "    def _printer_tensor_indices2(self, name, indices, index_map={}):\n",
    "        out_str = name # This is slighly changed from the source code\n",
    "        last_valence = None\n",
    "        prev_map = None\n",
    "        for index in indices:\n",
    "            new_valence = index.is_up\n",
    "            if ((index in index_map) or prev_map) and \\\n",
    "                    last_valence == new_valence:\n",
    "                out_str += \",\"\n",
    "            if last_valence != new_valence:\n",
    "                if last_valence is not None:\n",
    "                    out_str += \"}\"\n",
    "                if index.is_up:\n",
    "                    out_str += \"{}^{\"\n",
    "                else:\n",
    "                    out_str += \"{}_{\"\n",
    "            out_str += self._print(index.args[0])\n",
    "            if index in index_map:\n",
    "                out_str += \"=\"\n",
    "                out_str += self._print(index_map[index])\n",
    "                prev_map = True\n",
    "            else:\n",
    "                prev_map = False\n",
    "            last_valence = new_valence\n",
    "        if last_valence is not None:\n",
    "            out_str += \"}\"\n",
    "        return out_str\n",
    "\n",
    "    def _print_Tensor(self, expr):\n",
    "        name = \"\"\n",
    "        try:\n",
    "            name = expr.args[0]._name\n",
    "        except: \n",
    "            name = expr.args[0].args[0].name\n",
    "\n",
    "        indices = expr.get_indices()\n",
    "        return self._printer_tensor_indices2(name, indices)\n",
    "\n",
    "        def _print_TensMul(self, expr):\n",
    "            print(\"aaaaa\")\n",
    "        \n",
    "    @classmethod\n",
    "    def printer(cls, expr, **kwargs):\n",
    "        return cls(kwargs).doprint(expr)\n",
    "\n",
    "\n",
    "init_printing(use_latex='mathjax', latex_printer=CustomLatexPrinter.printer)"
   ]
  },
  {
   "cell_type": "code",
   "execution_count": null,
   "metadata": {},
   "outputs": [],
   "source": [
    "class CustomLatexPrinter(LatexPrinter):\n",
    "    def _print_TensMul(self, expr):\n",
    "        return expr.name\n",
    "\n",
    "    @classmethod\n",
    "    def printer(cls, expr, **kwargs):\n",
    "        return cls(kwargs).doprint(expr)\n",
    "\n",
    "init_printing(use_latex='mathjax', latex_printer=CustomLatexPrinter.printer)"
   ]
  },
  {
   "cell_type": "code",
   "execution_count": 4,
   "metadata": {},
   "outputs": [
    {
     "data": {
      "text/plain": [
       "sympy.tensor.tensor.Tensor"
      ]
     },
     "execution_count": 4,
     "metadata": {},
     "output_type": "execute_result"
    }
   ],
   "source": [
    "from sympy.physics.hep.gamma_matrices import GammaMatrix as G, LorentzIndex, gamma_trace, simplify_gamma_expression, kahane_simplify\n",
    "G._name = \"\\gamma\"\n",
    "g = LorentzIndex.metric\n",
    "g._name = \"g\"\n",
    "eps = LorentzIndex.epsilon\n",
    "eps._name = \"\\\\varepsilon\"\n",
    "\n",
    "from sympy.tensor.tensor import TensorIndex, tensor_indices, TensorIndexType\n",
    "\n",
    "i0,i1,i2,i3,i4,i5 = tensor_indices('i_0:6', LorentzIndex)\n",
    "G(i0)\n",
    "type(G(i0))"
   ]
  },
  {
   "cell_type": "code",
   "execution_count": 5,
   "metadata": {},
   "outputs": [
    {
     "data": {
      "text/latex": [
       "$\\displaystyle metric{}^{i_{0}i_{1}}$"
      ],
      "text/plain": [
       "metric(i_0, i_1)"
      ]
     },
     "execution_count": 5,
     "metadata": {},
     "output_type": "execute_result"
    }
   ],
   "source": [
    "g(i0, i1)"
   ]
  },
  {
   "cell_type": "code",
   "execution_count": 8,
   "metadata": {},
   "outputs": [
    {
     "data": {
      "text/latex": [
       "$\\displaystyle \\left(\\frac{1}{24}\\right)Eps{}_{L_{0}L_{1}L_{2}L_{3}}GammaMatrix{}^{L_{0}}GammaMatrix{}^{L_{1}}GammaMatrix{}^{L_{2}}GammaMatrix{}^{L_{3}}$"
      ],
      "text/plain": [
       "(1/24)*Eps(-L_0, -L_1, -L_2, -L_3)*GammaMatrix(L_0)*GammaMatrix(L_1)*GammaMatrix(L_2)*GammaMatrix(L_3)"
      ]
     },
     "execution_count": 8,
     "metadata": {},
     "output_type": "execute_result"
    }
   ],
   "source": [
    "G5 = 1 / sp.factorial(4) * eps(-i0, -i1, -i2, -i3) * G(i0) * G(i1) * G(i2) * G(i3) \n",
    "G5"
   ]
  },
  {
   "cell_type": "code",
   "execution_count": 9,
   "metadata": {},
   "outputs": [
    {
     "data": {
      "text/latex": [
       "$\\displaystyle -2GammaMatrix{}^{i_{3}}GammaMatrix{}^{i_{2}}GammaMatrix{}^{i_{1}}$"
      ],
      "text/plain": [
       "-2*GammaMatrix(i_3)*GammaMatrix(i_2)*GammaMatrix(i_1)"
      ]
     },
     "execution_count": 9,
     "metadata": {},
     "output_type": "execute_result"
    }
   ],
   "source": [
    "kahane_simplify(G(i0) * G(i1) * G(i2) * G(i3) *  G(-i0))"
   ]
  },
  {
   "cell_type": "code",
   "execution_count": 11,
   "metadata": {},
   "outputs": [
    {
     "name": "stdout",
     "output_type": "stream",
     "text": [
      "<class 'sympy.tensor.tensor.TensMul'>\n"
     ]
    },
    {
     "data": {
      "text/latex": [
       "$\\displaystyle \\left(\\frac{1}{24}\\right)GammaMatrix{}^{i_{0}}GammaMatrix{}^{i_{1}}GammaMatrix{}^{i_{2}}GammaMatrix{}^{i_{3}}Eps{}_{L_{0}L_{1}L_{2}L_{3}}GammaMatrix{}^{L_{0}}GammaMatrix{}^{L_{1}}GammaMatrix{}^{L_{2}}GammaMatrix{}^{L_{3}}$"
      ],
      "text/plain": [
       "(1/24)*GammaMatrix(i_0)*GammaMatrix(i_1)*GammaMatrix(i_2)*GammaMatrix(i_3)*Eps(-L_0, -L_1, -L_2, -L_3)*GammaMatrix(L_0)*GammaMatrix(L_1)*GammaMatrix(L_2)*GammaMatrix(L_3)"
      ]
     },
     "execution_count": 11,
     "metadata": {},
     "output_type": "execute_result"
    }
   ],
   "source": [
    "print(type(G(i0) * G(i1) * G(i2) * G(i3) * G5))\n",
    "A = G(i0) * G(i1) * G(i2) * G(i3) * G5\n",
    "A"
   ]
  },
  {
   "cell_type": "code",
   "execution_count": 19,
   "metadata": {},
   "outputs": [
    {
     "ename": "AttributeError",
     "evalue": "'Zero' object has no attribute 'contract_metric'",
     "output_type": "error",
     "traceback": [
      "\u001b[0;31m---------------------------------------------------------------------------\u001b[0m",
      "\u001b[0;31mAttributeError\u001b[0m                            Traceback (most recent call last)",
      "\u001b[0;32m<ipython-input-19-a1bfc0d5d1e1>\u001b[0m in \u001b[0;36m<module>\u001b[0;34m\u001b[0m\n\u001b[0;32m----> 1\u001b[0;31m \u001b[0mgamma_trace\u001b[0m\u001b[0;34m(\u001b[0m\u001b[0mG5\u001b[0m\u001b[0;34m)\u001b[0m\u001b[0;34m\u001b[0m\u001b[0;34m\u001b[0m\u001b[0m\n\u001b[0m",
      "\u001b[0;32m~/.local/lib/python3.8/site-packages/sympy/physics/hep/gamma_matrices.py\u001b[0m in \u001b[0;36mgamma_trace\u001b[0;34m(t)\u001b[0m\n\u001b[1;32m    191\u001b[0m         \u001b[0;32mreturn\u001b[0m \u001b[0mres\u001b[0m\u001b[0;34m\u001b[0m\u001b[0;34m\u001b[0m\u001b[0m\n\u001b[1;32m    192\u001b[0m     \u001b[0mt\u001b[0m \u001b[0;34m=\u001b[0m \u001b[0m_simplify_single_line\u001b[0m\u001b[0;34m(\u001b[0m\u001b[0mt\u001b[0m\u001b[0;34m)\u001b[0m\u001b[0;34m\u001b[0m\u001b[0;34m\u001b[0m\u001b[0m\n\u001b[0;32m--> 193\u001b[0;31m     \u001b[0mres\u001b[0m \u001b[0;34m=\u001b[0m \u001b[0m_trace_single_line\u001b[0m\u001b[0;34m(\u001b[0m\u001b[0mt\u001b[0m\u001b[0;34m)\u001b[0m\u001b[0;34m\u001b[0m\u001b[0;34m\u001b[0m\u001b[0m\n\u001b[0m\u001b[1;32m    194\u001b[0m     \u001b[0;32mreturn\u001b[0m \u001b[0mres\u001b[0m\u001b[0;34m\u001b[0m\u001b[0;34m\u001b[0m\u001b[0m\n\u001b[1;32m    195\u001b[0m \u001b[0;34m\u001b[0m\u001b[0m\n",
      "\u001b[0;32m~/.local/lib/python3.8/site-packages/sympy/physics/hep/gamma_matrices.py\u001b[0m in \u001b[0;36m_trace_single_line\u001b[0;34m(t)\u001b[0m\n\u001b[1;32m    303\u001b[0m         \u001b[0;32mreturn\u001b[0m \u001b[0mTensAdd\u001b[0m\u001b[0;34m(\u001b[0m\u001b[0;34m*\u001b[0m\u001b[0ma\u001b[0m\u001b[0;34m)\u001b[0m\u001b[0;34m\u001b[0m\u001b[0;34m\u001b[0m\u001b[0m\n\u001b[1;32m    304\u001b[0m     \u001b[0;32melif\u001b[0m \u001b[0misinstance\u001b[0m\u001b[0;34m(\u001b[0m\u001b[0mt\u001b[0m\u001b[0;34m,\u001b[0m \u001b[0;34m(\u001b[0m\u001b[0mTensor\u001b[0m\u001b[0;34m,\u001b[0m \u001b[0mTensMul\u001b[0m\u001b[0;34m)\u001b[0m\u001b[0;34m)\u001b[0m\u001b[0;34m:\u001b[0m\u001b[0;34m\u001b[0m\u001b[0;34m\u001b[0m\u001b[0m\n\u001b[0;32m--> 305\u001b[0;31m         \u001b[0mr\u001b[0m \u001b[0;34m=\u001b[0m \u001b[0mt\u001b[0m\u001b[0;34m.\u001b[0m\u001b[0mcoeff\u001b[0m\u001b[0;34m*\u001b[0m\u001b[0m_trace_single_line1\u001b[0m\u001b[0;34m(\u001b[0m\u001b[0mt\u001b[0m\u001b[0;34m)\u001b[0m\u001b[0;34m\u001b[0m\u001b[0;34m\u001b[0m\u001b[0m\n\u001b[0m\u001b[1;32m    306\u001b[0m         \u001b[0;32mreturn\u001b[0m \u001b[0mr\u001b[0m\u001b[0;34m\u001b[0m\u001b[0;34m\u001b[0m\u001b[0m\n\u001b[1;32m    307\u001b[0m     \u001b[0;32melse\u001b[0m\u001b[0;34m:\u001b[0m\u001b[0;34m\u001b[0m\u001b[0;34m\u001b[0m\u001b[0m\n",
      "\u001b[0;32m~/.local/lib/python3.8/site-packages/sympy/physics/hep/gamma_matrices.py\u001b[0m in \u001b[0;36m_trace_single_line1\u001b[0;34m(t)\u001b[0m\n\u001b[1;32m    295\u001b[0m             \u001b[0;32mif\u001b[0m \u001b[0;32mnot\u001b[0m \u001b[0mt3\u001b[0m\u001b[0;34m:\u001b[0m\u001b[0;34m\u001b[0m\u001b[0;34m\u001b[0m\u001b[0m\n\u001b[1;32m    296\u001b[0m                 \u001b[0;32mreturn\u001b[0m \u001b[0mt3\u001b[0m\u001b[0;34m\u001b[0m\u001b[0;34m\u001b[0m\u001b[0m\n\u001b[0;32m--> 297\u001b[0;31m             \u001b[0mt3\u001b[0m \u001b[0;34m=\u001b[0m \u001b[0mt3\u001b[0m\u001b[0;34m.\u001b[0m\u001b[0mcontract_metric\u001b[0m\u001b[0;34m(\u001b[0m\u001b[0mg\u001b[0m\u001b[0;34m)\u001b[0m\u001b[0;34m\u001b[0m\u001b[0;34m\u001b[0m\u001b[0m\n\u001b[0m\u001b[1;32m    298\u001b[0m             \u001b[0;32mreturn\u001b[0m \u001b[0mt3\u001b[0m\u001b[0;34m\u001b[0m\u001b[0;34m\u001b[0m\u001b[0m\n\u001b[1;32m    299\u001b[0m \u001b[0;34m\u001b[0m\u001b[0m\n",
      "\u001b[0;32m~/.local/lib/python3.8/site-packages/sympy/tensor/tensor.py\u001b[0m in \u001b[0;36mcontract_metric\u001b[0;34m(self, g)\u001b[0m\n\u001b[1;32m   3623\u001b[0m         \u001b[0;32mif\u001b[0m \u001b[0mself\u001b[0m \u001b[0;34m!=\u001b[0m \u001b[0mexpr\u001b[0m\u001b[0;34m:\u001b[0m\u001b[0;34m\u001b[0m\u001b[0;34m\u001b[0m\u001b[0m\n\u001b[1;32m   3624\u001b[0m             \u001b[0mexpr\u001b[0m \u001b[0;34m=\u001b[0m \u001b[0mexpr\u001b[0m\u001b[0;34m.\u001b[0m\u001b[0mcanon_bp\u001b[0m\u001b[0;34m(\u001b[0m\u001b[0;34m)\u001b[0m\u001b[0;34m\u001b[0m\u001b[0;34m\u001b[0m\u001b[0m\n\u001b[0;32m-> 3625\u001b[0;31m             \u001b[0;32mreturn\u001b[0m \u001b[0mexpr\u001b[0m\u001b[0;34m.\u001b[0m\u001b[0mcontract_metric\u001b[0m\u001b[0;34m(\u001b[0m\u001b[0mg\u001b[0m\u001b[0;34m)\u001b[0m\u001b[0;34m\u001b[0m\u001b[0;34m\u001b[0m\u001b[0m\n\u001b[0m\u001b[1;32m   3626\u001b[0m         \u001b[0mpos_map\u001b[0m \u001b[0;34m=\u001b[0m \u001b[0mself\u001b[0m\u001b[0;34m.\u001b[0m\u001b[0m_get_indices_to_args_pos\u001b[0m\u001b[0;34m(\u001b[0m\u001b[0;34m)\u001b[0m\u001b[0;34m\u001b[0m\u001b[0;34m\u001b[0m\u001b[0m\n\u001b[1;32m   3627\u001b[0m         \u001b[0margs\u001b[0m \u001b[0;34m=\u001b[0m \u001b[0mlist\u001b[0m\u001b[0;34m(\u001b[0m\u001b[0mself\u001b[0m\u001b[0;34m.\u001b[0m\u001b[0margs\u001b[0m\u001b[0;34m)\u001b[0m\u001b[0;34m\u001b[0m\u001b[0;34m\u001b[0m\u001b[0m\n",
      "\u001b[0;31mAttributeError\u001b[0m: 'Zero' object has no attribute 'contract_metric'"
     ]
    }
   ],
   "source": [
    "gamma_trace(G5)"
   ]
  },
  {
   "cell_type": "code",
   "execution_count": null,
   "metadata": {},
   "outputs": [],
   "source": [
    "eps = LorentzIndex.epsilon\n",
    "eps._name = \"\\\\varepsilon\"\n",
    "eps(i0, i1, i2, i3)"
   ]
  },
  {
   "cell_type": "code",
   "execution_count": null,
   "metadata": {},
   "outputs": [],
   "source": [
    "from sympy.tensor.tensor import TensorIndexType, TensorHead\n",
    "Lorentz = TensorIndexType('Lorentz', dummy_name='L')\n",
    "T = TensorHead(\"T\", [Lorentz, Lorentz])\n",
    "print(type(T(i, j)))\n",
    "T(i, j)"
   ]
  }
 ],
 "metadata": {
  "kernelspec": {
   "display_name": "Python 3.8.5 64-bit",
   "language": "python",
   "name": "python38564bit3931715d8eef4b53802a78250b9b28cf"
  },
  "language_info": {
   "codemirror_mode": {
    "name": "ipython",
    "version": 3
   },
   "file_extension": ".py",
   "mimetype": "text/x-python",
   "name": "python",
   "nbconvert_exporter": "python",
   "pygments_lexer": "ipython3",
   "version": "3.8.5"
  }
 },
 "nbformat": 4,
 "nbformat_minor": 4
}
