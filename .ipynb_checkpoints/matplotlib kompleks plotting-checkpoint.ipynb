{
 "cells": [
  {
   "cell_type": "markdown",
   "metadata": {},
   "source": [
    "## Plotting av mappinger med komplekse funksjoner\n",
    "\n",
    "\n",
    "Her brukes pythons innebygde funksjonalitet for komplekse tall, [cmath](https://docs.python.org/3.7/library/cmath.html), hvor den imaginære enheten er `1j`. (grrr)\n",
    "\n",
    "Her er det lagd et alternativ til mesgrid - istedenfor å lage et rektangulært grid med x- og y-veriene, kan `make_blob()` lage imaginære verdier som en funksjon av de reélle, og man kan da mape mer spennede sett"
   ]
  },
  {
   "cell_type": "code",
   "execution_count": null,
   "metadata": {},
   "outputs": [],
   "source": [
    "import matplotlib\n",
    "from matplotlib import pyplot as plt\n",
    "plt.ioff()\n",
    "from IPython.display import HTML\n",
    "from matplotlib import animation\n",
    "import numpy as np\n",
    "from numpy import pi, e, sin, cos, sqrt\n",
    "from numpy import log as ln\n",
    "np.set_printoptions(precision=3)\n",
    "from math import *\n",
    "import matplotlib.cm as cm"
   ]
  },
  {
   "cell_type": "code",
   "execution_count": null,
   "metadata": {},
   "outputs": [],
   "source": [
    "# n = oppløsning\n",
    "def make_blob(n, xrange, yrange, form): \n",
    "    x = np.zeros((n, n))\n",
    "    for i in range(n):\n",
    "        x[i] = np.linspace(xrange[0], xrange[1],  n) # The range of the real values of the plot\n",
    "\n",
    "    y = np.zeros((n, n))\n",
    "    for i in range(n):\n",
    "        y[i] = form(x[i], yrange*(i / (n - 1)*2 - 1))\n",
    "    \n",
    "    return x + 1j*y"
   ]
  },
  {
   "cell_type": "code",
   "execution_count": null,
   "metadata": {},
   "outputs": [],
   "source": [
    "def f(z):\n",
    "    return 1/z\n",
    "\n",
    "def F(z):\n",
    "    return (z + r**2/z) + G*1j*ln(z)\n",
    "\n",
    "def rotate(z, theta):\n",
    "    return z * np.exp(-1j * theta)\n",
    "\n",
    "def transelate(z, a, b):\n",
    "    return a*z + b*np.ones_like(z)\n",
    "\n",
    "def jukowski(z):\n",
    "    return 1/2*(z + 1/z)"
   ]
  },
  {
   "cell_type": "code",
   "execution_count": null,
   "metadata": {},
   "outputs": [],
   "source": [
    "# lag en funksjon for øverste kanten av settet, og make_blob vil speile dette om den reélle aksen\n",
    "form = lambda x, i: (i) \n",
    "z = make_blob(20, (-2,2), 2, form)\n",
    "\n",
    "w = z**2\n",
    "\n",
    "fig = plt.figure(figsize=(20, 8))\n",
    "ax_z = plt.subplot(121)\n",
    "ax_fz = plt.subplot(122, sharey=ax_z, sharex=ax_z)\n",
    "\n",
    "ax_z.plot(z.real, z.imag, color=\"blue\")\n",
    "ax_z.plot(z.real.T, z.imag.T, color=\"red\")\n",
    "ax_z.grid(True)\n",
    "\n",
    "ax_fz.plot(w.real, w.imag, color=\"blue\")\n",
    "ax_fz.plot(w.real.T, w.imag.T, color=\"red\")\n",
    "ax_fz.grid(True)\n",
    "\n",
    "ax_z.set_xlim(-2, 2)\n",
    "ax_z.set_ylim(-2, 2)\n",
    "\n",
    "plt.show()"
   ]
  },
  {
   "cell_type": "markdown",
   "metadata": {},
   "source": [
    "## Plotting av nivåkurrver av komplekse funksjoner\n",
    "\n",
    "Her taas en kompleks, analytisk funksjon\n",
    "\\begin{equation}\n",
    "    F(z) = \\Phi (x, y) + i \\Psi (x, y),\n",
    "\\end{equation}\n",
    "og plottes som nivåkurver i det komplekse plan"
   ]
  },
  {
   "cell_type": "code",
   "execution_count": null,
   "metadata": {},
   "outputs": [],
   "source": [
    "form = lambda x, i: 1*(i)\n",
    "z = make_blob(1000, (-2, 2), 2, form)\n",
    "\n",
    "w = 1/z\n",
    "for n in range(0):\n",
    "    w += ln(z + 1j*n/20)\n",
    "    w += ln(z - 1j*n/20)\n",
    "# w = z\n",
    "\n",
    "fig = plt.figure(figsize=(20, 8))\n",
    "ax2 = plt.subplot(121)\n",
    "b = ax2.contour(z.real, z.imag, z.real, np.linspace(-pi, pi, 21), colors=\"red\", linestyles=\"solid\")\n",
    "a = ax2.contour(z.real, z.imag, z.imag, np.linspace(-pi, pi, 21), colors=\"blue\", linestyles=\"solid\")\n",
    "\n",
    "ax1 = plt.subplot(122)\n",
    "b = ax1.contour(z.real, z.imag, w.real, np.linspace(-pi, pi, 21), colors=\"red\", linestyles=\"solid\")\n",
    "a = ax1.contour(z.real, z.imag, w.imag, np.linspace(-pi, pi, 21), colors=\"blue\", linestyles=\"solid\")\n",
    "\n",
    "\n",
    "\n",
    "\n",
    "plt.show()"
   ]
  },
  {
   "cell_type": "code",
   "execution_count": null,
   "metadata": {},
   "outputs": [],
   "source": [
    "form = lambda x, i: i\n",
    "z = make_blob(1000, (0, 10), pi, form)\n",
    "z = np.exp(z)\n",
    "\n",
    "a, b = 1.2, -0.18 + 0.2*1j \n",
    "theta = pi/8\n",
    "U = 5\n",
    "r = 1\n",
    "G = 0.8\n",
    "m = 1\n",
    "\n",
    "\n",
    "w = F(z)\n",
    "unit_circle = np.exp(np.linspace(0, 2*pi, 100) * 1j)\n",
    "\n",
    "z = transelate(z, a, b)\n",
    "unit_circle = transelate(unit_circle, a, b)\n",
    "\n",
    "z = jukowski(z)\n",
    "unit_circle = jukowski(unit_circle)\n",
    "\n",
    "# z = rotate(z, theta)\n",
    "# unit_circle = rotate(unit_circle, theta)\n",
    "\n",
    "plotRange = 3\n",
    "fig = plt.figure(figsize=(16, 14))\n",
    "ax = plt.subplot(111)\n",
    "ax.contour(z.real, z.imag, w.imag, np.linspace(-10, 10, 51), colors=\"blue\", linestyles=\"solid\")\n",
    "ax.plot(unit_circle.real, unit_circle.imag, color=\"black\")\n",
    "ax.grid(True)\n",
    "ax.set_xlim(-plotRange, plotRange)\n",
    "ax.set_ylim(-plotRange, plotRange)\n",
    "\n",
    "plt.show()"
   ]
  },
  {
   "cell_type": "markdown",
   "metadata": {},
   "source": [
    "# Annimasjon\n",
    "\n",
    "Ville det ikke vært fett om vi kunne annimert overgangen til en transformasjon? For eksempel fade en map $z^n$ til $z^n+1$, kontinuerlig?"
   ]
  },
  {
   "cell_type": "code",
   "execution_count": null,
   "metadata": {},
   "outputs": [],
   "source": [
    "fig = plt.figure(figsize=(16, 14))\n",
    "ax = plt.subplot()\n",
    "frames = 100\n",
    "form = lambda x, i: (1)*(i)\n",
    "z1 = make_blob(100, (-2, 2), 2, form)\n",
    "\n",
    "\n",
    "def animate(n):\n",
    "    ax.cla()\n",
    "    n = (n + 1)  / 20\n",
    "    w = z1**n\n",
    "    artist = ax.contour(z1.real, z1.imag, w.imag, np.linspace(-5, 5, 31), colors=\"blue\").collections \\\n",
    "            #+ ax.contour(z1.real, z1.imag, w.real, np.linspace(-5, 5, 31), colors=\"red\").collections\n",
    "    return artist\n",
    "\n",
    "plt.close()"
   ]
  },
  {
   "cell_type": "code",
   "execution_count": null,
   "metadata": {},
   "outputs": [],
   "source": [
    "anim = animation.FuncAnimation(fig, animate, interval=100, frames=frames, blit=True)\n",
    "\n",
    "HTML(anim.to_jshtml())"
   ]
  },
  {
   "cell_type": "code",
   "execution_count": null,
   "metadata": {},
   "outputs": [],
   "source": [
    "fig = plt.figure(figsize=(16, 14))\n",
    "ax = plt.subplot()\n",
    "frames = 400\n",
    "form = lambda x, i: i\n",
    "z2 = make_blob(100, (0, 2), pi, form)\n",
    "unit_circle1 = np.exp(np.linspace(0, 2*pi, 100) * 1j)\n",
    "\n",
    "def animate(n):\n",
    "    ax.cla()\n",
    "    t = n * 0.01\n",
    "    unit_circle1 = np.exp(np.linspace(0, 2*pi, 100) * 1j)\n",
    "    z1 = make_blob(100, (-2, 2), pi, form)    \n",
    "    \n",
    "    if t < 1:\n",
    "        z = z1\n",
    "        w1 = z\n",
    "        w = (z + r**2/z)\n",
    "        unit_circle = unit_circle1\n",
    "        \n",
    "    elif t < 2 and t >= 1:\n",
    "        z = z1\n",
    "        w1 = (z1 + r**2/z1)\n",
    "        w = F(z)\n",
    "        unit_circle = unit_circle1\n",
    "        \n",
    "    elif t < 3 and t >= 2:\n",
    "\n",
    "        w1 = F(z1)\n",
    "        w = w1\n",
    "        z = transelate(z1, a, b)\n",
    "        unit_circle = transelate(unit_circle1, a, b)\n",
    "    \n",
    "    else:\n",
    "        z1 = np.exp(make_blob(100, (0, 2), pi, form))  \n",
    "        w1 = F(z1)\n",
    "        w = w1\n",
    "        z1 = transelate(z1, a, b)\n",
    "        z = jukowski(z1)\n",
    "        unit_circle1 = transelate(unit_circle1, a, b)\n",
    "        unit_circle = jukowski(unit_circle1)\n",
    "\n",
    "    t = t - t // 1    \n",
    "    artist = ax.contour(z.real * t + z1.real*(1 - t), z.imag * t + z1.imag*(1 - t), w.imag * t \\\n",
    "                        + w1.imag*(1 - t), np.linspace(-5, 5, 61), colors=\"blue\", linestyles=\"solid\").collections\n",
    "    artist += ax.plot(unit_circle.real * t + unit_circle1.real*(1 - t), unit_circle.imag * t + unit_circle1.imag*(1 - t))\n",
    "    ax.set_xlim(-2, 2)\n",
    "    ax.set_ylim(-2, 2)\n",
    "    return artist\n",
    "\n",
    "plt.close()"
   ]
  },
  {
   "cell_type": "code",
   "execution_count": null,
   "metadata": {},
   "outputs": [],
   "source": [
    "anim = animation.FuncAnimation(fig, animate, interval=50, frames=frames, blit=True)\n",
    "\n",
    "matplotlib.rcParams['animation.embed_limit'] =  2**128\n",
    "\n",
    "HTML(anim.to_jshtml())"
   ]
  }
 ],
 "metadata": {
  "kernelspec": {
   "display_name": "Python 3",
   "language": "python",
   "name": "python3"
  },
  "language_info": {
   "codemirror_mode": {
    "name": "ipython",
    "version": 3
   },
   "file_extension": ".py",
   "mimetype": "text/x-python",
   "name": "python",
   "nbconvert_exporter": "python",
   "pygments_lexer": "ipython3",
   "version": "3.7.2"
  }
 },
 "nbformat": 4,
 "nbformat_minor": 2
}
