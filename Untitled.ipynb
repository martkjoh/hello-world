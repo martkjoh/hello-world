{
 "cells": [
  {
   "cell_type": "markdown",
   "metadata": {},
   "source": [
    "## Numeric modeling of a solar system"
   ]
  },
  {
   "cell_type": "markdown",
   "metadata": {},
   "source": [
    "### The equation\n",
    "\n",
    "The force between acting on an object (1) from another object (2) is given by\n",
    "\n",
    "$$\n",
    "    \\vec F_{1, 2} = - \\frac{G m_1 m_2}{|r_1 - r_2|^2 } \\hat r_{1, 2},\n",
    "$$\n",
    "\n",
    "where $ \\hat r_{1, 2} $ is the unit vector pointing from 2 t0 1. The force from object (1) acting on (2) is, by Newtons third law, $\\vec F_{2, 1} = - \\vec F_{1, 2}$. Given a set of n objects, the force on each is given by\n",
    "\n",
    "$$\n",
    "    \\vec F_i = \\sum_{i \\neq j} \\vec F_{i, j}.\n",
    "$$\n",
    "\n",
    "Newtons second law gives us a differential equation to work with,\n",
    "\n",
    "$$\n",
    "    \\vec F_i = - \\sum_{i \\neq j} \\frac{G m_i m_j}{|r_i - r_j|^2 } \\hat r_{i, j} = m_i \\frac{\\mathrm{d}^2 \\vec r_i}{\\mathrm{d}t^2}\n",
    "$$\n",
    "\n",
    "Dividing through with $m_1$, and introducing variables $y_1(t) = r(t), y_2(t) = r'(t)$, this can be written as a first order system,\n",
    "\n",
    "$$\n",
    "    y'(t) =\n",
    "        \\begin(pmatrix)\n",
    "            y_1(t) \\\\\n",
    "            y_2(t) \\\\\n",
    "        \\end(pmatrix)\n",
    "$$\n",
    "\n",
    "\\begin(pmatrix)\n",
    " 1\\\\\n",
    " 1\n",
    "\\end(pmatrix\n",
    "### The model\n",
    "\n",
    "An ordinary, autonnmous, first order differential equation,\n",
    "\n",
    "$$\n",
    "    y' = f(y), \\\\\n",
    "    y(0) = w_0 \\in \\mathbb{R}^n,\n",
    "$$\n",
    "\n",
    "can be solved aproximatly by a runge-kutta method,\n",
    "\n",
    "$$  \n",
    "    F_1 = f(w_n). \\\\\n",
    "    F_i = f \\Big( w_n + \\sum_{j = 1}^s a_{i, j} F_j \\Big) \\\\\n",
    "    w_{n + 1} = w_n + \\sum_{i = 1} h c_i F_i\n",
    "$$"
   ]
  }
 ],
 "metadata": {
  "kernelspec": {
   "display_name": "Python 3",
   "language": "python",
   "name": "python3"
  },
  "language_info": {
   "codemirror_mode": {
    "name": "ipython",
    "version": 3
   },
   "file_extension": ".py",
   "mimetype": "text/x-python",
   "name": "python",
   "nbconvert_exporter": "python",
   "pygments_lexer": "ipython3",
   "version": "3.7.3"
  }
 },
 "nbformat": 4,
 "nbformat_minor": 2
}
